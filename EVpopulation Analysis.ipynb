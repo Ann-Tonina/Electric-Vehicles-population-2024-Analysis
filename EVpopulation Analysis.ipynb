{
 "cells": [
  {
   "cell_type": "markdown",
   "id": "30b9055b",
   "metadata": {},
   "source": [
    "# ABOUT DATASET\n",
    "This dataset shows the Battery Electric Vehicles (BEVs) and Plug-in Hybrid Electric Vehicles (PHEVs) that are currently registered through Washington State Department of Licensing (DOL) updated 2024."
   ]
  },
  {
   "cell_type": "markdown",
   "id": "f75607fe",
   "metadata": {},
   "source": [
    "# BUSINESS PROBLEM\n",
    "\n",
    "As electric vehicle (EV) adoption increases in Washington State, policymakers, utility providers, and automakers need data-driven insights to support infrastructure planning, incentive programs and customer outreach. However, understanding where and how EVs are being adopted—by city, model, year, and utility provider is fragmented.\n",
    "\n",
    "## Key Problem:\n",
    "How can stakeholders identify trends, disparities, and opportunities in EV adoption across geographic and demographic regions in Washington State to optimize resource allocation and policy development?"
   ]
  },
  {
   "cell_type": "markdown",
   "id": "8aabdeab",
   "metadata": {},
   "source": [
    "# BUSINESS OBJECTIVES\n",
    "\n",
    "### Adoption Trend Analysis: \n",
    "Identify trends in EV adoption over time, by make, model, and model year.\n",
    "\n",
    "### Geographic Distribution:\n",
    "Analyze EV ownership density by county, city, and legislative district.\n",
    "\n",
    "### Infrastructure Planning:\n",
    "Identify areas with high EV population but limited utility coverage or support for EV infrastructure.\n",
    "\n",
    "### Incentive Effectiveness:\n",
    "Evaluate the correlation between CAFV eligibility and EV adoption.\n",
    "\n",
    "### Equity Assessment:\n",
    "Compare EV adoption across different 2020 census tracts to uncover demographic or economic disparities."
   ]
  },
  {
   "cell_type": "markdown",
   "id": "7644b7ff",
   "metadata": {},
   "source": [
    "# PROPOSED METHODOLOGY\n",
    "1. ### Data Cleaning and Preprocessing\n",
    "Handle missing values\n",
    "\n",
    "Parse and standardize geographical coordinates and utilities\n",
    "\n",
    "Convert categorical fields (e.g., Make, Model, CAFV Eligibility) to appropriate formats\n",
    "\n",
    "2. ### Exploratory Data Analysis (EDA)\n",
    "Temporal trends (Model Year vs Count)\n",
    "\n",
    "Geospatial mapping of EV ownership (using coordinates, county, city)\n",
    "\n",
    "Popular makes/models and their distribution\n",
    "\n",
    "EV range and MSRP trends over years\n",
    "\n",
    "3. ### Geospatial Analysis\n",
    "Map EV density using Vehicle Location\n",
    "\n",
    "Overlay electric utility regions to assess alignment with EV adoption\n",
    "\n",
    "Identify underserved areas (e.g., low EV counts with high population)\n",
    "\n",
    "4. ### CAFV and Policy Impact Evaluation\n",
    "Cross-tabulation of CAFV eligibility vs. adoption by year\n",
    "\n",
    "Visualize the impact of eligibility status on EV model distribution\n",
    "\n",
    "5. ### Equity & Access Analysis\n",
    "Join dataset with census data using 2020 Census Tract\n",
    "\n",
    "Examine demographic characteristics (income, race, education) and EV adoption levels\n",
    "\n",
    "6. ### Recommendations\n",
    "Highlight underserved regions for infrastructure build-out\n",
    "\n",
    "Recommend adjustments to incentive programs based on adoption and eligibility data\n",
    "\n",
    "Inform utility providers on capacity planning and future demand areas\n",
    "\n"
   ]
  },
  {
   "cell_type": "markdown",
   "id": "6b13b001",
   "metadata": {},
   "source": [
    "# DATA UNDERSTANDING"
   ]
  },
  {
   "cell_type": "markdown",
   "id": "6e2471dd",
   "metadata": {},
   "source": [
    "## Load and Inspect the data"
   ]
  },
  {
   "cell_type": "code",
   "execution_count": 1,
   "id": "1f3190fa",
   "metadata": {},
   "outputs": [],
   "source": [
    "# Import necessary Libraries\n",
    "import pandas as pd\n",
    "import numpy as np\n",
    "import matplotlib.pyplot as plt\n",
    "import seaborn as sns\n",
    "from sklearn.preprocessing import MinMaxScaler,StandardScaler\n",
    "import warnings"
   ]
  },
  {
   "cell_type": "code",
   "execution_count": 2,
   "id": "3f86d2b1",
   "metadata": {},
   "outputs": [],
   "source": [
    "# Loading the dataset\n",
    "df = pd.read_csv(\"Electric_Vehicle_Population_Data.csv\")"
   ]
  },
  {
   "cell_type": "code",
   "execution_count": 3,
   "id": "64466f7a",
   "metadata": {},
   "outputs": [
    {
     "data": {
      "application/vnd.microsoft.datawrangler.viewer.v0+json": {
       "columns": [
        {
         "name": "index",
         "rawType": "int64",
         "type": "integer"
        },
        {
         "name": "VIN (1-10)",
         "rawType": "object",
         "type": "string"
        },
        {
         "name": "County",
         "rawType": "object",
         "type": "string"
        },
        {
         "name": "City",
         "rawType": "object",
         "type": "string"
        },
        {
         "name": "State",
         "rawType": "object",
         "type": "string"
        },
        {
         "name": "Postal Code",
         "rawType": "float64",
         "type": "float"
        },
        {
         "name": "Model Year",
         "rawType": "int64",
         "type": "integer"
        },
        {
         "name": "Make",
         "rawType": "object",
         "type": "string"
        },
        {
         "name": "Model",
         "rawType": "object",
         "type": "string"
        },
        {
         "name": "Electric Vehicle Type",
         "rawType": "object",
         "type": "string"
        },
        {
         "name": "Clean Alternative Fuel Vehicle (CAFV) Eligibility",
         "rawType": "object",
         "type": "string"
        },
        {
         "name": "Electric Range",
         "rawType": "int64",
         "type": "integer"
        },
        {
         "name": "Base MSRP",
         "rawType": "int64",
         "type": "integer"
        },
        {
         "name": "Legislative District",
         "rawType": "float64",
         "type": "float"
        },
        {
         "name": "DOL Vehicle ID",
         "rawType": "int64",
         "type": "integer"
        },
        {
         "name": "Vehicle Location",
         "rawType": "object",
         "type": "string"
        },
        {
         "name": "Electric Utility",
         "rawType": "object",
         "type": "string"
        },
        {
         "name": "2020 Census Tract",
         "rawType": "float64",
         "type": "float"
        }
       ],
       "ref": "42abdb39-de5a-438b-8145-7b27a70ad0e0",
       "rows": [
        [
         "0",
         "5YJYGDEE1L",
         "King",
         "Seattle",
         "WA",
         "98122.0",
         "2020",
         "TESLA",
         "MODEL Y",
         "Battery Electric Vehicle (BEV)",
         "Clean Alternative Fuel Vehicle Eligible",
         "291",
         "0",
         "37.0",
         "125701579",
         "POINT (-122.30839 47.610365)",
         "CITY OF SEATTLE - (WA)|CITY OF TACOMA - (WA)",
         "53033007800.0"
        ],
        [
         "1",
         "7SAYGDEE9P",
         "Snohomish",
         "Bothell",
         "WA",
         "98021.0",
         "2023",
         "TESLA",
         "MODEL Y",
         "Battery Electric Vehicle (BEV)",
         "Eligibility unknown as battery range has not been researched",
         "0",
         "0",
         "1.0",
         "244285107",
         "POINT (-122.179458 47.802589)",
         "PUGET SOUND ENERGY INC",
         "53061051938.0"
        ],
        [
         "2",
         "5YJSA1E4XK",
         "King",
         "Seattle",
         "WA",
         "98109.0",
         "2019",
         "TESLA",
         "MODEL S",
         "Battery Electric Vehicle (BEV)",
         "Clean Alternative Fuel Vehicle Eligible",
         "270",
         "0",
         "36.0",
         "156773144",
         "POINT (-122.34848 47.632405)",
         "CITY OF SEATTLE - (WA)|CITY OF TACOMA - (WA)",
         "53033006800.0"
        ],
        [
         "3",
         "5YJSA1E27G",
         "King",
         "Issaquah",
         "WA",
         "98027.0",
         "2016",
         "TESLA",
         "MODEL S",
         "Battery Electric Vehicle (BEV)",
         "Clean Alternative Fuel Vehicle Eligible",
         "210",
         "0",
         "5.0",
         "165103011",
         "POINT (-122.03646 47.534065)",
         "PUGET SOUND ENERGY INC||CITY OF TACOMA - (WA)",
         "53033032104.0"
        ],
        [
         "4",
         "5YJYGDEE5M",
         "Kitsap",
         "Suquamish",
         "WA",
         "98392.0",
         "2021",
         "TESLA",
         "MODEL Y",
         "Battery Electric Vehicle (BEV)",
         "Eligibility unknown as battery range has not been researched",
         "0",
         "0",
         "23.0",
         "205138552",
         "POINT (-122.55717 47.733415)",
         "PUGET SOUND ENERGY INC",
         "53035940100.0"
        ]
       ],
       "shape": {
        "columns": 17,
        "rows": 5
       }
      },
      "text/html": [
       "<div>\n",
       "<style scoped>\n",
       "    .dataframe tbody tr th:only-of-type {\n",
       "        vertical-align: middle;\n",
       "    }\n",
       "\n",
       "    .dataframe tbody tr th {\n",
       "        vertical-align: top;\n",
       "    }\n",
       "\n",
       "    .dataframe thead th {\n",
       "        text-align: right;\n",
       "    }\n",
       "</style>\n",
       "<table border=\"1\" class=\"dataframe\">\n",
       "  <thead>\n",
       "    <tr style=\"text-align: right;\">\n",
       "      <th></th>\n",
       "      <th>VIN (1-10)</th>\n",
       "      <th>County</th>\n",
       "      <th>City</th>\n",
       "      <th>State</th>\n",
       "      <th>Postal Code</th>\n",
       "      <th>Model Year</th>\n",
       "      <th>Make</th>\n",
       "      <th>Model</th>\n",
       "      <th>Electric Vehicle Type</th>\n",
       "      <th>Clean Alternative Fuel Vehicle (CAFV) Eligibility</th>\n",
       "      <th>Electric Range</th>\n",
       "      <th>Base MSRP</th>\n",
       "      <th>Legislative District</th>\n",
       "      <th>DOL Vehicle ID</th>\n",
       "      <th>Vehicle Location</th>\n",
       "      <th>Electric Utility</th>\n",
       "      <th>2020 Census Tract</th>\n",
       "    </tr>\n",
       "  </thead>\n",
       "  <tbody>\n",
       "    <tr>\n",
       "      <th>0</th>\n",
       "      <td>5YJYGDEE1L</td>\n",
       "      <td>King</td>\n",
       "      <td>Seattle</td>\n",
       "      <td>WA</td>\n",
       "      <td>98122.0</td>\n",
       "      <td>2020</td>\n",
       "      <td>TESLA</td>\n",
       "      <td>MODEL Y</td>\n",
       "      <td>Battery Electric Vehicle (BEV)</td>\n",
       "      <td>Clean Alternative Fuel Vehicle Eligible</td>\n",
       "      <td>291</td>\n",
       "      <td>0</td>\n",
       "      <td>37.0</td>\n",
       "      <td>125701579</td>\n",
       "      <td>POINT (-122.30839 47.610365)</td>\n",
       "      <td>CITY OF SEATTLE - (WA)|CITY OF TACOMA - (WA)</td>\n",
       "      <td>5.303301e+10</td>\n",
       "    </tr>\n",
       "    <tr>\n",
       "      <th>1</th>\n",
       "      <td>7SAYGDEE9P</td>\n",
       "      <td>Snohomish</td>\n",
       "      <td>Bothell</td>\n",
       "      <td>WA</td>\n",
       "      <td>98021.0</td>\n",
       "      <td>2023</td>\n",
       "      <td>TESLA</td>\n",
       "      <td>MODEL Y</td>\n",
       "      <td>Battery Electric Vehicle (BEV)</td>\n",
       "      <td>Eligibility unknown as battery range has not b...</td>\n",
       "      <td>0</td>\n",
       "      <td>0</td>\n",
       "      <td>1.0</td>\n",
       "      <td>244285107</td>\n",
       "      <td>POINT (-122.179458 47.802589)</td>\n",
       "      <td>PUGET SOUND ENERGY INC</td>\n",
       "      <td>5.306105e+10</td>\n",
       "    </tr>\n",
       "    <tr>\n",
       "      <th>2</th>\n",
       "      <td>5YJSA1E4XK</td>\n",
       "      <td>King</td>\n",
       "      <td>Seattle</td>\n",
       "      <td>WA</td>\n",
       "      <td>98109.0</td>\n",
       "      <td>2019</td>\n",
       "      <td>TESLA</td>\n",
       "      <td>MODEL S</td>\n",
       "      <td>Battery Electric Vehicle (BEV)</td>\n",
       "      <td>Clean Alternative Fuel Vehicle Eligible</td>\n",
       "      <td>270</td>\n",
       "      <td>0</td>\n",
       "      <td>36.0</td>\n",
       "      <td>156773144</td>\n",
       "      <td>POINT (-122.34848 47.632405)</td>\n",
       "      <td>CITY OF SEATTLE - (WA)|CITY OF TACOMA - (WA)</td>\n",
       "      <td>5.303301e+10</td>\n",
       "    </tr>\n",
       "    <tr>\n",
       "      <th>3</th>\n",
       "      <td>5YJSA1E27G</td>\n",
       "      <td>King</td>\n",
       "      <td>Issaquah</td>\n",
       "      <td>WA</td>\n",
       "      <td>98027.0</td>\n",
       "      <td>2016</td>\n",
       "      <td>TESLA</td>\n",
       "      <td>MODEL S</td>\n",
       "      <td>Battery Electric Vehicle (BEV)</td>\n",
       "      <td>Clean Alternative Fuel Vehicle Eligible</td>\n",
       "      <td>210</td>\n",
       "      <td>0</td>\n",
       "      <td>5.0</td>\n",
       "      <td>165103011</td>\n",
       "      <td>POINT (-122.03646 47.534065)</td>\n",
       "      <td>PUGET SOUND ENERGY INC||CITY OF TACOMA - (WA)</td>\n",
       "      <td>5.303303e+10</td>\n",
       "    </tr>\n",
       "    <tr>\n",
       "      <th>4</th>\n",
       "      <td>5YJYGDEE5M</td>\n",
       "      <td>Kitsap</td>\n",
       "      <td>Suquamish</td>\n",
       "      <td>WA</td>\n",
       "      <td>98392.0</td>\n",
       "      <td>2021</td>\n",
       "      <td>TESLA</td>\n",
       "      <td>MODEL Y</td>\n",
       "      <td>Battery Electric Vehicle (BEV)</td>\n",
       "      <td>Eligibility unknown as battery range has not b...</td>\n",
       "      <td>0</td>\n",
       "      <td>0</td>\n",
       "      <td>23.0</td>\n",
       "      <td>205138552</td>\n",
       "      <td>POINT (-122.55717 47.733415)</td>\n",
       "      <td>PUGET SOUND ENERGY INC</td>\n",
       "      <td>5.303594e+10</td>\n",
       "    </tr>\n",
       "  </tbody>\n",
       "</table>\n",
       "</div>"
      ],
      "text/plain": [
       "   VIN (1-10)     County       City State  Postal Code  Model Year   Make  \\\n",
       "0  5YJYGDEE1L       King    Seattle    WA      98122.0        2020  TESLA   \n",
       "1  7SAYGDEE9P  Snohomish    Bothell    WA      98021.0        2023  TESLA   \n",
       "2  5YJSA1E4XK       King    Seattle    WA      98109.0        2019  TESLA   \n",
       "3  5YJSA1E27G       King   Issaquah    WA      98027.0        2016  TESLA   \n",
       "4  5YJYGDEE5M     Kitsap  Suquamish    WA      98392.0        2021  TESLA   \n",
       "\n",
       "     Model           Electric Vehicle Type  \\\n",
       "0  MODEL Y  Battery Electric Vehicle (BEV)   \n",
       "1  MODEL Y  Battery Electric Vehicle (BEV)   \n",
       "2  MODEL S  Battery Electric Vehicle (BEV)   \n",
       "3  MODEL S  Battery Electric Vehicle (BEV)   \n",
       "4  MODEL Y  Battery Electric Vehicle (BEV)   \n",
       "\n",
       "   Clean Alternative Fuel Vehicle (CAFV) Eligibility  Electric Range  \\\n",
       "0            Clean Alternative Fuel Vehicle Eligible             291   \n",
       "1  Eligibility unknown as battery range has not b...               0   \n",
       "2            Clean Alternative Fuel Vehicle Eligible             270   \n",
       "3            Clean Alternative Fuel Vehicle Eligible             210   \n",
       "4  Eligibility unknown as battery range has not b...               0   \n",
       "\n",
       "   Base MSRP  Legislative District  DOL Vehicle ID  \\\n",
       "0          0                  37.0       125701579   \n",
       "1          0                   1.0       244285107   \n",
       "2          0                  36.0       156773144   \n",
       "3          0                   5.0       165103011   \n",
       "4          0                  23.0       205138552   \n",
       "\n",
       "                Vehicle Location  \\\n",
       "0   POINT (-122.30839 47.610365)   \n",
       "1  POINT (-122.179458 47.802589)   \n",
       "2   POINT (-122.34848 47.632405)   \n",
       "3   POINT (-122.03646 47.534065)   \n",
       "4   POINT (-122.55717 47.733415)   \n",
       "\n",
       "                                Electric Utility  2020 Census Tract  \n",
       "0   CITY OF SEATTLE - (WA)|CITY OF TACOMA - (WA)       5.303301e+10  \n",
       "1                         PUGET SOUND ENERGY INC       5.306105e+10  \n",
       "2   CITY OF SEATTLE - (WA)|CITY OF TACOMA - (WA)       5.303301e+10  \n",
       "3  PUGET SOUND ENERGY INC||CITY OF TACOMA - (WA)       5.303303e+10  \n",
       "4                         PUGET SOUND ENERGY INC       5.303594e+10  "
      ]
     },
     "execution_count": 3,
     "metadata": {},
     "output_type": "execute_result"
    }
   ],
   "source": [
    "# Check the data head\n",
    "df.head()"
   ]
  },
  {
   "cell_type": "markdown",
   "id": "4c1dc4ed",
   "metadata": {},
   "source": [
    "Based on the above code output it shows 5 Tesla electric vehicles registered in Washington State, primarily in King County. All are Battery Electric Vehicles (BEVs), with models including the Model Y and Model S.\n",
    "\n",
    "However, there are inconsistencies in the data:\n",
    "\n",
    "Electric Range of 0 appears in 3 out of 5 entries, which is likely a garbage or missing value, especially for models like the Model Y or S, which typically have substantial range.\n",
    "\n",
    "Base MSRP is 0 for all entries, suggesting incomplete or unreported pricing data.\n",
    "\n",
    "The \"CAFV Eligibility\" is listed as \"unknown\" for some vehicles, indicating a lack of battery range data.\n",
    "\n",
    "This suggests a need for data cleaning, particularly for range and price fields, before any meaningful analysis or policy decisions can be made from this dataset."
   ]
  },
  {
   "cell_type": "code",
   "execution_count": 4,
   "id": "4ca2d975",
   "metadata": {},
   "outputs": [
    {
     "data": {
      "application/vnd.microsoft.datawrangler.viewer.v0+json": {
       "columns": [
        {
         "name": "index",
         "rawType": "int64",
         "type": "integer"
        },
        {
         "name": "VIN (1-10)",
         "rawType": "object",
         "type": "string"
        },
        {
         "name": "County",
         "rawType": "object",
         "type": "string"
        },
        {
         "name": "City",
         "rawType": "object",
         "type": "string"
        },
        {
         "name": "State",
         "rawType": "object",
         "type": "string"
        },
        {
         "name": "Postal Code",
         "rawType": "float64",
         "type": "float"
        },
        {
         "name": "Model Year",
         "rawType": "int64",
         "type": "integer"
        },
        {
         "name": "Make",
         "rawType": "object",
         "type": "string"
        },
        {
         "name": "Model",
         "rawType": "object",
         "type": "string"
        },
        {
         "name": "Electric Vehicle Type",
         "rawType": "object",
         "type": "string"
        },
        {
         "name": "Clean Alternative Fuel Vehicle (CAFV) Eligibility",
         "rawType": "object",
         "type": "string"
        },
        {
         "name": "Electric Range",
         "rawType": "int64",
         "type": "integer"
        },
        {
         "name": "Base MSRP",
         "rawType": "int64",
         "type": "integer"
        },
        {
         "name": "Legislative District",
         "rawType": "float64",
         "type": "float"
        },
        {
         "name": "DOL Vehicle ID",
         "rawType": "int64",
         "type": "integer"
        },
        {
         "name": "Vehicle Location",
         "rawType": "object",
         "type": "string"
        },
        {
         "name": "Electric Utility",
         "rawType": "object",
         "type": "string"
        },
        {
         "name": "2020 Census Tract",
         "rawType": "float64",
         "type": "float"
        }
       ],
       "ref": "52418fa2-94a0-45f1-955c-d68c17c7b19b",
       "rows": [
        [
         "177861",
         "7SAYGDEE3N",
         "Pierce",
         "Bonney Lake",
         "WA",
         "98391.0",
         "2022",
         "TESLA",
         "MODEL Y",
         "Battery Electric Vehicle (BEV)",
         "Eligibility unknown as battery range has not been researched",
         "0",
         "0",
         "31.0",
         "195224452",
         "POINT (-122.183805 47.18062)",
         "PUGET SOUND ENERGY INC||CITY OF TACOMA - (WA)",
         "53053070308.0"
        ],
        [
         "177862",
         "KM8K23AG1P",
         "Mason",
         "Shelton",
         "WA",
         "98584.0",
         "2023",
         "HYUNDAI",
         "KONA ELECTRIC",
         "Battery Electric Vehicle (BEV)",
         "Eligibility unknown as battery range has not been researched",
         "0",
         "0",
         "35.0",
         "228454180",
         "POINT (-123.105305 47.211085)",
         "BONNEVILLE POWER ADMINISTRATION||CITY OF TACOMA - (WA)||PUD NO 3 OF MASON COUNTY",
         "53045960900.0"
        ],
        [
         "177863",
         "5YJYGDEE6M",
         "Grant",
         "Quincy",
         "WA",
         "98848.0",
         "2021",
         "TESLA",
         "MODEL Y",
         "Battery Electric Vehicle (BEV)",
         "Eligibility unknown as battery range has not been researched",
         "0",
         "0",
         "13.0",
         "168797219",
         "POINT (-119.8493873 47.2339933)",
         "PUD NO 2 OF GRANT COUNTY",
         "53025010500.0"
        ],
        [
         "177864",
         "WVGKMPE27M",
         "King",
         "Black Diamond",
         "WA",
         "98010.0",
         "2021",
         "VOLKSWAGEN",
         "ID.4",
         "Battery Electric Vehicle (BEV)",
         "Eligibility unknown as battery range has not been researched",
         "0",
         "0",
         "5.0",
         "182448801",
         "POINT (-122.00451 47.312185)",
         "PUGET SOUND ENERGY INC||CITY OF TACOMA - (WA)",
         "53033031603.0"
        ],
        [
         "177865",
         "5YJ3E1EA8M",
         "Pierce",
         "Tacoma",
         "WA",
         "98422.0",
         "2021",
         "TESLA",
         "MODEL 3",
         "Battery Electric Vehicle (BEV)",
         "Eligibility unknown as battery range has not been researched",
         "0",
         "0",
         "27.0",
         "211464683",
         "POINT (-122.38578 47.28971)",
         "BONNEVILLE POWER ADMINISTRATION||CITY OF TACOMA - (WA)||PENINSULA LIGHT COMPANY",
         "53053940005.0"
        ]
       ],
       "shape": {
        "columns": 17,
        "rows": 5
       }
      },
      "text/html": [
       "<div>\n",
       "<style scoped>\n",
       "    .dataframe tbody tr th:only-of-type {\n",
       "        vertical-align: middle;\n",
       "    }\n",
       "\n",
       "    .dataframe tbody tr th {\n",
       "        vertical-align: top;\n",
       "    }\n",
       "\n",
       "    .dataframe thead th {\n",
       "        text-align: right;\n",
       "    }\n",
       "</style>\n",
       "<table border=\"1\" class=\"dataframe\">\n",
       "  <thead>\n",
       "    <tr style=\"text-align: right;\">\n",
       "      <th></th>\n",
       "      <th>VIN (1-10)</th>\n",
       "      <th>County</th>\n",
       "      <th>City</th>\n",
       "      <th>State</th>\n",
       "      <th>Postal Code</th>\n",
       "      <th>Model Year</th>\n",
       "      <th>Make</th>\n",
       "      <th>Model</th>\n",
       "      <th>Electric Vehicle Type</th>\n",
       "      <th>Clean Alternative Fuel Vehicle (CAFV) Eligibility</th>\n",
       "      <th>Electric Range</th>\n",
       "      <th>Base MSRP</th>\n",
       "      <th>Legislative District</th>\n",
       "      <th>DOL Vehicle ID</th>\n",
       "      <th>Vehicle Location</th>\n",
       "      <th>Electric Utility</th>\n",
       "      <th>2020 Census Tract</th>\n",
       "    </tr>\n",
       "  </thead>\n",
       "  <tbody>\n",
       "    <tr>\n",
       "      <th>177861</th>\n",
       "      <td>7SAYGDEE3N</td>\n",
       "      <td>Pierce</td>\n",
       "      <td>Bonney Lake</td>\n",
       "      <td>WA</td>\n",
       "      <td>98391.0</td>\n",
       "      <td>2022</td>\n",
       "      <td>TESLA</td>\n",
       "      <td>MODEL Y</td>\n",
       "      <td>Battery Electric Vehicle (BEV)</td>\n",
       "      <td>Eligibility unknown as battery range has not b...</td>\n",
       "      <td>0</td>\n",
       "      <td>0</td>\n",
       "      <td>31.0</td>\n",
       "      <td>195224452</td>\n",
       "      <td>POINT (-122.183805 47.18062)</td>\n",
       "      <td>PUGET SOUND ENERGY INC||CITY OF TACOMA - (WA)</td>\n",
       "      <td>5.305307e+10</td>\n",
       "    </tr>\n",
       "    <tr>\n",
       "      <th>177862</th>\n",
       "      <td>KM8K23AG1P</td>\n",
       "      <td>Mason</td>\n",
       "      <td>Shelton</td>\n",
       "      <td>WA</td>\n",
       "      <td>98584.0</td>\n",
       "      <td>2023</td>\n",
       "      <td>HYUNDAI</td>\n",
       "      <td>KONA ELECTRIC</td>\n",
       "      <td>Battery Electric Vehicle (BEV)</td>\n",
       "      <td>Eligibility unknown as battery range has not b...</td>\n",
       "      <td>0</td>\n",
       "      <td>0</td>\n",
       "      <td>35.0</td>\n",
       "      <td>228454180</td>\n",
       "      <td>POINT (-123.105305 47.211085)</td>\n",
       "      <td>BONNEVILLE POWER ADMINISTRATION||CITY OF TACOM...</td>\n",
       "      <td>5.304596e+10</td>\n",
       "    </tr>\n",
       "    <tr>\n",
       "      <th>177863</th>\n",
       "      <td>5YJYGDEE6M</td>\n",
       "      <td>Grant</td>\n",
       "      <td>Quincy</td>\n",
       "      <td>WA</td>\n",
       "      <td>98848.0</td>\n",
       "      <td>2021</td>\n",
       "      <td>TESLA</td>\n",
       "      <td>MODEL Y</td>\n",
       "      <td>Battery Electric Vehicle (BEV)</td>\n",
       "      <td>Eligibility unknown as battery range has not b...</td>\n",
       "      <td>0</td>\n",
       "      <td>0</td>\n",
       "      <td>13.0</td>\n",
       "      <td>168797219</td>\n",
       "      <td>POINT (-119.8493873 47.2339933)</td>\n",
       "      <td>PUD NO 2 OF GRANT COUNTY</td>\n",
       "      <td>5.302501e+10</td>\n",
       "    </tr>\n",
       "    <tr>\n",
       "      <th>177864</th>\n",
       "      <td>WVGKMPE27M</td>\n",
       "      <td>King</td>\n",
       "      <td>Black Diamond</td>\n",
       "      <td>WA</td>\n",
       "      <td>98010.0</td>\n",
       "      <td>2021</td>\n",
       "      <td>VOLKSWAGEN</td>\n",
       "      <td>ID.4</td>\n",
       "      <td>Battery Electric Vehicle (BEV)</td>\n",
       "      <td>Eligibility unknown as battery range has not b...</td>\n",
       "      <td>0</td>\n",
       "      <td>0</td>\n",
       "      <td>5.0</td>\n",
       "      <td>182448801</td>\n",
       "      <td>POINT (-122.00451 47.312185)</td>\n",
       "      <td>PUGET SOUND ENERGY INC||CITY OF TACOMA - (WA)</td>\n",
       "      <td>5.303303e+10</td>\n",
       "    </tr>\n",
       "    <tr>\n",
       "      <th>177865</th>\n",
       "      <td>5YJ3E1EA8M</td>\n",
       "      <td>Pierce</td>\n",
       "      <td>Tacoma</td>\n",
       "      <td>WA</td>\n",
       "      <td>98422.0</td>\n",
       "      <td>2021</td>\n",
       "      <td>TESLA</td>\n",
       "      <td>MODEL 3</td>\n",
       "      <td>Battery Electric Vehicle (BEV)</td>\n",
       "      <td>Eligibility unknown as battery range has not b...</td>\n",
       "      <td>0</td>\n",
       "      <td>0</td>\n",
       "      <td>27.0</td>\n",
       "      <td>211464683</td>\n",
       "      <td>POINT (-122.38578 47.28971)</td>\n",
       "      <td>BONNEVILLE POWER ADMINISTRATION||CITY OF TACOM...</td>\n",
       "      <td>5.305394e+10</td>\n",
       "    </tr>\n",
       "  </tbody>\n",
       "</table>\n",
       "</div>"
      ],
      "text/plain": [
       "        VIN (1-10)  County           City State  Postal Code  Model Year  \\\n",
       "177861  7SAYGDEE3N  Pierce    Bonney Lake    WA      98391.0        2022   \n",
       "177862  KM8K23AG1P   Mason        Shelton    WA      98584.0        2023   \n",
       "177863  5YJYGDEE6M   Grant         Quincy    WA      98848.0        2021   \n",
       "177864  WVGKMPE27M    King  Black Diamond    WA      98010.0        2021   \n",
       "177865  5YJ3E1EA8M  Pierce         Tacoma    WA      98422.0        2021   \n",
       "\n",
       "              Make          Model           Electric Vehicle Type  \\\n",
       "177861       TESLA        MODEL Y  Battery Electric Vehicle (BEV)   \n",
       "177862     HYUNDAI  KONA ELECTRIC  Battery Electric Vehicle (BEV)   \n",
       "177863       TESLA        MODEL Y  Battery Electric Vehicle (BEV)   \n",
       "177864  VOLKSWAGEN           ID.4  Battery Electric Vehicle (BEV)   \n",
       "177865       TESLA        MODEL 3  Battery Electric Vehicle (BEV)   \n",
       "\n",
       "        Clean Alternative Fuel Vehicle (CAFV) Eligibility  Electric Range  \\\n",
       "177861  Eligibility unknown as battery range has not b...               0   \n",
       "177862  Eligibility unknown as battery range has not b...               0   \n",
       "177863  Eligibility unknown as battery range has not b...               0   \n",
       "177864  Eligibility unknown as battery range has not b...               0   \n",
       "177865  Eligibility unknown as battery range has not b...               0   \n",
       "\n",
       "        Base MSRP  Legislative District  DOL Vehicle ID  \\\n",
       "177861          0                  31.0       195224452   \n",
       "177862          0                  35.0       228454180   \n",
       "177863          0                  13.0       168797219   \n",
       "177864          0                   5.0       182448801   \n",
       "177865          0                  27.0       211464683   \n",
       "\n",
       "                       Vehicle Location  \\\n",
       "177861     POINT (-122.183805 47.18062)   \n",
       "177862    POINT (-123.105305 47.211085)   \n",
       "177863  POINT (-119.8493873 47.2339933)   \n",
       "177864     POINT (-122.00451 47.312185)   \n",
       "177865      POINT (-122.38578 47.28971)   \n",
       "\n",
       "                                         Electric Utility  2020 Census Tract  \n",
       "177861      PUGET SOUND ENERGY INC||CITY OF TACOMA - (WA)       5.305307e+10  \n",
       "177862  BONNEVILLE POWER ADMINISTRATION||CITY OF TACOM...       5.304596e+10  \n",
       "177863                           PUD NO 2 OF GRANT COUNTY       5.302501e+10  \n",
       "177864      PUGET SOUND ENERGY INC||CITY OF TACOMA - (WA)       5.303303e+10  \n",
       "177865  BONNEVILLE POWER ADMINISTRATION||CITY OF TACOM...       5.305394e+10  "
      ]
     },
     "execution_count": 4,
     "metadata": {},
     "output_type": "execute_result"
    }
   ],
   "source": [
    "# Check the data tail\n",
    "df.tail()"
   ]
  },
  {
   "cell_type": "markdown",
   "id": "2cad3cc5",
   "metadata": {},
   "source": [
    "All five electric vehicles listed are recent Battery Electric Vehicles (BEVs) (model years 2021–2023) from brands like Tesla, Hyundai, and Volkswagen, registered across various Washington counties.\n",
    "\n",
    "However, all entries have missing or zero values for:\n",
    "\n",
    "Electric Range\n",
    "\n",
    "Base MSRP\n",
    "\n",
    "CAFV Eligibility\n",
    "\n",
    "This strongly indicates incomplete or faulty data entry, making the records unreliable for any analysis involving vehicle performance, eligibility, or pricing. Data validation and enrichment are needed before further use."
   ]
  },
  {
   "cell_type": "code",
   "execution_count": 5,
   "id": "1f6ad274",
   "metadata": {},
   "outputs": [
    {
     "data": {
      "text/plain": [
       "(177866, 17)"
      ]
     },
     "execution_count": 5,
     "metadata": {},
     "output_type": "execute_result"
    }
   ],
   "source": [
    "# Check the data shape\n",
    "df.shape"
   ]
  },
  {
   "cell_type": "markdown",
   "id": "51ca3ae4",
   "metadata": {},
   "source": [
    "The output (177866, 17) indicates the shape of the dataset, specifically:\n",
    "\n",
    "177,866 rows (individual electric vehicle records)\n",
    "\n",
    "17 columns (features/attributes per vehicle)\n",
    "\n",
    "🔍 Quick Insight:\n",
    "The dataset is large and comprehensive, suggesting it's a valuable resource for analyzing electric vehicle trends in Washington State. However, based on the earlier sample rows, data quality issues like missing values e.g. in electric range, MSRP etc may need to be addressed before conducting accurate analyses."
   ]
  },
  {
   "cell_type": "code",
   "execution_count": 6,
   "id": "e41a7f82",
   "metadata": {},
   "outputs": [
    {
     "name": "stdout",
     "output_type": "stream",
     "text": [
      "<class 'pandas.core.frame.DataFrame'>\n",
      "RangeIndex: 177866 entries, 0 to 177865\n",
      "Data columns (total 17 columns):\n",
      " #   Column                                             Non-Null Count   Dtype  \n",
      "---  ------                                             --------------   -----  \n",
      " 0   VIN (1-10)                                         177866 non-null  object \n",
      " 1   County                                             177861 non-null  object \n",
      " 2   City                                               177861 non-null  object \n",
      " 3   State                                              177866 non-null  object \n",
      " 4   Postal Code                                        177861 non-null  float64\n",
      " 5   Model Year                                         177866 non-null  int64  \n",
      " 6   Make                                               177866 non-null  object \n",
      " 7   Model                                              177866 non-null  object \n",
      " 8   Electric Vehicle Type                              177866 non-null  object \n",
      " 9   Clean Alternative Fuel Vehicle (CAFV) Eligibility  177866 non-null  object \n",
      " 10  Electric Range                                     177866 non-null  int64  \n",
      " 11  Base MSRP                                          177866 non-null  int64  \n",
      " 12  Legislative District                               177477 non-null  float64\n",
      " 13  DOL Vehicle ID                                     177866 non-null  int64  \n",
      " 14  Vehicle Location                                   177857 non-null  object \n",
      " 15  Electric Utility                                   177861 non-null  object \n",
      " 16  2020 Census Tract                                  177861 non-null  float64\n",
      "dtypes: float64(3), int64(4), object(10)\n",
      "memory usage: 23.1+ MB\n"
     ]
    }
   ],
   "source": [
    "# Chack the data size\n",
    "df.info()"
   ]
  },
  {
   "cell_type": "markdown",
   "id": "140e225c",
   "metadata": {},
   "source": [
    "The dataset contains 177,866 electric vehicle records across 17 columns. While most fields are complete, there are some minor but notable gaps:\n",
    "\n",
    "Missing values in key location fields like:\n",
    "\n",
    "County, City, Postal Code (5 missing)\n",
    "\n",
    "Legislative District (~389 missing)\n",
    "\n",
    "Vehicle Location, Electric Utility, 2020 Census Tract (5–9 missing)\n",
    "\n",
    "Data types are appropriate:\n",
    "\n",
    "Categorical/object: For vehicle details (e.g., Make, Model, CAFV eligibility)\n",
    "\n",
    "Numerical: For year, range, price, district, etc.\n",
    "\n",
    "⚠️ Key Flag:\n",
    "Even though Electric Range and Base MSRP have no nulls, earlier samples show values of 0, indicating garbage or placeholder data that should be cleaned despite appearing complete."
   ]
  },
  {
   "cell_type": "code",
   "execution_count": 7,
   "id": "fce8196a",
   "metadata": {},
   "outputs": [
    {
     "data": {
      "application/vnd.microsoft.datawrangler.viewer.v0+json": {
       "columns": [
        {
         "name": "index",
         "rawType": "object",
         "type": "string"
        },
        {
         "name": "Postal Code",
         "rawType": "float64",
         "type": "float"
        },
        {
         "name": "Model Year",
         "rawType": "float64",
         "type": "float"
        },
        {
         "name": "Electric Range",
         "rawType": "float64",
         "type": "float"
        },
        {
         "name": "Base MSRP",
         "rawType": "float64",
         "type": "float"
        },
        {
         "name": "Legislative District",
         "rawType": "float64",
         "type": "float"
        },
        {
         "name": "DOL Vehicle ID",
         "rawType": "float64",
         "type": "float"
        },
        {
         "name": "2020 Census Tract",
         "rawType": "float64",
         "type": "float"
        }
       ],
       "ref": "60ec505f-5937-49d0-ba4d-d3dc9241cc88",
       "rows": [
        [
         "count",
         "177861.0",
         "177866.0",
         "177866.0",
         "177866.0",
         "177477.0",
         "177866.0",
         "177861.0"
        ],
        [
         "mean",
         "98172.45350582758",
         "2020.51551167733",
         "58.842162077069254",
         "1073.1093632284978",
         "29.12748130743702",
         "220231266.05454668",
         "52976721055.55796"
        ],
        [
         "std",
         "2442.45066802155",
         "2.9893839501920065",
         "91.98129769418429",
         "8358.624956091093",
         "14.892168539453765",
         "75849866.12256485",
         "1578046771.1668966"
        ],
        [
         "min",
         "1545.0",
         "1997.0",
         "0.0",
         "0.0",
         "1.0",
         "4385.0",
         "1001020100.0"
        ],
        [
         "25%",
         "98052.0",
         "2019.0",
         "0.0",
         "0.0",
         "18.0",
         "181474348.5",
         "53033009702.0"
        ],
        [
         "50%",
         "98122.0",
         "2022.0",
         "0.0",
         "0.0",
         "33.0",
         "228252237.0",
         "53033029602.0"
        ],
        [
         "75%",
         "98370.0",
         "2023.0",
         "75.0",
         "0.0",
         "42.0",
         "254844512.5",
         "53053073001.0"
        ],
        [
         "max",
         "99577.0",
         "2024.0",
         "337.0",
         "845000.0",
         "49.0",
         "479254772.0",
         "56033000100.0"
        ]
       ],
       "shape": {
        "columns": 7,
        "rows": 8
       }
      },
      "text/html": [
       "<div>\n",
       "<style scoped>\n",
       "    .dataframe tbody tr th:only-of-type {\n",
       "        vertical-align: middle;\n",
       "    }\n",
       "\n",
       "    .dataframe tbody tr th {\n",
       "        vertical-align: top;\n",
       "    }\n",
       "\n",
       "    .dataframe thead th {\n",
       "        text-align: right;\n",
       "    }\n",
       "</style>\n",
       "<table border=\"1\" class=\"dataframe\">\n",
       "  <thead>\n",
       "    <tr style=\"text-align: right;\">\n",
       "      <th></th>\n",
       "      <th>Postal Code</th>\n",
       "      <th>Model Year</th>\n",
       "      <th>Electric Range</th>\n",
       "      <th>Base MSRP</th>\n",
       "      <th>Legislative District</th>\n",
       "      <th>DOL Vehicle ID</th>\n",
       "      <th>2020 Census Tract</th>\n",
       "    </tr>\n",
       "  </thead>\n",
       "  <tbody>\n",
       "    <tr>\n",
       "      <th>count</th>\n",
       "      <td>177861.000000</td>\n",
       "      <td>177866.000000</td>\n",
       "      <td>177866.000000</td>\n",
       "      <td>177866.000000</td>\n",
       "      <td>177477.000000</td>\n",
       "      <td>1.778660e+05</td>\n",
       "      <td>1.778610e+05</td>\n",
       "    </tr>\n",
       "    <tr>\n",
       "      <th>mean</th>\n",
       "      <td>98172.453506</td>\n",
       "      <td>2020.515512</td>\n",
       "      <td>58.842162</td>\n",
       "      <td>1073.109363</td>\n",
       "      <td>29.127481</td>\n",
       "      <td>2.202313e+08</td>\n",
       "      <td>5.297672e+10</td>\n",
       "    </tr>\n",
       "    <tr>\n",
       "      <th>std</th>\n",
       "      <td>2442.450668</td>\n",
       "      <td>2.989384</td>\n",
       "      <td>91.981298</td>\n",
       "      <td>8358.624956</td>\n",
       "      <td>14.892169</td>\n",
       "      <td>7.584987e+07</td>\n",
       "      <td>1.578047e+09</td>\n",
       "    </tr>\n",
       "    <tr>\n",
       "      <th>min</th>\n",
       "      <td>1545.000000</td>\n",
       "      <td>1997.000000</td>\n",
       "      <td>0.000000</td>\n",
       "      <td>0.000000</td>\n",
       "      <td>1.000000</td>\n",
       "      <td>4.385000e+03</td>\n",
       "      <td>1.001020e+09</td>\n",
       "    </tr>\n",
       "    <tr>\n",
       "      <th>25%</th>\n",
       "      <td>98052.000000</td>\n",
       "      <td>2019.000000</td>\n",
       "      <td>0.000000</td>\n",
       "      <td>0.000000</td>\n",
       "      <td>18.000000</td>\n",
       "      <td>1.814743e+08</td>\n",
       "      <td>5.303301e+10</td>\n",
       "    </tr>\n",
       "    <tr>\n",
       "      <th>50%</th>\n",
       "      <td>98122.000000</td>\n",
       "      <td>2022.000000</td>\n",
       "      <td>0.000000</td>\n",
       "      <td>0.000000</td>\n",
       "      <td>33.000000</td>\n",
       "      <td>2.282522e+08</td>\n",
       "      <td>5.303303e+10</td>\n",
       "    </tr>\n",
       "    <tr>\n",
       "      <th>75%</th>\n",
       "      <td>98370.000000</td>\n",
       "      <td>2023.000000</td>\n",
       "      <td>75.000000</td>\n",
       "      <td>0.000000</td>\n",
       "      <td>42.000000</td>\n",
       "      <td>2.548445e+08</td>\n",
       "      <td>5.305307e+10</td>\n",
       "    </tr>\n",
       "    <tr>\n",
       "      <th>max</th>\n",
       "      <td>99577.000000</td>\n",
       "      <td>2024.000000</td>\n",
       "      <td>337.000000</td>\n",
       "      <td>845000.000000</td>\n",
       "      <td>49.000000</td>\n",
       "      <td>4.792548e+08</td>\n",
       "      <td>5.603300e+10</td>\n",
       "    </tr>\n",
       "  </tbody>\n",
       "</table>\n",
       "</div>"
      ],
      "text/plain": [
       "         Postal Code     Model Year  Electric Range      Base MSRP  \\\n",
       "count  177861.000000  177866.000000   177866.000000  177866.000000   \n",
       "mean    98172.453506    2020.515512       58.842162    1073.109363   \n",
       "std      2442.450668       2.989384       91.981298    8358.624956   \n",
       "min      1545.000000    1997.000000        0.000000       0.000000   \n",
       "25%     98052.000000    2019.000000        0.000000       0.000000   \n",
       "50%     98122.000000    2022.000000        0.000000       0.000000   \n",
       "75%     98370.000000    2023.000000       75.000000       0.000000   \n",
       "max     99577.000000    2024.000000      337.000000  845000.000000   \n",
       "\n",
       "       Legislative District  DOL Vehicle ID  2020 Census Tract  \n",
       "count         177477.000000    1.778660e+05       1.778610e+05  \n",
       "mean              29.127481    2.202313e+08       5.297672e+10  \n",
       "std               14.892169    7.584987e+07       1.578047e+09  \n",
       "min                1.000000    4.385000e+03       1.001020e+09  \n",
       "25%               18.000000    1.814743e+08       5.303301e+10  \n",
       "50%               33.000000    2.282522e+08       5.303303e+10  \n",
       "75%               42.000000    2.548445e+08       5.305307e+10  \n",
       "max               49.000000    4.792548e+08       5.603300e+10  "
      ]
     },
     "execution_count": 7,
     "metadata": {},
     "output_type": "execute_result"
    }
   ],
   "source": [
    "#Discriptive statistics\n",
    "df.describe()"
   ]
  },
  {
   "cell_type": "markdown",
   "id": "4fac18b4",
   "metadata": {},
   "source": [
    "The summary reveals serious data quality issues in two critical fields:\n",
    "\n",
    "🔋 Electric Range:\n",
    "\n",
    "Median = 0 and 75% percentile = 75 → At least half the vehicles have no recorded range, likely indicating missing or unreported values.\n",
    "\n",
    "💲 Base MSRP:\n",
    "\n",
    "Mean = $1,073, Median = $0, 75% percentile = $0 → Almost 75% of entries have zero MSRP, which is implausible and signals widespread missing data.\n",
    "\n",
    "⚠️ Key Takeaway:\n",
    "Despite numeric completeness, over half the records have placeholder values (0) for essential fields like range and price, making them unreliable for analysis without imputation or filtering."
   ]
  },
  {
   "cell_type": "code",
   "execution_count": 8,
   "id": "3831883a",
   "metadata": {},
   "outputs": [
    {
     "data": {
      "application/vnd.microsoft.datawrangler.viewer.v0+json": {
       "columns": [
        {
         "name": "index",
         "rawType": "object",
         "type": "string"
        },
        {
         "name": "0",
         "rawType": "int64",
         "type": "integer"
        }
       ],
       "ref": "9a795d19-42e3-4e75-962a-7c5f724f554e",
       "rows": [
        [
         "VIN (1-10)",
         "0"
        ],
        [
         "County",
         "5"
        ],
        [
         "City",
         "5"
        ],
        [
         "State",
         "0"
        ],
        [
         "Postal Code",
         "5"
        ],
        [
         "Model Year",
         "0"
        ],
        [
         "Make",
         "0"
        ],
        [
         "Model",
         "0"
        ],
        [
         "Electric Vehicle Type",
         "0"
        ],
        [
         "Clean Alternative Fuel Vehicle (CAFV) Eligibility",
         "0"
        ],
        [
         "Electric Range",
         "0"
        ],
        [
         "Base MSRP",
         "0"
        ],
        [
         "Legislative District",
         "389"
        ],
        [
         "DOL Vehicle ID",
         "0"
        ],
        [
         "Vehicle Location",
         "9"
        ],
        [
         "Electric Utility",
         "5"
        ],
        [
         "2020 Census Tract",
         "5"
        ]
       ],
       "shape": {
        "columns": 1,
        "rows": 17
       }
      },
      "text/plain": [
       "VIN (1-10)                                             0\n",
       "County                                                 5\n",
       "City                                                   5\n",
       "State                                                  0\n",
       "Postal Code                                            5\n",
       "Model Year                                             0\n",
       "Make                                                   0\n",
       "Model                                                  0\n",
       "Electric Vehicle Type                                  0\n",
       "Clean Alternative Fuel Vehicle (CAFV) Eligibility      0\n",
       "Electric Range                                         0\n",
       "Base MSRP                                              0\n",
       "Legislative District                                 389\n",
       "DOL Vehicle ID                                         0\n",
       "Vehicle Location                                       9\n",
       "Electric Utility                                       5\n",
       "2020 Census Tract                                      5\n",
       "dtype: int64"
      ]
     },
     "execution_count": 8,
     "metadata": {},
     "output_type": "execute_result"
    }
   ],
   "source": [
    "#Check the missing values\n",
    "df.isnull().sum()"
   ]
  },
  {
   "cell_type": "markdown",
   "id": "bc4df30e",
   "metadata": {},
   "source": [
    "The dataset is mostly complete, with a few exceptions.\n",
    "\n",
    "Legislative District is the most problematic column, missing in a significant number of rows (389). This limits geographic policy analysis at the district level.\n",
    "\n",
    "Only a few rows (5–9) have missing location-related fields like County, City, Postal Code, and Vehicle Location. These can be dropped or filled using related data.\n",
    "\n",
    "Electric Range = 0 may not be missing, but rather unknown or non-applicable — requires contextual interpretation."
   ]
  },
  {
   "cell_type": "code",
   "execution_count": 9,
   "id": "2847972d",
   "metadata": {},
   "outputs": [
    {
     "data": {
      "text/plain": [
       "np.int64(0)"
      ]
     },
     "execution_count": 9,
     "metadata": {},
     "output_type": "execute_result"
    }
   ],
   "source": [
    "#Finding the dublicates values\n",
    "df.duplicated().sum()"
   ]
  },
  {
   "cell_type": "markdown",
   "id": "37f957ba",
   "metadata": {},
   "source": [
    "Based onthe above output there is no duplicate values"
   ]
  },
  {
   "cell_type": "code",
   "execution_count": 10,
   "id": "54755dcf",
   "metadata": {},
   "outputs": [
    {
     "data": {
      "application/vnd.microsoft.datawrangler.viewer.v0+json": {
       "columns": [
        {
         "name": "index",
         "rawType": "object",
         "type": "string"
        },
        {
         "name": "0",
         "rawType": "int64",
         "type": "integer"
        }
       ],
       "ref": "a55e97a6-7d8e-493d-80ff-ab0add58643f",
       "rows": [
        [
         "VIN (1-10)",
         "10830"
        ],
        [
         "County",
         "196"
        ],
        [
         "City",
         "723"
        ],
        [
         "State",
         "46"
        ],
        [
         "Postal Code",
         "862"
        ],
        [
         "Model Year",
         "22"
        ],
        [
         "Make",
         "40"
        ],
        [
         "Model",
         "139"
        ],
        [
         "Electric Vehicle Type",
         "2"
        ],
        [
         "Clean Alternative Fuel Vehicle (CAFV) Eligibility",
         "3"
        ],
        [
         "Electric Range",
         "102"
        ],
        [
         "Base MSRP",
         "31"
        ],
        [
         "Legislative District",
         "49"
        ],
        [
         "DOL Vehicle ID",
         "177866"
        ],
        [
         "Vehicle Location",
         "861"
        ],
        [
         "Electric Utility",
         "76"
        ],
        [
         "2020 Census Tract",
         "2115"
        ]
       ],
       "shape": {
        "columns": 1,
        "rows": 17
       }
      },
      "text/plain": [
       "VIN (1-10)                                            10830\n",
       "County                                                  196\n",
       "City                                                    723\n",
       "State                                                    46\n",
       "Postal Code                                             862\n",
       "Model Year                                               22\n",
       "Make                                                     40\n",
       "Model                                                   139\n",
       "Electric Vehicle Type                                     2\n",
       "Clean Alternative Fuel Vehicle (CAFV) Eligibility         3\n",
       "Electric Range                                          102\n",
       "Base MSRP                                                31\n",
       "Legislative District                                     49\n",
       "DOL Vehicle ID                                       177866\n",
       "Vehicle Location                                        861\n",
       "Electric Utility                                         76\n",
       "2020 Census Tract                                      2115\n",
       "dtype: int64"
      ]
     },
     "execution_count": 10,
     "metadata": {},
     "output_type": "execute_result"
    }
   ],
   "source": [
    "df.nunique()"
   ]
  },
  {
   "cell_type": "markdown",
   "id": "29677f22",
   "metadata": {},
   "source": [
    "The dataset contains detailed electric vehicle information across various dimensions. The high cardinality of DOL Vehicle ID (177,866) and VIN (1-10) (10,830) suggests a large number of individual vehicles. In contrast, attributes like Electric Vehicle Type (2), CAFV Eligibility (3), and State (46) show limited variability, indicating categorical or standardized fields. Geographic details (like City, Postal Code, Census Tract) and vehicle specifics (Make, Model, Model Year) also show moderate diversity, pointing to a rich dataset suitable for both demographic and vehicle trend analyses."
   ]
  },
  {
   "cell_type": "markdown",
   "id": "a27cb475",
   "metadata": {},
   "source": [
    "# DATA CLEANING AND PREPROCESSING"
   ]
  },
  {
   "cell_type": "markdown",
   "id": "83a428c4",
   "metadata": {},
   "source": [
    "## Handling missing values"
   ]
  },
  {
   "cell_type": "markdown",
   "id": "4f5ef0dc",
   "metadata": {},
   "source": [
    "We will be handling missing values by dropping rows with missing values for column County, City, Postal Code, Vehicle Location, Electric Utility and 2020 Census Tract. For Electric Utility and 2020 Census Tract we will impute the missing values with value '0'"
   ]
  },
  {
   "cell_type": "code",
   "execution_count": 11,
   "id": "279cf98c",
   "metadata": {},
   "outputs": [],
   "source": [
    "df = df.dropna(subset=['County', 'City', 'Postal Code', 'Vehicle Location', 'Electric Utility', '2020 Census Tract'])"
   ]
  },
  {
   "cell_type": "code",
   "execution_count": 12,
   "id": "807bcae8",
   "metadata": {},
   "outputs": [
    {
     "data": {
      "text/plain": [
       "array([37.,  1., 36.,  5., 23.,  2., 14., 26., 47., 43., 21., 34., 22.,\n",
       "       11., 20., 46., 32., 35., 10., 15., 39., 30., 44., 12.,  6., 40.,\n",
       "       16., 13.,  7.,  3.,  9., 38., 45., 49., 41., 33., 48., 17., 18.,\n",
       "       31., 19., 24., 28., 29., 25., 42., nan, 27.,  8.,  4.])"
      ]
     },
     "execution_count": 12,
     "metadata": {},
     "output_type": "execute_result"
    }
   ],
   "source": [
    "df['Legislative District'].unique()"
   ]
  },
  {
   "cell_type": "code",
   "execution_count": 13,
   "id": "23796140",
   "metadata": {},
   "outputs": [],
   "source": [
    "# Fill NaN with the median\n",
    "median_Legislative_District = df['Legislative District'].median()\n",
    "df['Legislative District'] = df['Legislative District'].fillna(median_Legislative_District).astype(int)"
   ]
  },
  {
   "cell_type": "code",
   "execution_count": 14,
   "id": "92f947cd",
   "metadata": {},
   "outputs": [
    {
     "data": {
      "application/vnd.microsoft.datawrangler.viewer.v0+json": {
       "columns": [
        {
         "name": "index",
         "rawType": "object",
         "type": "string"
        },
        {
         "name": "0",
         "rawType": "int64",
         "type": "integer"
        }
       ],
       "ref": "a7801abd-63ae-407b-ae23-954cdec84369",
       "rows": [
        [
         "VIN (1-10)",
         "0"
        ],
        [
         "County",
         "0"
        ],
        [
         "City",
         "0"
        ],
        [
         "State",
         "0"
        ],
        [
         "Postal Code",
         "0"
        ],
        [
         "Model Year",
         "0"
        ],
        [
         "Make",
         "0"
        ],
        [
         "Model",
         "0"
        ],
        [
         "Electric Vehicle Type",
         "0"
        ],
        [
         "Clean Alternative Fuel Vehicle (CAFV) Eligibility",
         "0"
        ],
        [
         "Electric Range",
         "0"
        ],
        [
         "Base MSRP",
         "0"
        ],
        [
         "Legislative District",
         "0"
        ],
        [
         "DOL Vehicle ID",
         "0"
        ],
        [
         "Vehicle Location",
         "0"
        ],
        [
         "Electric Utility",
         "0"
        ],
        [
         "2020 Census Tract",
         "0"
        ]
       ],
       "shape": {
        "columns": 1,
        "rows": 17
       }
      },
      "text/plain": [
       "VIN (1-10)                                           0\n",
       "County                                               0\n",
       "City                                                 0\n",
       "State                                                0\n",
       "Postal Code                                          0\n",
       "Model Year                                           0\n",
       "Make                                                 0\n",
       "Model                                                0\n",
       "Electric Vehicle Type                                0\n",
       "Clean Alternative Fuel Vehicle (CAFV) Eligibility    0\n",
       "Electric Range                                       0\n",
       "Base MSRP                                            0\n",
       "Legislative District                                 0\n",
       "DOL Vehicle ID                                       0\n",
       "Vehicle Location                                     0\n",
       "Electric Utility                                     0\n",
       "2020 Census Tract                                    0\n",
       "dtype: int64"
      ]
     },
     "execution_count": 14,
     "metadata": {},
     "output_type": "execute_result"
    }
   ],
   "source": [
    "#Reinspecting the missing values\n",
    "df.isnull().sum()"
   ]
  },
  {
   "cell_type": "markdown",
   "id": "1c7978cd",
   "metadata": {},
   "source": [
    "The dataset has no missing values across all columns, indicating it is complete and ready for analysis"
   ]
  },
  {
   "cell_type": "code",
   "execution_count": 15,
   "id": "68d6070f",
   "metadata": {},
   "outputs": [],
   "source": [
    "cols_to_convert = ['VIN (1-10)', 'County', 'City', 'State', 'Model Year', 'Make', 'Model', 'Electric Vehicle Type', 'Vehicle Location', 'Electric Utility', 'Clean Alternative Fuel Vehicle (CAFV) Eligibility', 'Legislative District', '2020 Census Tract']\n",
    "\n",
    "for col in cols_to_convert:\n",
    "    df[col] = pd.to_numeric(df[col], errors='coerce')"
   ]
  },
  {
   "cell_type": "markdown",
   "id": "6dfdef8b",
   "metadata": {},
   "source": [
    "## Handling Outliers"
   ]
  },
  {
   "cell_type": "markdown",
   "id": "6cfef3a6",
   "metadata": {},
   "source": [
    "We first identify outliers in our major columns that is 'Model Year', 'Model', 'Legislative District', '2020 Census Tract' using the Interquartile Range (IQR) and visualization using box plots. Then we proceed to handling them."
   ]
  },
  {
   "cell_type": "code",
   "execution_count": 16,
   "id": "d072c129",
   "metadata": {},
   "outputs": [
    {
     "name": "stdout",
     "output_type": "stream",
     "text": [
      "['VIN (1-10)', 'County', 'City', 'State', 'Postal Code', 'Model Year', 'Make', 'Model', 'Electric Vehicle Type', 'Clean Alternative Fuel Vehicle (CAFV) Eligibility', 'Electric Range', 'Base MSRP', 'Legislative District', 'DOL Vehicle ID', 'Vehicle Location', 'Electric Utility', '2020 Census Tract']\n"
     ]
    }
   ],
   "source": [
    "# List all column names\n",
    "print(df.columns.tolist())"
   ]
  },
  {
   "cell_type": "code",
   "execution_count": 17,
   "id": "e2c360a6",
   "metadata": {},
   "outputs": [
    {
     "name": "stdout",
     "output_type": "stream",
     "text": [
      "Number of outliers detected:\n",
      "2878\n"
     ]
    }
   ],
   "source": [
    "# Define the columns you want to check for outliers\n",
    "major_columns = ['Model Year', 'Model', 'Legislative District', '2020 Census Tract']\n",
    "\n",
    "# Calculate IQR for each column\n",
    "Q1 = df[major_columns].quantile(0.25)\n",
    "Q3 = df[major_columns].quantile(0.75)\n",
    "IQR = Q3 - Q1\n",
    "\n",
    "# Determine outliers using IQR\n",
    "outliers = ((df[major_columns] < (Q1 - 1.5 * IQR)) | (df[major_columns] > (Q3 + 1.5 * IQR))).any(axis=1)\n",
    "\n",
    "# Print number of outliers\n",
    "print(\"Number of outliers detected:\")\n",
    "print(outliers.sum())"
   ]
  },
  {
   "cell_type": "code",
   "execution_count": 18,
   "id": "ce3d2bcc",
   "metadata": {},
   "outputs": [
    {
     "data": {
      "image/png": "[encoded data removed]",
      "text/plain": [
       "<Figure size 1200x800 with 4 Axes>"
      ]
     },
     "metadata": {},
     "output_type": "display_data"
    }
   ],
   "source": [
    "# Set up the figure size\n",
    "plt.figure(figsize=(12, 8))\n",
    "\n",
    "# Create box plots for each column using Seaborn\n",
    "for i, col in enumerate(major_columns, 1):\n",
    "    plt.subplot(2, 2, i)\n",
    "    sns.boxplot(x=df[col])\n",
    "    plt.title(col)\n",
    "\n",
    "# Adjust layout\n",
    "plt.tight_layout()\n",
    "\n",
    "# Show plot\n",
    "plt.show();"
   ]
  },
  {
   "cell_type": "markdown",
   "id": "800e5907",
   "metadata": {},
   "source": [
    "Model Year: Most vehicles are from recent years (2018–2024), but there are several older outliers, some dating back to the late 1990s.\n",
    "\n",
    "Model: The distribution is highly skewed with one major outlier (around 900), suggesting a data anomaly or rare model code.\n",
    "\n",
    "Legislative District: Fairly uniform distribution across districts, indicating wide geographic coverage.\n",
    "\n",
    "2020 Census Tract: Data is spread across a wide range of census tracts with numerous outliers, suggesting significant geographic diversity or a few tracts with disproportionately high values.\n",
    "\n",
    "Overall, the data spans a broad range of locations and years, but a few extreme values (outliers) may need closer examination or cleaning."
   ]
  },
  {
   "cell_type": "code",
   "execution_count": 19,
   "id": "1bcbf73e",
   "metadata": {},
   "outputs": [
    {
     "data": {
      "image/png": "[encoded data removed]",
      "text/plain": [
       "<Figure size 1500x800 with 4 Axes>"
      ]
     },
     "metadata": {},
     "output_type": "display_data"
    }
   ],
   "source": [
    "def plot_distributions(df, columns, n_cols=2, figsize=(15, 4)):\n",
    "    n_rows = (len(columns) - 1) // n_cols + 1\n",
    "    fig, axes = plt.subplots(n_rows, n_cols, figsize=(figsize[0], figsize[1] * n_rows))\n",
    "    axes = axes.flatten()  # Flatten the 2D array of axes for easier indexing\n",
    "\n",
    "    for i, column in enumerate(columns):\n",
    "        ax = axes[i]\n",
    "        sns.histplot(df[column], kde=True, ax=ax)\n",
    "        ax.set_title(f'Distribution of {column}')\n",
    "        ax.set_xlabel(column)\n",
    "        ax.set_ylabel('Count')\n",
    "\n",
    "        # Add skewness value to the plot\n",
    "        skewness = df[column].skew()\n",
    "        ax.text(0.95, 0.95, f'Skewness: {skewness:.2f}', \n",
    "                horizontalalignment='right', verticalalignment='top', \n",
    "                transform=ax.transAxes, bbox=dict(facecolor='white', alpha=0.5))\n",
    "\n",
    "    # Remove any unused subplots\n",
    "    for j in range(i + 1, len(axes)):\n",
    "        fig.delaxes(axes[j])\n",
    "\n",
    "    plt.tight_layout()\n",
    "    plt.show()\n",
    "# Usage\n",
    "columns_to_plot = ['Model Year', 'Model', 'Legislative District', '2020 Census Tract']\n",
    "plot_distributions(df, columns_to_plot);"
   ]
  },
  {
   "cell_type": "markdown",
   "id": "c641ab8c",
   "metadata": {},
   "source": [
    "Model Year\n",
    "\n",
    "Highly left-skewed (Skewness: -1.14), indicating most vehicles are newer (post-2015), with very few older models.\n",
    "\n",
    "Strong spike in 2023–2024 suggests recent data entries dominate.\n",
    "\n",
    "Model\n",
    "\n",
    "Extremely right-skewed (Skewness: 28.02), indicating the presence of one or a few unusually high model codes.\n",
    "\n",
    "Most model values are tightly clustered at the low end, with rare outliers far to the right.\n",
    "\n",
    "Legislative District\n",
    "\n",
    "Slight left skew (Skewness: -0.46), suggesting moderate balance across districts.\n",
    "\n",
    "Some districts are significantly overrepresented (e.g., districts in the 40s).\n",
    "\n",
    "2020 Census Tract\n",
    "\n",
    "Extremely left-skewed (Skewness: -26.96), indicating data is densely concentrated at higher census tract values.\n",
    "\n",
    "Many tracts have very low representation.\n",
    "\n",
    "Summary Insight: The dataset is dominated by recent model years and has extreme skewness in both model and census tract values. These skews suggest potential data anomalies or the need for normalization before modeling or analysis."
   ]
  },
  {
   "cell_type": "markdown",
   "id": "0f4c85f0",
   "metadata": {},
   "source": [
    "## Removing Outliers"
   ]
  },
  {
   "cell_type": "code",
   "execution_count": 20,
   "id": "bffaa68b",
   "metadata": {},
   "outputs": [],
   "source": [
    "def handle_outliers(df, columns, method='iqr', threshold=1.5):\n",
    "    df_cleaned = df.copy()\n",
    "    \n",
    "    for column in columns:\n",
    "        if method == 'iqr':\n",
    "            Q1 = df[column].quantile(0.25)\n",
    "            Q3 = df[column].quantile(0.75)\n",
    "            IQR = Q3 - Q1\n",
    "            lower_bound = Q1 - threshold * IQR\n",
    "            upper_bound = Q3 + threshold * IQR\n",
    "            \n",
    "            df_cleaned[column] = df_cleaned[column].clip(lower_bound, upper_bound)\n",
    "        \n",
    "        elif method == 'percentile':\n",
    "            lower_bound = df[column].quantile(0.01)\n",
    "            upper_bound = df[column].quantile(0.99)\n",
    "            df_cleaned[column] = df_cleaned[column].clip(lower_bound, upper_bound)\n",
    "    \n",
    "    return df_cleaned"
   ]
  },
  {
   "cell_type": "markdown",
   "id": "581cbcb3",
   "metadata": {},
   "source": [
    "# EXPLORATORY DATA ANALYSIS (EDA)"
   ]
  }
 ],
 "metadata": {
  "kernelspec": {
   "display_name": "Python 3",
   "language": "python",
   "name": "python3"
  },
  "language_info": {
   "codemirror_mode": {
    "name": "ipython",
    "version": 3
   },
   "file_extension": ".py",
   "mimetype": "text/x-python",
   "name": "python",
   "nbconvert_exporter": "python",
   "pygments_lexer": "ipython3",
   "version": "3.12.10"
  }
 },
 "nbformat": 4,
 "nbformat_minor": 5
}
