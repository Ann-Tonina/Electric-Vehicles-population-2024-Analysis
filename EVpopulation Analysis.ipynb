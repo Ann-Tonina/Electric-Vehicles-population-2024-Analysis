{
 "cells": [
  {
   "cell_type": "markdown",
   "id": "30b9055b",
   "metadata": {},
   "source": [
    "# ABOUT DATASET\n",
    "This dataset shows the Battery Electric Vehicles (BEVs) and Plug-in Hybrid Electric Vehicles (PHEVs) that are currently registered through Washington State Department of Licensing (DOL) updated 2024."
   ]
  },
  {
   "cell_type": "markdown",
   "id": "f75607fe",
   "metadata": {},
   "source": [
    "# BUSINESS PROBLEM\n",
    "\n",
    "As electric vehicle (EV) adoption increases in Washington State, policymakers, utility providers, and automakers need data-driven insights to support infrastructure planning, incentive programs and customer outreach. However, understanding where and how EVs are being adopted—by city, model, year, and utility provider is fragmented.\n",
    "\n",
    "## Key Problem:\n",
    "How can stakeholders identify trends, disparities, and opportunities in EV adoption across geographic and demographic regions in Washington State to optimize resource allocation and policy development?"
   ]
  },
  {
   "cell_type": "markdown",
   "id": "8aabdeab",
   "metadata": {},
   "source": [
    "# BUSINESS OBJECTIVES\n",
    "\n",
    "### Adoption Trend Analysis: \n",
    "Identify trends in EV adoption over time, by make, model, and model year.\n",
    "\n",
    "### Geographic Distribution:\n",
    "Analyze EV ownership density by county, city, and legislative district.\n",
    "\n",
    "### Infrastructure Planning:\n",
    "Identify areas with high EV population but limited utility coverage or support for EV infrastructure.\n",
    "\n",
    "### Incentive Effectiveness:\n",
    "Evaluate the correlation between CAFV eligibility and EV adoption.\n",
    "\n",
    "### Equity Assessment:\n",
    "Compare EV adoption across different 2020 census tracts to uncover demographic or economic disparities."
   ]
  },
  {
   "cell_type": "markdown",
   "id": "7644b7ff",
   "metadata": {},
   "source": [
    "# PROPOSED METHODOLOGY\n",
    "1. ### Data Cleaning and Preprocessing\n",
    "Handle missing values\n",
    "\n",
    "Parse and standardize geographical coordinates and utilities\n",
    "\n",
    "Convert categorical fields (e.g., Make, Model, CAFV Eligibility) to appropriate formats\n",
    "\n",
    "2. ### Exploratory Data Analysis (EDA)\n",
    "Temporal trends (Model Year vs Count)\n",
    "\n",
    "Geospatial mapping of EV ownership (using coordinates, county, city)\n",
    "\n",
    "Popular makes/models and their distribution\n",
    "\n",
    "EV range and MSRP trends over years\n",
    "\n",
    "3. ### Geospatial Analysis\n",
    "Map EV density using Vehicle Location\n",
    "\n",
    "Overlay electric utility regions to assess alignment with EV adoption\n",
    "\n",
    "Identify underserved areas (e.g., low EV counts with high population)\n",
    "\n",
    "4. ### CAFV and Policy Impact Evaluation\n",
    "Cross-tabulation of CAFV eligibility vs. adoption by year\n",
    "\n",
    "Visualize the impact of eligibility status on EV model distribution\n",
    "\n",
    "5. ### Equity & Access Analysis\n",
    "Join dataset with census data using 2020 Census Tract\n",
    "\n",
    "Examine demographic characteristics (income, race, education) and EV adoption levels\n",
    "\n",
    "6. ### Recommendations\n",
    "Highlight underserved regions for infrastructure build-out\n",
    "\n",
    "Recommend adjustments to incentive programs based on adoption and eligibility data\n",
    "\n",
    "Inform utility providers on capacity planning and future demand areas\n",
    "\n"
   ]
  },
  {
   "cell_type": "markdown",
   "id": "6b13b001",
   "metadata": {},
   "source": [
    "# DATA UNDERSTANDING"
   ]
  },
  {
   "cell_type": "markdown",
   "id": "6e2471dd",
   "metadata": {},
   "source": [
    "## Load and Inspect the data"
   ]
  },
  {
   "cell_type": "code",
   "execution_count": 121,
   "id": "1f3190fa",
   "metadata": {},
   "outputs": [],
   "source": [
    "# Import necessary Libraries\n",
    "import pandas as pd\n",
    "import numpy as np\n",
    "import matplotlib.pyplot as plt\n",
    "import seaborn as sns\n",
    "from sklearn.preprocessing import MinMaxScaler,StandardScaler\n",
    "import warnings"
   ]
  },
  {
   "cell_type": "code",
   "execution_count": 122,
   "id": "3f86d2b1",
   "metadata": {},
   "outputs": [],
   "source": [
    "# Loading the dataset\n",
    "df = pd.read_csv(\"Electric_Vehicle_Population_Data.csv\")"
   ]
  },
  {
   "cell_type": "code",
   "execution_count": 123,
   "id": "1f6ad274",
   "metadata": {},
   "outputs": [
    {
     "data": {
      "text/plain": [
       "(177866, 17)"
      ]
     },
     "execution_count": 123,
     "metadata": {},
     "output_type": "execute_result"
    }
   ],
   "source": [
    "# Check the data shape\n",
    "df.shape"
   ]
  },
  {
   "cell_type": "code",
   "execution_count": 124,
   "id": "64466f7a",
   "metadata": {},
   "outputs": [
    {
     "data": {
      "application/vnd.microsoft.datawrangler.viewer.v0+json": {
       "columns": [
        {
         "name": "index",
         "rawType": "int64",
         "type": "integer"
        },
        {
         "name": "VIN (1-10)",
         "rawType": "object",
         "type": "string"
        },
        {
         "name": "County",
         "rawType": "object",
         "type": "string"
        },
        {
         "name": "City",
         "rawType": "object",
         "type": "string"
        },
        {
         "name": "State",
         "rawType": "object",
         "type": "string"
        },
        {
         "name": "Postal Code",
         "rawType": "float64",
         "type": "float"
        },
        {
         "name": "Model Year",
         "rawType": "int64",
         "type": "integer"
        },
        {
         "name": "Make",
         "rawType": "object",
         "type": "string"
        },
        {
         "name": "Model",
         "rawType": "object",
         "type": "string"
        },
        {
         "name": "Electric Vehicle Type",
         "rawType": "object",
         "type": "string"
        },
        {
         "name": "Clean Alternative Fuel Vehicle (CAFV) Eligibility",
         "rawType": "object",
         "type": "string"
        },
        {
         "name": "Electric Range",
         "rawType": "int64",
         "type": "integer"
        },
        {
         "name": "Base MSRP",
         "rawType": "int64",
         "type": "integer"
        },
        {
         "name": "Legislative District",
         "rawType": "float64",
         "type": "float"
        },
        {
         "name": "DOL Vehicle ID",
         "rawType": "int64",
         "type": "integer"
        },
        {
         "name": "Vehicle Location",
         "rawType": "object",
         "type": "string"
        },
        {
         "name": "Electric Utility",
         "rawType": "object",
         "type": "string"
        },
        {
         "name": "2020 Census Tract",
         "rawType": "float64",
         "type": "float"
        }
       ],
       "ref": "b748e765-3be1-41c8-8b9f-da0b721a5928",
       "rows": [
        [
         "0",
         "5YJYGDEE1L",
         "King",
         "Seattle",
         "WA",
         "98122.0",
         "2020",
         "TESLA",
         "MODEL Y",
         "Battery Electric Vehicle (BEV)",
         "Clean Alternative Fuel Vehicle Eligible",
         "291",
         "0",
         "37.0",
         "125701579",
         "POINT (-122.30839 47.610365)",
         "CITY OF SEATTLE - (WA)|CITY OF TACOMA - (WA)",
         "53033007800.0"
        ],
        [
         "1",
         "7SAYGDEE9P",
         "Snohomish",
         "Bothell",
         "WA",
         "98021.0",
         "2023",
         "TESLA",
         "MODEL Y",
         "Battery Electric Vehicle (BEV)",
         "Eligibility unknown as battery range has not been researched",
         "0",
         "0",
         "1.0",
         "244285107",
         "POINT (-122.179458 47.802589)",
         "PUGET SOUND ENERGY INC",
         "53061051938.0"
        ],
        [
         "2",
         "5YJSA1E4XK",
         "King",
         "Seattle",
         "WA",
         "98109.0",
         "2019",
         "TESLA",
         "MODEL S",
         "Battery Electric Vehicle (BEV)",
         "Clean Alternative Fuel Vehicle Eligible",
         "270",
         "0",
         "36.0",
         "156773144",
         "POINT (-122.34848 47.632405)",
         "CITY OF SEATTLE - (WA)|CITY OF TACOMA - (WA)",
         "53033006800.0"
        ],
        [
         "3",
         "5YJSA1E27G",
         "King",
         "Issaquah",
         "WA",
         "98027.0",
         "2016",
         "TESLA",
         "MODEL S",
         "Battery Electric Vehicle (BEV)",
         "Clean Alternative Fuel Vehicle Eligible",
         "210",
         "0",
         "5.0",
         "165103011",
         "POINT (-122.03646 47.534065)",
         "PUGET SOUND ENERGY INC||CITY OF TACOMA - (WA)",
         "53033032104.0"
        ],
        [
         "4",
         "5YJYGDEE5M",
         "Kitsap",
         "Suquamish",
         "WA",
         "98392.0",
         "2021",
         "TESLA",
         "MODEL Y",
         "Battery Electric Vehicle (BEV)",
         "Eligibility unknown as battery range has not been researched",
         "0",
         "0",
         "23.0",
         "205138552",
         "POINT (-122.55717 47.733415)",
         "PUGET SOUND ENERGY INC",
         "53035940100.0"
        ]
       ],
       "shape": {
        "columns": 17,
        "rows": 5
       }
      },
      "text/html": [
       "<div>\n",
       "<style scoped>\n",
       "    .dataframe tbody tr th:only-of-type {\n",
       "        vertical-align: middle;\n",
       "    }\n",
       "\n",
       "    .dataframe tbody tr th {\n",
       "        vertical-align: top;\n",
       "    }\n",
       "\n",
       "    .dataframe thead th {\n",
       "        text-align: right;\n",
       "    }\n",
       "</style>\n",
       "<table border=\"1\" class=\"dataframe\">\n",
       "  <thead>\n",
       "    <tr style=\"text-align: right;\">\n",
       "      <th></th>\n",
       "      <th>VIN (1-10)</th>\n",
       "      <th>County</th>\n",
       "      <th>City</th>\n",
       "      <th>State</th>\n",
       "      <th>Postal Code</th>\n",
       "      <th>Model Year</th>\n",
       "      <th>Make</th>\n",
       "      <th>Model</th>\n",
       "      <th>Electric Vehicle Type</th>\n",
       "      <th>Clean Alternative Fuel Vehicle (CAFV) Eligibility</th>\n",
       "      <th>Electric Range</th>\n",
       "      <th>Base MSRP</th>\n",
       "      <th>Legislative District</th>\n",
       "      <th>DOL Vehicle ID</th>\n",
       "      <th>Vehicle Location</th>\n",
       "      <th>Electric Utility</th>\n",
       "      <th>2020 Census Tract</th>\n",
       "    </tr>\n",
       "  </thead>\n",
       "  <tbody>\n",
       "    <tr>\n",
       "      <th>0</th>\n",
       "      <td>5YJYGDEE1L</td>\n",
       "      <td>King</td>\n",
       "      <td>Seattle</td>\n",
       "      <td>WA</td>\n",
       "      <td>98122.0</td>\n",
       "      <td>2020</td>\n",
       "      <td>TESLA</td>\n",
       "      <td>MODEL Y</td>\n",
       "      <td>Battery Electric Vehicle (BEV)</td>\n",
       "      <td>Clean Alternative Fuel Vehicle Eligible</td>\n",
       "      <td>291</td>\n",
       "      <td>0</td>\n",
       "      <td>37.0</td>\n",
       "      <td>125701579</td>\n",
       "      <td>POINT (-122.30839 47.610365)</td>\n",
       "      <td>CITY OF SEATTLE - (WA)|CITY OF TACOMA - (WA)</td>\n",
       "      <td>5.303301e+10</td>\n",
       "    </tr>\n",
       "    <tr>\n",
       "      <th>1</th>\n",
       "      <td>7SAYGDEE9P</td>\n",
       "      <td>Snohomish</td>\n",
       "      <td>Bothell</td>\n",
       "      <td>WA</td>\n",
       "      <td>98021.0</td>\n",
       "      <td>2023</td>\n",
       "      <td>TESLA</td>\n",
       "      <td>MODEL Y</td>\n",
       "      <td>Battery Electric Vehicle (BEV)</td>\n",
       "      <td>Eligibility unknown as battery range has not b...</td>\n",
       "      <td>0</td>\n",
       "      <td>0</td>\n",
       "      <td>1.0</td>\n",
       "      <td>244285107</td>\n",
       "      <td>POINT (-122.179458 47.802589)</td>\n",
       "      <td>PUGET SOUND ENERGY INC</td>\n",
       "      <td>5.306105e+10</td>\n",
       "    </tr>\n",
       "    <tr>\n",
       "      <th>2</th>\n",
       "      <td>5YJSA1E4XK</td>\n",
       "      <td>King</td>\n",
       "      <td>Seattle</td>\n",
       "      <td>WA</td>\n",
       "      <td>98109.0</td>\n",
       "      <td>2019</td>\n",
       "      <td>TESLA</td>\n",
       "      <td>MODEL S</td>\n",
       "      <td>Battery Electric Vehicle (BEV)</td>\n",
       "      <td>Clean Alternative Fuel Vehicle Eligible</td>\n",
       "      <td>270</td>\n",
       "      <td>0</td>\n",
       "      <td>36.0</td>\n",
       "      <td>156773144</td>\n",
       "      <td>POINT (-122.34848 47.632405)</td>\n",
       "      <td>CITY OF SEATTLE - (WA)|CITY OF TACOMA - (WA)</td>\n",
       "      <td>5.303301e+10</td>\n",
       "    </tr>\n",
       "    <tr>\n",
       "      <th>3</th>\n",
       "      <td>5YJSA1E27G</td>\n",
       "      <td>King</td>\n",
       "      <td>Issaquah</td>\n",
       "      <td>WA</td>\n",
       "      <td>98027.0</td>\n",
       "      <td>2016</td>\n",
       "      <td>TESLA</td>\n",
       "      <td>MODEL S</td>\n",
       "      <td>Battery Electric Vehicle (BEV)</td>\n",
       "      <td>Clean Alternative Fuel Vehicle Eligible</td>\n",
       "      <td>210</td>\n",
       "      <td>0</td>\n",
       "      <td>5.0</td>\n",
       "      <td>165103011</td>\n",
       "      <td>POINT (-122.03646 47.534065)</td>\n",
       "      <td>PUGET SOUND ENERGY INC||CITY OF TACOMA - (WA)</td>\n",
       "      <td>5.303303e+10</td>\n",
       "    </tr>\n",
       "    <tr>\n",
       "      <th>4</th>\n",
       "      <td>5YJYGDEE5M</td>\n",
       "      <td>Kitsap</td>\n",
       "      <td>Suquamish</td>\n",
       "      <td>WA</td>\n",
       "      <td>98392.0</td>\n",
       "      <td>2021</td>\n",
       "      <td>TESLA</td>\n",
       "      <td>MODEL Y</td>\n",
       "      <td>Battery Electric Vehicle (BEV)</td>\n",
       "      <td>Eligibility unknown as battery range has not b...</td>\n",
       "      <td>0</td>\n",
       "      <td>0</td>\n",
       "      <td>23.0</td>\n",
       "      <td>205138552</td>\n",
       "      <td>POINT (-122.55717 47.733415)</td>\n",
       "      <td>PUGET SOUND ENERGY INC</td>\n",
       "      <td>5.303594e+10</td>\n",
       "    </tr>\n",
       "  </tbody>\n",
       "</table>\n",
       "</div>"
      ],
      "text/plain": [
       "   VIN (1-10)     County       City State  Postal Code  Model Year   Make  \\\n",
       "0  5YJYGDEE1L       King    Seattle    WA      98122.0        2020  TESLA   \n",
       "1  7SAYGDEE9P  Snohomish    Bothell    WA      98021.0        2023  TESLA   \n",
       "2  5YJSA1E4XK       King    Seattle    WA      98109.0        2019  TESLA   \n",
       "3  5YJSA1E27G       King   Issaquah    WA      98027.0        2016  TESLA   \n",
       "4  5YJYGDEE5M     Kitsap  Suquamish    WA      98392.0        2021  TESLA   \n",
       "\n",
       "     Model           Electric Vehicle Type  \\\n",
       "0  MODEL Y  Battery Electric Vehicle (BEV)   \n",
       "1  MODEL Y  Battery Electric Vehicle (BEV)   \n",
       "2  MODEL S  Battery Electric Vehicle (BEV)   \n",
       "3  MODEL S  Battery Electric Vehicle (BEV)   \n",
       "4  MODEL Y  Battery Electric Vehicle (BEV)   \n",
       "\n",
       "   Clean Alternative Fuel Vehicle (CAFV) Eligibility  Electric Range  \\\n",
       "0            Clean Alternative Fuel Vehicle Eligible             291   \n",
       "1  Eligibility unknown as battery range has not b...               0   \n",
       "2            Clean Alternative Fuel Vehicle Eligible             270   \n",
       "3            Clean Alternative Fuel Vehicle Eligible             210   \n",
       "4  Eligibility unknown as battery range has not b...               0   \n",
       "\n",
       "   Base MSRP  Legislative District  DOL Vehicle ID  \\\n",
       "0          0                  37.0       125701579   \n",
       "1          0                   1.0       244285107   \n",
       "2          0                  36.0       156773144   \n",
       "3          0                   5.0       165103011   \n",
       "4          0                  23.0       205138552   \n",
       "\n",
       "                Vehicle Location  \\\n",
       "0   POINT (-122.30839 47.610365)   \n",
       "1  POINT (-122.179458 47.802589)   \n",
       "2   POINT (-122.34848 47.632405)   \n",
       "3   POINT (-122.03646 47.534065)   \n",
       "4   POINT (-122.55717 47.733415)   \n",
       "\n",
       "                                Electric Utility  2020 Census Tract  \n",
       "0   CITY OF SEATTLE - (WA)|CITY OF TACOMA - (WA)       5.303301e+10  \n",
       "1                         PUGET SOUND ENERGY INC       5.306105e+10  \n",
       "2   CITY OF SEATTLE - (WA)|CITY OF TACOMA - (WA)       5.303301e+10  \n",
       "3  PUGET SOUND ENERGY INC||CITY OF TACOMA - (WA)       5.303303e+10  \n",
       "4                         PUGET SOUND ENERGY INC       5.303594e+10  "
      ]
     },
     "execution_count": 124,
     "metadata": {},
     "output_type": "execute_result"
    }
   ],
   "source": [
    "# Check the data head\n",
    "df.head()"
   ]
  },
  {
   "cell_type": "markdown",
   "id": "4c1dc4ed",
   "metadata": {},
   "source": [
    "Based on the above code output it shows 5 Tesla electric vehicles registered in Washington State, primarily in King County. All are Battery Electric Vehicles (BEVs), with models including the Model Y and Model S.\n",
    "\n",
    "However, there are inconsistencies in the data:\n",
    "\n",
    "Electric Range of 0 appears in 3 out of 5 entries, which is likely a garbage or missing value, especially for models like the Model Y or S, which typically have substantial range.\n",
    "\n",
    "Base MSRP is 0 for all entries, suggesting incomplete or unreported pricing data.\n",
    "\n",
    "The \"CAFV Eligibility\" is listed as \"unknown\" for some vehicles, indicating a lack of battery range data.\n",
    "\n",
    "This suggests a need for data cleaning, particularly for range and price fields, before any meaningful analysis or policy decisions can be made from this dataset."
   ]
  },
  {
   "cell_type": "code",
   "execution_count": 125,
   "id": "4ca2d975",
   "metadata": {},
   "outputs": [
    {
     "data": {
      "application/vnd.microsoft.datawrangler.viewer.v0+json": {
       "columns": [
        {
         "name": "index",
         "rawType": "int64",
         "type": "integer"
        },
        {
         "name": "VIN (1-10)",
         "rawType": "object",
         "type": "string"
        },
        {
         "name": "County",
         "rawType": "object",
         "type": "string"
        },
        {
         "name": "City",
         "rawType": "object",
         "type": "string"
        },
        {
         "name": "State",
         "rawType": "object",
         "type": "string"
        },
        {
         "name": "Postal Code",
         "rawType": "float64",
         "type": "float"
        },
        {
         "name": "Model Year",
         "rawType": "int64",
         "type": "integer"
        },
        {
         "name": "Make",
         "rawType": "object",
         "type": "string"
        },
        {
         "name": "Model",
         "rawType": "object",
         "type": "string"
        },
        {
         "name": "Electric Vehicle Type",
         "rawType": "object",
         "type": "string"
        },
        {
         "name": "Clean Alternative Fuel Vehicle (CAFV) Eligibility",
         "rawType": "object",
         "type": "string"
        },
        {
         "name": "Electric Range",
         "rawType": "int64",
         "type": "integer"
        },
        {
         "name": "Base MSRP",
         "rawType": "int64",
         "type": "integer"
        },
        {
         "name": "Legislative District",
         "rawType": "float64",
         "type": "float"
        },
        {
         "name": "DOL Vehicle ID",
         "rawType": "int64",
         "type": "integer"
        },
        {
         "name": "Vehicle Location",
         "rawType": "object",
         "type": "string"
        },
        {
         "name": "Electric Utility",
         "rawType": "object",
         "type": "string"
        },
        {
         "name": "2020 Census Tract",
         "rawType": "float64",
         "type": "float"
        }
       ],
       "ref": "95292b5a-aec8-422e-972b-20639740eab1",
       "rows": [
        [
         "177861",
         "7SAYGDEE3N",
         "Pierce",
         "Bonney Lake",
         "WA",
         "98391.0",
         "2022",
         "TESLA",
         "MODEL Y",
         "Battery Electric Vehicle (BEV)",
         "Eligibility unknown as battery range has not been researched",
         "0",
         "0",
         "31.0",
         "195224452",
         "POINT (-122.183805 47.18062)",
         "PUGET SOUND ENERGY INC||CITY OF TACOMA - (WA)",
         "53053070308.0"
        ],
        [
         "177862",
         "KM8K23AG1P",
         "Mason",
         "Shelton",
         "WA",
         "98584.0",
         "2023",
         "HYUNDAI",
         "KONA ELECTRIC",
         "Battery Electric Vehicle (BEV)",
         "Eligibility unknown as battery range has not been researched",
         "0",
         "0",
         "35.0",
         "228454180",
         "POINT (-123.105305 47.211085)",
         "BONNEVILLE POWER ADMINISTRATION||CITY OF TACOMA - (WA)||PUD NO 3 OF MASON COUNTY",
         "53045960900.0"
        ],
        [
         "177863",
         "5YJYGDEE6M",
         "Grant",
         "Quincy",
         "WA",
         "98848.0",
         "2021",
         "TESLA",
         "MODEL Y",
         "Battery Electric Vehicle (BEV)",
         "Eligibility unknown as battery range has not been researched",
         "0",
         "0",
         "13.0",
         "168797219",
         "POINT (-119.8493873 47.2339933)",
         "PUD NO 2 OF GRANT COUNTY",
         "53025010500.0"
        ],
        [
         "177864",
         "WVGKMPE27M",
         "King",
         "Black Diamond",
         "WA",
         "98010.0",
         "2021",
         "VOLKSWAGEN",
         "ID.4",
         "Battery Electric Vehicle (BEV)",
         "Eligibility unknown as battery range has not been researched",
         "0",
         "0",
         "5.0",
         "182448801",
         "POINT (-122.00451 47.312185)",
         "PUGET SOUND ENERGY INC||CITY OF TACOMA - (WA)",
         "53033031603.0"
        ],
        [
         "177865",
         "5YJ3E1EA8M",
         "Pierce",
         "Tacoma",
         "WA",
         "98422.0",
         "2021",
         "TESLA",
         "MODEL 3",
         "Battery Electric Vehicle (BEV)",
         "Eligibility unknown as battery range has not been researched",
         "0",
         "0",
         "27.0",
         "211464683",
         "POINT (-122.38578 47.28971)",
         "BONNEVILLE POWER ADMINISTRATION||CITY OF TACOMA - (WA)||PENINSULA LIGHT COMPANY",
         "53053940005.0"
        ]
       ],
       "shape": {
        "columns": 17,
        "rows": 5
       }
      },
      "text/html": [
       "<div>\n",
       "<style scoped>\n",
       "    .dataframe tbody tr th:only-of-type {\n",
       "        vertical-align: middle;\n",
       "    }\n",
       "\n",
       "    .dataframe tbody tr th {\n",
       "        vertical-align: top;\n",
       "    }\n",
       "\n",
       "    .dataframe thead th {\n",
       "        text-align: right;\n",
       "    }\n",
       "</style>\n",
       "<table border=\"1\" class=\"dataframe\">\n",
       "  <thead>\n",
       "    <tr style=\"text-align: right;\">\n",
       "      <th></th>\n",
       "      <th>VIN (1-10)</th>\n",
       "      <th>County</th>\n",
       "      <th>City</th>\n",
       "      <th>State</th>\n",
       "      <th>Postal Code</th>\n",
       "      <th>Model Year</th>\n",
       "      <th>Make</th>\n",
       "      <th>Model</th>\n",
       "      <th>Electric Vehicle Type</th>\n",
       "      <th>Clean Alternative Fuel Vehicle (CAFV) Eligibility</th>\n",
       "      <th>Electric Range</th>\n",
       "      <th>Base MSRP</th>\n",
       "      <th>Legislative District</th>\n",
       "      <th>DOL Vehicle ID</th>\n",
       "      <th>Vehicle Location</th>\n",
       "      <th>Electric Utility</th>\n",
       "      <th>2020 Census Tract</th>\n",
       "    </tr>\n",
       "  </thead>\n",
       "  <tbody>\n",
       "    <tr>\n",
       "      <th>177861</th>\n",
       "      <td>7SAYGDEE3N</td>\n",
       "      <td>Pierce</td>\n",
       "      <td>Bonney Lake</td>\n",
       "      <td>WA</td>\n",
       "      <td>98391.0</td>\n",
       "      <td>2022</td>\n",
       "      <td>TESLA</td>\n",
       "      <td>MODEL Y</td>\n",
       "      <td>Battery Electric Vehicle (BEV)</td>\n",
       "      <td>Eligibility unknown as battery range has not b...</td>\n",
       "      <td>0</td>\n",
       "      <td>0</td>\n",
       "      <td>31.0</td>\n",
       "      <td>195224452</td>\n",
       "      <td>POINT (-122.183805 47.18062)</td>\n",
       "      <td>PUGET SOUND ENERGY INC||CITY OF TACOMA - (WA)</td>\n",
       "      <td>5.305307e+10</td>\n",
       "    </tr>\n",
       "    <tr>\n",
       "      <th>177862</th>\n",
       "      <td>KM8K23AG1P</td>\n",
       "      <td>Mason</td>\n",
       "      <td>Shelton</td>\n",
       "      <td>WA</td>\n",
       "      <td>98584.0</td>\n",
       "      <td>2023</td>\n",
       "      <td>HYUNDAI</td>\n",
       "      <td>KONA ELECTRIC</td>\n",
       "      <td>Battery Electric Vehicle (BEV)</td>\n",
       "      <td>Eligibility unknown as battery range has not b...</td>\n",
       "      <td>0</td>\n",
       "      <td>0</td>\n",
       "      <td>35.0</td>\n",
       "      <td>228454180</td>\n",
       "      <td>POINT (-123.105305 47.211085)</td>\n",
       "      <td>BONNEVILLE POWER ADMINISTRATION||CITY OF TACOM...</td>\n",
       "      <td>5.304596e+10</td>\n",
       "    </tr>\n",
       "    <tr>\n",
       "      <th>177863</th>\n",
       "      <td>5YJYGDEE6M</td>\n",
       "      <td>Grant</td>\n",
       "      <td>Quincy</td>\n",
       "      <td>WA</td>\n",
       "      <td>98848.0</td>\n",
       "      <td>2021</td>\n",
       "      <td>TESLA</td>\n",
       "      <td>MODEL Y</td>\n",
       "      <td>Battery Electric Vehicle (BEV)</td>\n",
       "      <td>Eligibility unknown as battery range has not b...</td>\n",
       "      <td>0</td>\n",
       "      <td>0</td>\n",
       "      <td>13.0</td>\n",
       "      <td>168797219</td>\n",
       "      <td>POINT (-119.8493873 47.2339933)</td>\n",
       "      <td>PUD NO 2 OF GRANT COUNTY</td>\n",
       "      <td>5.302501e+10</td>\n",
       "    </tr>\n",
       "    <tr>\n",
       "      <th>177864</th>\n",
       "      <td>WVGKMPE27M</td>\n",
       "      <td>King</td>\n",
       "      <td>Black Diamond</td>\n",
       "      <td>WA</td>\n",
       "      <td>98010.0</td>\n",
       "      <td>2021</td>\n",
       "      <td>VOLKSWAGEN</td>\n",
       "      <td>ID.4</td>\n",
       "      <td>Battery Electric Vehicle (BEV)</td>\n",
       "      <td>Eligibility unknown as battery range has not b...</td>\n",
       "      <td>0</td>\n",
       "      <td>0</td>\n",
       "      <td>5.0</td>\n",
       "      <td>182448801</td>\n",
       "      <td>POINT (-122.00451 47.312185)</td>\n",
       "      <td>PUGET SOUND ENERGY INC||CITY OF TACOMA - (WA)</td>\n",
       "      <td>5.303303e+10</td>\n",
       "    </tr>\n",
       "    <tr>\n",
       "      <th>177865</th>\n",
       "      <td>5YJ3E1EA8M</td>\n",
       "      <td>Pierce</td>\n",
       "      <td>Tacoma</td>\n",
       "      <td>WA</td>\n",
       "      <td>98422.0</td>\n",
       "      <td>2021</td>\n",
       "      <td>TESLA</td>\n",
       "      <td>MODEL 3</td>\n",
       "      <td>Battery Electric Vehicle (BEV)</td>\n",
       "      <td>Eligibility unknown as battery range has not b...</td>\n",
       "      <td>0</td>\n",
       "      <td>0</td>\n",
       "      <td>27.0</td>\n",
       "      <td>211464683</td>\n",
       "      <td>POINT (-122.38578 47.28971)</td>\n",
       "      <td>BONNEVILLE POWER ADMINISTRATION||CITY OF TACOM...</td>\n",
       "      <td>5.305394e+10</td>\n",
       "    </tr>\n",
       "  </tbody>\n",
       "</table>\n",
       "</div>"
      ],
      "text/plain": [
       "        VIN (1-10)  County           City State  Postal Code  Model Year  \\\n",
       "177861  7SAYGDEE3N  Pierce    Bonney Lake    WA      98391.0        2022   \n",
       "177862  KM8K23AG1P   Mason        Shelton    WA      98584.0        2023   \n",
       "177863  5YJYGDEE6M   Grant         Quincy    WA      98848.0        2021   \n",
       "177864  WVGKMPE27M    King  Black Diamond    WA      98010.0        2021   \n",
       "177865  5YJ3E1EA8M  Pierce         Tacoma    WA      98422.0        2021   \n",
       "\n",
       "              Make          Model           Electric Vehicle Type  \\\n",
       "177861       TESLA        MODEL Y  Battery Electric Vehicle (BEV)   \n",
       "177862     HYUNDAI  KONA ELECTRIC  Battery Electric Vehicle (BEV)   \n",
       "177863       TESLA        MODEL Y  Battery Electric Vehicle (BEV)   \n",
       "177864  VOLKSWAGEN           ID.4  Battery Electric Vehicle (BEV)   \n",
       "177865       TESLA        MODEL 3  Battery Electric Vehicle (BEV)   \n",
       "\n",
       "        Clean Alternative Fuel Vehicle (CAFV) Eligibility  Electric Range  \\\n",
       "177861  Eligibility unknown as battery range has not b...               0   \n",
       "177862  Eligibility unknown as battery range has not b...               0   \n",
       "177863  Eligibility unknown as battery range has not b...               0   \n",
       "177864  Eligibility unknown as battery range has not b...               0   \n",
       "177865  Eligibility unknown as battery range has not b...               0   \n",
       "\n",
       "        Base MSRP  Legislative District  DOL Vehicle ID  \\\n",
       "177861          0                  31.0       195224452   \n",
       "177862          0                  35.0       228454180   \n",
       "177863          0                  13.0       168797219   \n",
       "177864          0                   5.0       182448801   \n",
       "177865          0                  27.0       211464683   \n",
       "\n",
       "                       Vehicle Location  \\\n",
       "177861     POINT (-122.183805 47.18062)   \n",
       "177862    POINT (-123.105305 47.211085)   \n",
       "177863  POINT (-119.8493873 47.2339933)   \n",
       "177864     POINT (-122.00451 47.312185)   \n",
       "177865      POINT (-122.38578 47.28971)   \n",
       "\n",
       "                                         Electric Utility  2020 Census Tract  \n",
       "177861      PUGET SOUND ENERGY INC||CITY OF TACOMA - (WA)       5.305307e+10  \n",
       "177862  BONNEVILLE POWER ADMINISTRATION||CITY OF TACOM...       5.304596e+10  \n",
       "177863                           PUD NO 2 OF GRANT COUNTY       5.302501e+10  \n",
       "177864      PUGET SOUND ENERGY INC||CITY OF TACOMA - (WA)       5.303303e+10  \n",
       "177865  BONNEVILLE POWER ADMINISTRATION||CITY OF TACOM...       5.305394e+10  "
      ]
     },
     "execution_count": 125,
     "metadata": {},
     "output_type": "execute_result"
    }
   ],
   "source": [
    "# Check the data tail\n",
    "df.tail()"
   ]
  },
  {
   "cell_type": "markdown",
   "id": "2cad3cc5",
   "metadata": {},
   "source": [
    "All five electric vehicles listed are recent Battery Electric Vehicles (BEVs) (model years 2021–2023) from brands like Tesla, Hyundai, and Volkswagen, registered across various Washington counties.\n",
    "\n",
    "However, all entries have missing or zero values for:\n",
    "\n",
    "Electric Range\n",
    "\n",
    "Base MSRP\n",
    "\n",
    "CAFV Eligibility\n",
    "\n",
    "This strongly indicates incomplete or faulty data entry, making the records unreliable for any analysis involving vehicle performance, eligibility, or pricing. Data validation and enrichment are needed before further use."
   ]
  },
  {
   "cell_type": "markdown",
   "id": "51ca3ae4",
   "metadata": {},
   "source": [
    "The output (177866, 17) indicates the shape of the dataset, specifically:\n",
    "\n",
    "177,866 rows (individual electric vehicle records)\n",
    "\n",
    "17 columns (features/attributes per vehicle)\n",
    "\n",
    "🔍 Quick Insight:\n",
    "The dataset is large and comprehensive, suggesting it's a valuable resource for analyzing electric vehicle trends in Washington State. However, based on the earlier sample rows, data quality issues like missing values e.g. in electric range, MSRP etc may need to be addressed before conducting accurate analyses."
   ]
  },
  {
   "cell_type": "code",
   "execution_count": 126,
   "id": "e41a7f82",
   "metadata": {},
   "outputs": [
    {
     "name": "stdout",
     "output_type": "stream",
     "text": [
      "<class 'pandas.core.frame.DataFrame'>\n",
      "RangeIndex: 177866 entries, 0 to 177865\n",
      "Data columns (total 17 columns):\n",
      " #   Column                                             Non-Null Count   Dtype  \n",
      "---  ------                                             --------------   -----  \n",
      " 0   VIN (1-10)                                         177866 non-null  object \n",
      " 1   County                                             177861 non-null  object \n",
      " 2   City                                               177861 non-null  object \n",
      " 3   State                                              177866 non-null  object \n",
      " 4   Postal Code                                        177861 non-null  float64\n",
      " 5   Model Year                                         177866 non-null  int64  \n",
      " 6   Make                                               177866 non-null  object \n",
      " 7   Model                                              177866 non-null  object \n",
      " 8   Electric Vehicle Type                              177866 non-null  object \n",
      " 9   Clean Alternative Fuel Vehicle (CAFV) Eligibility  177866 non-null  object \n",
      " 10  Electric Range                                     177866 non-null  int64  \n",
      " 11  Base MSRP                                          177866 non-null  int64  \n",
      " 12  Legislative District                               177477 non-null  float64\n",
      " 13  DOL Vehicle ID                                     177866 non-null  int64  \n",
      " 14  Vehicle Location                                   177857 non-null  object \n",
      " 15  Electric Utility                                   177861 non-null  object \n",
      " 16  2020 Census Tract                                  177861 non-null  float64\n",
      "dtypes: float64(3), int64(4), object(10)\n",
      "memory usage: 23.1+ MB\n"
     ]
    }
   ],
   "source": [
    "# Chack the data size\n",
    "df.info()"
   ]
  },
  {
   "cell_type": "markdown",
   "id": "140e225c",
   "metadata": {},
   "source": [
    "The dataset contains 177,866 electric vehicle records across 17 columns. While most fields are complete, there are some minor but notable gaps:\n",
    "\n",
    "Missing values in key location fields like:\n",
    "\n",
    "County, City, Postal Code (5 missing)\n",
    "\n",
    "Legislative District (~389 missing)\n",
    "\n",
    "Vehicle Location, Electric Utility, 2020 Census Tract (5–9 missing)\n",
    "\n",
    "Data types are appropriate:\n",
    "\n",
    "Categorical/object: For vehicle details (e.g., Make, Model, CAFV eligibility)\n",
    "\n",
    "Numerical: For year, range, price, district, etc.\n",
    "\n",
    "⚠️ Key Flag:\n",
    "Even though Electric Range and Base MSRP have no nulls, earlier samples show values of 0, indicating garbage or placeholder data that should be cleaned despite appearing complete."
   ]
  },
  {
   "cell_type": "code",
   "execution_count": 127,
   "id": "fce8196a",
   "metadata": {},
   "outputs": [
    {
     "data": {
      "application/vnd.microsoft.datawrangler.viewer.v0+json": {
       "columns": [
        {
         "name": "index",
         "rawType": "object",
         "type": "string"
        },
        {
         "name": "Postal Code",
         "rawType": "float64",
         "type": "float"
        },
        {
         "name": "Model Year",
         "rawType": "float64",
         "type": "float"
        },
        {
         "name": "Electric Range",
         "rawType": "float64",
         "type": "float"
        },
        {
         "name": "Base MSRP",
         "rawType": "float64",
         "type": "float"
        },
        {
         "name": "Legislative District",
         "rawType": "float64",
         "type": "float"
        },
        {
         "name": "DOL Vehicle ID",
         "rawType": "float64",
         "type": "float"
        },
        {
         "name": "2020 Census Tract",
         "rawType": "float64",
         "type": "float"
        }
       ],
       "ref": "db3569d0-b5a5-4885-8dd0-030013ad5078",
       "rows": [
        [
         "count",
         "177861.0",
         "177866.0",
         "177866.0",
         "177866.0",
         "177477.0",
         "177866.0",
         "177861.0"
        ],
        [
         "mean",
         "98172.45350582758",
         "2020.51551167733",
         "58.842162077069254",
         "1073.1093632284978",
         "29.12748130743702",
         "220231266.05454668",
         "52976721055.55796"
        ],
        [
         "std",
         "2442.45066802155",
         "2.9893839501920065",
         "91.98129769418429",
         "8358.624956091093",
         "14.892168539453765",
         "75849866.12256485",
         "1578046771.1668966"
        ],
        [
         "min",
         "1545.0",
         "1997.0",
         "0.0",
         "0.0",
         "1.0",
         "4385.0",
         "1001020100.0"
        ],
        [
         "25%",
         "98052.0",
         "2019.0",
         "0.0",
         "0.0",
         "18.0",
         "181474348.5",
         "53033009702.0"
        ],
        [
         "50%",
         "98122.0",
         "2022.0",
         "0.0",
         "0.0",
         "33.0",
         "228252237.0",
         "53033029602.0"
        ],
        [
         "75%",
         "98370.0",
         "2023.0",
         "75.0",
         "0.0",
         "42.0",
         "254844512.5",
         "53053073001.0"
        ],
        [
         "max",
         "99577.0",
         "2024.0",
         "337.0",
         "845000.0",
         "49.0",
         "479254772.0",
         "56033000100.0"
        ]
       ],
       "shape": {
        "columns": 7,
        "rows": 8
       }
      },
      "text/html": [
       "<div>\n",
       "<style scoped>\n",
       "    .dataframe tbody tr th:only-of-type {\n",
       "        vertical-align: middle;\n",
       "    }\n",
       "\n",
       "    .dataframe tbody tr th {\n",
       "        vertical-align: top;\n",
       "    }\n",
       "\n",
       "    .dataframe thead th {\n",
       "        text-align: right;\n",
       "    }\n",
       "</style>\n",
       "<table border=\"1\" class=\"dataframe\">\n",
       "  <thead>\n",
       "    <tr style=\"text-align: right;\">\n",
       "      <th></th>\n",
       "      <th>Postal Code</th>\n",
       "      <th>Model Year</th>\n",
       "      <th>Electric Range</th>\n",
       "      <th>Base MSRP</th>\n",
       "      <th>Legislative District</th>\n",
       "      <th>DOL Vehicle ID</th>\n",
       "      <th>2020 Census Tract</th>\n",
       "    </tr>\n",
       "  </thead>\n",
       "  <tbody>\n",
       "    <tr>\n",
       "      <th>count</th>\n",
       "      <td>177861.000000</td>\n",
       "      <td>177866.000000</td>\n",
       "      <td>177866.000000</td>\n",
       "      <td>177866.000000</td>\n",
       "      <td>177477.000000</td>\n",
       "      <td>1.778660e+05</td>\n",
       "      <td>1.778610e+05</td>\n",
       "    </tr>\n",
       "    <tr>\n",
       "      <th>mean</th>\n",
       "      <td>98172.453506</td>\n",
       "      <td>2020.515512</td>\n",
       "      <td>58.842162</td>\n",
       "      <td>1073.109363</td>\n",
       "      <td>29.127481</td>\n",
       "      <td>2.202313e+08</td>\n",
       "      <td>5.297672e+10</td>\n",
       "    </tr>\n",
       "    <tr>\n",
       "      <th>std</th>\n",
       "      <td>2442.450668</td>\n",
       "      <td>2.989384</td>\n",
       "      <td>91.981298</td>\n",
       "      <td>8358.624956</td>\n",
       "      <td>14.892169</td>\n",
       "      <td>7.584987e+07</td>\n",
       "      <td>1.578047e+09</td>\n",
       "    </tr>\n",
       "    <tr>\n",
       "      <th>min</th>\n",
       "      <td>1545.000000</td>\n",
       "      <td>1997.000000</td>\n",
       "      <td>0.000000</td>\n",
       "      <td>0.000000</td>\n",
       "      <td>1.000000</td>\n",
       "      <td>4.385000e+03</td>\n",
       "      <td>1.001020e+09</td>\n",
       "    </tr>\n",
       "    <tr>\n",
       "      <th>25%</th>\n",
       "      <td>98052.000000</td>\n",
       "      <td>2019.000000</td>\n",
       "      <td>0.000000</td>\n",
       "      <td>0.000000</td>\n",
       "      <td>18.000000</td>\n",
       "      <td>1.814743e+08</td>\n",
       "      <td>5.303301e+10</td>\n",
       "    </tr>\n",
       "    <tr>\n",
       "      <th>50%</th>\n",
       "      <td>98122.000000</td>\n",
       "      <td>2022.000000</td>\n",
       "      <td>0.000000</td>\n",
       "      <td>0.000000</td>\n",
       "      <td>33.000000</td>\n",
       "      <td>2.282522e+08</td>\n",
       "      <td>5.303303e+10</td>\n",
       "    </tr>\n",
       "    <tr>\n",
       "      <th>75%</th>\n",
       "      <td>98370.000000</td>\n",
       "      <td>2023.000000</td>\n",
       "      <td>75.000000</td>\n",
       "      <td>0.000000</td>\n",
       "      <td>42.000000</td>\n",
       "      <td>2.548445e+08</td>\n",
       "      <td>5.305307e+10</td>\n",
       "    </tr>\n",
       "    <tr>\n",
       "      <th>max</th>\n",
       "      <td>99577.000000</td>\n",
       "      <td>2024.000000</td>\n",
       "      <td>337.000000</td>\n",
       "      <td>845000.000000</td>\n",
       "      <td>49.000000</td>\n",
       "      <td>4.792548e+08</td>\n",
       "      <td>5.603300e+10</td>\n",
       "    </tr>\n",
       "  </tbody>\n",
       "</table>\n",
       "</div>"
      ],
      "text/plain": [
       "         Postal Code     Model Year  Electric Range      Base MSRP  \\\n",
       "count  177861.000000  177866.000000   177866.000000  177866.000000   \n",
       "mean    98172.453506    2020.515512       58.842162    1073.109363   \n",
       "std      2442.450668       2.989384       91.981298    8358.624956   \n",
       "min      1545.000000    1997.000000        0.000000       0.000000   \n",
       "25%     98052.000000    2019.000000        0.000000       0.000000   \n",
       "50%     98122.000000    2022.000000        0.000000       0.000000   \n",
       "75%     98370.000000    2023.000000       75.000000       0.000000   \n",
       "max     99577.000000    2024.000000      337.000000  845000.000000   \n",
       "\n",
       "       Legislative District  DOL Vehicle ID  2020 Census Tract  \n",
       "count         177477.000000    1.778660e+05       1.778610e+05  \n",
       "mean              29.127481    2.202313e+08       5.297672e+10  \n",
       "std               14.892169    7.584987e+07       1.578047e+09  \n",
       "min                1.000000    4.385000e+03       1.001020e+09  \n",
       "25%               18.000000    1.814743e+08       5.303301e+10  \n",
       "50%               33.000000    2.282522e+08       5.303303e+10  \n",
       "75%               42.000000    2.548445e+08       5.305307e+10  \n",
       "max               49.000000    4.792548e+08       5.603300e+10  "
      ]
     },
     "execution_count": 127,
     "metadata": {},
     "output_type": "execute_result"
    }
   ],
   "source": [
    "#Discriptive statistics\n",
    "df.describe()"
   ]
  },
  {
   "cell_type": "markdown",
   "id": "4fac18b4",
   "metadata": {},
   "source": [
    "The summary reveals serious data quality issues in two critical fields:\n",
    "\n",
    "🔋 Electric Range:\n",
    "\n",
    "Median = 0 and 75% percentile = 75 → At least half the vehicles have no recorded range, likely indicating missing or unreported values.\n",
    "\n",
    "💲 Base MSRP:\n",
    "\n",
    "Mean = $1,073, Median = $0, 75% percentile = $0 → Almost 75% of entries have zero MSRP, which is implausible and signals widespread missing data.\n",
    "\n",
    "⚠️ Key Takeaway:\n",
    "Despite numeric completeness, over half the records have placeholder values (0) for essential fields like range and price, making them unreliable for analysis without imputation or filtering."
   ]
  },
  {
   "cell_type": "code",
   "execution_count": 128,
   "id": "3831883a",
   "metadata": {},
   "outputs": [
    {
     "data": {
      "application/vnd.microsoft.datawrangler.viewer.v0+json": {
       "columns": [
        {
         "name": "index",
         "rawType": "object",
         "type": "string"
        },
        {
         "name": "0",
         "rawType": "int64",
         "type": "integer"
        }
       ],
       "ref": "ab056c3d-db4c-46aa-b8cb-fbe67a422922",
       "rows": [
        [
         "VIN (1-10)",
         "0"
        ],
        [
         "County",
         "5"
        ],
        [
         "City",
         "5"
        ],
        [
         "State",
         "0"
        ],
        [
         "Postal Code",
         "5"
        ],
        [
         "Model Year",
         "0"
        ],
        [
         "Make",
         "0"
        ],
        [
         "Model",
         "0"
        ],
        [
         "Electric Vehicle Type",
         "0"
        ],
        [
         "Clean Alternative Fuel Vehicle (CAFV) Eligibility",
         "0"
        ],
        [
         "Electric Range",
         "0"
        ],
        [
         "Base MSRP",
         "0"
        ],
        [
         "Legislative District",
         "389"
        ],
        [
         "DOL Vehicle ID",
         "0"
        ],
        [
         "Vehicle Location",
         "9"
        ],
        [
         "Electric Utility",
         "5"
        ],
        [
         "2020 Census Tract",
         "5"
        ]
       ],
       "shape": {
        "columns": 1,
        "rows": 17
       }
      },
      "text/plain": [
       "VIN (1-10)                                             0\n",
       "County                                                 5\n",
       "City                                                   5\n",
       "State                                                  0\n",
       "Postal Code                                            5\n",
       "Model Year                                             0\n",
       "Make                                                   0\n",
       "Model                                                  0\n",
       "Electric Vehicle Type                                  0\n",
       "Clean Alternative Fuel Vehicle (CAFV) Eligibility      0\n",
       "Electric Range                                         0\n",
       "Base MSRP                                              0\n",
       "Legislative District                                 389\n",
       "DOL Vehicle ID                                         0\n",
       "Vehicle Location                                       9\n",
       "Electric Utility                                       5\n",
       "2020 Census Tract                                      5\n",
       "dtype: int64"
      ]
     },
     "execution_count": 128,
     "metadata": {},
     "output_type": "execute_result"
    }
   ],
   "source": [
    "#Check the missing values\n",
    "df.isnull().sum()"
   ]
  },
  {
   "cell_type": "markdown",
   "id": "bc4df30e",
   "metadata": {},
   "source": [
    "The dataset is mostly complete, with a few exceptions.\n",
    "\n",
    "Legislative District is the most problematic column, missing in a significant number of rows (389). This limits geographic policy analysis at the district level.\n",
    "\n",
    "Only a few rows (5–9) have missing location-related fields like County, City, Postal Code, and Vehicle Location. These can be dropped or filled using related data.\n",
    "\n",
    "Electric Range = 0 may not be missing, but rather unknown or non-applicable — requires contextual interpretation."
   ]
  },
  {
   "cell_type": "code",
   "execution_count": 129,
   "id": "2847972d",
   "metadata": {},
   "outputs": [
    {
     "data": {
      "text/plain": [
       "np.int64(0)"
      ]
     },
     "execution_count": 129,
     "metadata": {},
     "output_type": "execute_result"
    }
   ],
   "source": [
    "#Finding the dublicates values\n",
    "df.duplicated().sum()"
   ]
  },
  {
   "cell_type": "markdown",
   "id": "37f957ba",
   "metadata": {},
   "source": [
    "Based onthe above output there is no duplicate values"
   ]
  },
  {
   "cell_type": "code",
   "execution_count": 130,
   "id": "54755dcf",
   "metadata": {},
   "outputs": [
    {
     "data": {
      "application/vnd.microsoft.datawrangler.viewer.v0+json": {
       "columns": [
        {
         "name": "index",
         "rawType": "object",
         "type": "string"
        },
        {
         "name": "0",
         "rawType": "int64",
         "type": "integer"
        }
       ],
       "ref": "86819d10-aa12-4ccc-86ee-95d4314d415b",
       "rows": [
        [
         "VIN (1-10)",
         "10830"
        ],
        [
         "County",
         "196"
        ],
        [
         "City",
         "723"
        ],
        [
         "State",
         "46"
        ],
        [
         "Postal Code",
         "862"
        ],
        [
         "Model Year",
         "22"
        ],
        [
         "Make",
         "40"
        ],
        [
         "Model",
         "139"
        ],
        [
         "Electric Vehicle Type",
         "2"
        ],
        [
         "Clean Alternative Fuel Vehicle (CAFV) Eligibility",
         "3"
        ],
        [
         "Electric Range",
         "102"
        ],
        [
         "Base MSRP",
         "31"
        ],
        [
         "Legislative District",
         "49"
        ],
        [
         "DOL Vehicle ID",
         "177866"
        ],
        [
         "Vehicle Location",
         "861"
        ],
        [
         "Electric Utility",
         "76"
        ],
        [
         "2020 Census Tract",
         "2115"
        ]
       ],
       "shape": {
        "columns": 1,
        "rows": 17
       }
      },
      "text/plain": [
       "VIN (1-10)                                            10830\n",
       "County                                                  196\n",
       "City                                                    723\n",
       "State                                                    46\n",
       "Postal Code                                             862\n",
       "Model Year                                               22\n",
       "Make                                                     40\n",
       "Model                                                   139\n",
       "Electric Vehicle Type                                     2\n",
       "Clean Alternative Fuel Vehicle (CAFV) Eligibility         3\n",
       "Electric Range                                          102\n",
       "Base MSRP                                                31\n",
       "Legislative District                                     49\n",
       "DOL Vehicle ID                                       177866\n",
       "Vehicle Location                                        861\n",
       "Electric Utility                                         76\n",
       "2020 Census Tract                                      2115\n",
       "dtype: int64"
      ]
     },
     "execution_count": 130,
     "metadata": {},
     "output_type": "execute_result"
    }
   ],
   "source": [
    "df.nunique()"
   ]
  },
  {
   "cell_type": "markdown",
   "id": "29677f22",
   "metadata": {},
   "source": [
    "The dataset contains detailed electric vehicle information across various dimensions. The high cardinality of DOL Vehicle ID (177,866) and VIN (1-10) (10,830) suggests a large number of individual vehicles. In contrast, attributes like Electric Vehicle Type (2), CAFV Eligibility (3), and State (46) show limited variability, indicating categorical or standardized fields. Geographic details (like City, Postal Code, Census Tract) and vehicle specifics (Make, Model, Model Year) also show moderate diversity, pointing to a rich dataset suitable for both demographic and vehicle trend analyses."
   ]
  },
  {
   "cell_type": "code",
   "execution_count": 131,
   "id": "584e1324",
   "metadata": {},
   "outputs": [
    {
     "data": {
      "text/plain": [
       "array(['Clean Alternative Fuel Vehicle Eligible',\n",
       "       'Eligibility unknown as battery range has not been researched',\n",
       "       'Not eligible due to low battery range'], dtype=object)"
      ]
     },
     "execution_count": 131,
     "metadata": {},
     "output_type": "execute_result"
    }
   ],
   "source": [
    "df['Clean Alternative Fuel Vehicle (CAFV) Eligibility'].unique()"
   ]
  },
  {
   "cell_type": "code",
   "execution_count": 132,
   "id": "283cebf6",
   "metadata": {},
   "outputs": [
    {
     "data": {
      "text/plain": [
       "array(['Battery Electric Vehicle (BEV)',\n",
       "       'Plug-in Hybrid Electric Vehicle (PHEV)'], dtype=object)"
      ]
     },
     "execution_count": 132,
     "metadata": {},
     "output_type": "execute_result"
    }
   ],
   "source": [
    "df['Electric Vehicle Type'].unique()"
   ]
  },
  {
   "cell_type": "markdown",
   "id": "a27cb475",
   "metadata": {},
   "source": [
    "# DATA CLEANING AND PREPROCESSING"
   ]
  },
  {
   "cell_type": "markdown",
   "id": "83a428c4",
   "metadata": {},
   "source": [
    "## Handling missing values"
   ]
  },
  {
   "cell_type": "markdown",
   "id": "4f5ef0dc",
   "metadata": {},
   "source": [
    "We will be handling missing values by dropping rows with missing values for column County, City, Postal Code, Vehicle Location, Electric Utility and 2020 Census Tract. For Electric Utility and 2020 Census Tract we will impute the missing values with value '0'"
   ]
  },
  {
   "cell_type": "code",
   "execution_count": 133,
   "id": "279cf98c",
   "metadata": {},
   "outputs": [],
   "source": [
    "df = df.dropna(subset=['County', 'City', 'Postal Code', 'Vehicle Location', 'Electric Utility', '2020 Census Tract', 'Legislative District'])"
   ]
  },
  {
   "cell_type": "code",
   "execution_count": 134,
   "id": "d9de73f6",
   "metadata": {},
   "outputs": [
    {
     "data": {
      "text/plain": [
       "array(['King', 'Snohomish', 'Kitsap', 'Thurston', 'Yakima', 'Island',\n",
       "       'Chelan', 'Skagit', 'Spokane', 'Walla Walla', 'Grant', 'Stevens',\n",
       "       'Whitman', 'Kittitas', 'Pend Oreille', 'Clark', 'Cowlitz',\n",
       "       'Jefferson', 'Clallam', 'Klickitat', 'Pierce', 'Grays Harbor',\n",
       "       'Whatcom', 'Skamania', 'Wahkiakum', 'Benton', 'Franklin', 'Lewis',\n",
       "       'San Juan', 'Mason', 'Okanogan', 'Douglas', 'Adams', 'Pacific',\n",
       "       'Asotin', 'Columbia', 'Lincoln', 'Ferry', 'Garfield'], dtype=object)"
      ]
     },
     "execution_count": 134,
     "metadata": {},
     "output_type": "execute_result"
    }
   ],
   "source": [
    "df['County'].unique()"
   ]
  },
  {
   "cell_type": "code",
   "execution_count": 135,
   "id": "807bcae8",
   "metadata": {},
   "outputs": [
    {
     "data": {
      "text/plain": [
       "array([37.,  1., 36.,  5., 23.,  2., 14., 26., 47., 43., 21., 34., 22.,\n",
       "       11., 20., 46., 32., 35., 10., 15., 39., 30., 44., 12.,  6., 40.,\n",
       "       16., 13.,  7.,  3.,  9., 38., 45., 49., 41., 33., 48., 17., 18.,\n",
       "       31., 19., 24., 28., 29., 25., 42., 27.,  8.,  4.])"
      ]
     },
     "execution_count": 135,
     "metadata": {},
     "output_type": "execute_result"
    }
   ],
   "source": [
    "df['Legislative District'].unique()"
   ]
  },
  {
   "cell_type": "code",
   "execution_count": 136,
   "id": "d75738c5",
   "metadata": {},
   "outputs": [
    {
     "data": {
      "text/plain": [
       "dtype('float64')"
      ]
     },
     "execution_count": 136,
     "metadata": {},
     "output_type": "execute_result"
    }
   ],
   "source": [
    "df['Legislative District'].dtype"
   ]
  },
  {
   "cell_type": "code",
   "execution_count": 137,
   "id": "528f2ec8",
   "metadata": {},
   "outputs": [],
   "source": [
    "df['Legislative District'] = df['Legislative District'].astype('Int64').astype('category')"
   ]
  },
  {
   "cell_type": "code",
   "execution_count": 138,
   "id": "da87468a",
   "metadata": {},
   "outputs": [
    {
     "data": {
      "text/plain": [
       "[37, 1, 36, 5, 23, ..., 25, 42, 27, 8, 4]\n",
       "Length: 49\n",
       "Categories (49, Int64): [1, 2, 3, 4, ..., 46, 47, 48, 49]"
      ]
     },
     "execution_count": 138,
     "metadata": {},
     "output_type": "execute_result"
    }
   ],
   "source": [
    "df['Legislative District'].unique()"
   ]
  },
  {
   "cell_type": "code",
   "execution_count": 139,
   "id": "92f947cd",
   "metadata": {},
   "outputs": [
    {
     "data": {
      "application/vnd.microsoft.datawrangler.viewer.v0+json": {
       "columns": [
        {
         "name": "index",
         "rawType": "object",
         "type": "string"
        },
        {
         "name": "0",
         "rawType": "int64",
         "type": "integer"
        }
       ],
       "ref": "5b05b8d1-ccd9-4fbd-ac42-774bbcf7dad8",
       "rows": [
        [
         "VIN (1-10)",
         "0"
        ],
        [
         "County",
         "0"
        ],
        [
         "City",
         "0"
        ],
        [
         "State",
         "0"
        ],
        [
         "Postal Code",
         "0"
        ],
        [
         "Model Year",
         "0"
        ],
        [
         "Make",
         "0"
        ],
        [
         "Model",
         "0"
        ],
        [
         "Electric Vehicle Type",
         "0"
        ],
        [
         "Clean Alternative Fuel Vehicle (CAFV) Eligibility",
         "0"
        ],
        [
         "Electric Range",
         "0"
        ],
        [
         "Base MSRP",
         "0"
        ],
        [
         "Legislative District",
         "0"
        ],
        [
         "DOL Vehicle ID",
         "0"
        ],
        [
         "Vehicle Location",
         "0"
        ],
        [
         "Electric Utility",
         "0"
        ],
        [
         "2020 Census Tract",
         "0"
        ]
       ],
       "shape": {
        "columns": 1,
        "rows": 17
       }
      },
      "text/plain": [
       "VIN (1-10)                                           0\n",
       "County                                               0\n",
       "City                                                 0\n",
       "State                                                0\n",
       "Postal Code                                          0\n",
       "Model Year                                           0\n",
       "Make                                                 0\n",
       "Model                                                0\n",
       "Electric Vehicle Type                                0\n",
       "Clean Alternative Fuel Vehicle (CAFV) Eligibility    0\n",
       "Electric Range                                       0\n",
       "Base MSRP                                            0\n",
       "Legislative District                                 0\n",
       "DOL Vehicle ID                                       0\n",
       "Vehicle Location                                     0\n",
       "Electric Utility                                     0\n",
       "2020 Census Tract                                    0\n",
       "dtype: int64"
      ]
     },
     "execution_count": 139,
     "metadata": {},
     "output_type": "execute_result"
    }
   ],
   "source": [
    "#Reinspecting the missing values\n",
    "df.isnull().sum()"
   ]
  },
  {
   "cell_type": "markdown",
   "id": "1c7978cd",
   "metadata": {},
   "source": [
    "The dataset has no missing values across all columns, indicating it is complete and ready for analysis"
   ]
  },
  {
   "cell_type": "code",
   "execution_count": 80,
   "id": "68d6070f",
   "metadata": {},
   "outputs": [],
   "source": [
    "cols_to_convert = ['VIN (1-10)', 'County', 'City', 'State', 'Model Year', 'Make', 'Model', 'Electric Vehicle Type', 'Vehicle Location', 'Electric Utility', 'Clean Alternative Fuel Vehicle (CAFV) Eligibility', 'Legislative District', '2020 Census Tract']\n",
    "\n",
    "for col in cols_to_convert:\n",
    "    df[col] = pd.to_numeric(df[col], errors='coerce')"
   ]
  },
  {
   "cell_type": "code",
   "execution_count": 141,
   "id": "ed92af52",
   "metadata": {},
   "outputs": [
    {
     "name": "stdout",
     "output_type": "stream",
     "text": [
      "<class 'pandas.core.frame.DataFrame'>\n",
      "Index: 177473 entries, 0 to 177865\n",
      "Data columns (total 17 columns):\n",
      " #   Column                                             Non-Null Count   Dtype   \n",
      "---  ------                                             --------------   -----   \n",
      " 0   VIN (1-10)                                         177473 non-null  object  \n",
      " 1   County                                             177473 non-null  object  \n",
      " 2   City                                               177473 non-null  object  \n",
      " 3   State                                              177473 non-null  object  \n",
      " 4   Postal Code                                        177473 non-null  float64 \n",
      " 5   Model Year                                         177473 non-null  int64   \n",
      " 6   Make                                               177473 non-null  object  \n",
      " 7   Model                                              177473 non-null  object  \n",
      " 8   Electric Vehicle Type                              177473 non-null  object  \n",
      " 9   Clean Alternative Fuel Vehicle (CAFV) Eligibility  177473 non-null  object  \n",
      " 10  Electric Range                                     177473 non-null  int64   \n",
      " 11  Base MSRP                                          177473 non-null  int64   \n",
      " 12  Legislative District                               177473 non-null  category\n",
      " 13  DOL Vehicle ID                                     177473 non-null  int64   \n",
      " 14  Vehicle Location                                   177473 non-null  object  \n",
      " 15  Electric Utility                                   177473 non-null  object  \n",
      " 16  2020 Census Tract                                  177473 non-null  float64 \n",
      "dtypes: category(1), float64(2), int64(4), object(10)\n",
      "memory usage: 23.2+ MB\n"
     ]
    }
   ],
   "source": [
    "df.info()"
   ]
  },
  {
   "cell_type": "markdown",
   "id": "9ac51929",
   "metadata": {},
   "source": [
    "Columns to be converted to Categorical format are Postal Code, DOL Vehicle ID and 20202 Census Tract"
   ]
  },
  {
   "cell_type": "code",
   "execution_count": 142,
   "id": "421202e0",
   "metadata": {},
   "outputs": [
    {
     "data": {
      "text/plain": [
       "array([5.30330078e+10, 5.30610519e+10, 5.30330068e+10, ...,\n",
       "       5.30579524e+10, 5.30459400e+10, 5.30039603e+10])"
      ]
     },
     "execution_count": 142,
     "metadata": {},
     "output_type": "execute_result"
    }
   ],
   "source": [
    "df['2020 Census Tract'].unique()"
   ]
  },
  {
   "cell_type": "code",
   "execution_count": 143,
   "id": "76a6d237",
   "metadata": {},
   "outputs": [],
   "source": [
    "# Convert Postal Code to string (handles missing values safely)\n",
    "df['Postal Code'] = df['Postal Code'].astype('Int64').astype(str)\n",
    "\n",
    "# Convert 2020 Census Tract to string (keep full precision as string)\n",
    "df['2020 Census Tract'] = df['2020 Census Tract'].apply(lambda x: str(int(x)) if not pd.isnull(x) else '')\n",
    "\n",
    "# Convert DOL Vehicle ID to string\n",
    "df['DOL Vehicle ID'] = df['DOL Vehicle ID'].astype(str)"
   ]
  },
  {
   "cell_type": "code",
   "execution_count": 144,
   "id": "8b363b62",
   "metadata": {},
   "outputs": [
    {
     "data": {
      "application/vnd.microsoft.datawrangler.viewer.v0+json": {
       "columns": [
        {
         "name": "index",
         "rawType": "object",
         "type": "string"
        },
        {
         "name": "0",
         "rawType": "object",
         "type": "unknown"
        }
       ],
       "ref": "661e0e99-df4e-4260-a488-bae3bf136099",
       "rows": [
        [
         "VIN (1-10)",
         "object"
        ],
        [
         "County",
         "object"
        ],
        [
         "City",
         "object"
        ],
        [
         "State",
         "object"
        ],
        [
         "Postal Code",
         "object"
        ],
        [
         "Model Year",
         "int64"
        ],
        [
         "Make",
         "object"
        ],
        [
         "Model",
         "object"
        ],
        [
         "Electric Vehicle Type",
         "object"
        ],
        [
         "Clean Alternative Fuel Vehicle (CAFV) Eligibility",
         "object"
        ],
        [
         "Electric Range",
         "int64"
        ],
        [
         "Base MSRP",
         "int64"
        ],
        [
         "Legislative District",
         "category"
        ],
        [
         "DOL Vehicle ID",
         "object"
        ],
        [
         "Vehicle Location",
         "object"
        ],
        [
         "Electric Utility",
         "object"
        ],
        [
         "2020 Census Tract",
         "object"
        ]
       ],
       "shape": {
        "columns": 1,
        "rows": 17
       }
      },
      "text/plain": [
       "VIN (1-10)                                             object\n",
       "County                                                 object\n",
       "City                                                   object\n",
       "State                                                  object\n",
       "Postal Code                                            object\n",
       "Model Year                                              int64\n",
       "Make                                                   object\n",
       "Model                                                  object\n",
       "Electric Vehicle Type                                  object\n",
       "Clean Alternative Fuel Vehicle (CAFV) Eligibility      object\n",
       "Electric Range                                          int64\n",
       "Base MSRP                                               int64\n",
       "Legislative District                                 category\n",
       "DOL Vehicle ID                                         object\n",
       "Vehicle Location                                       object\n",
       "Electric Utility                                       object\n",
       "2020 Census Tract                                      object\n",
       "dtype: object"
      ]
     },
     "execution_count": 144,
     "metadata": {},
     "output_type": "execute_result"
    }
   ],
   "source": [
    "df.dtypes"
   ]
  },
  {
   "cell_type": "code",
   "execution_count": 145,
   "id": "8f93802c",
   "metadata": {},
   "outputs": [],
   "source": [
    "# Converting back to Object for analysis\n",
    "df['Legislative District'] = df['Legislative District'].astype(str)"
   ]
  },
  {
   "cell_type": "code",
   "execution_count": 148,
   "id": "7c9ad400",
   "metadata": {},
   "outputs": [
    {
     "data": {
      "application/vnd.microsoft.datawrangler.viewer.v0+json": {
       "columns": [
        {
         "name": "index",
         "rawType": "int64",
         "type": "integer"
        },
        {
         "name": "Electric Utility",
         "rawType": "object",
         "type": "string"
        }
       ],
       "ref": "3b266734-a6bc-4565-be1e-08f90dfd36eb",
       "rows": [
        [
         "0",
         "CITY OF SEATTLE - (WA)|CITY OF TACOMA - (WA)"
        ],
        [
         "1",
         "PUGET SOUND ENERGY INC"
        ],
        [
         "2",
         "CITY OF SEATTLE - (WA)|CITY OF TACOMA - (WA)"
        ],
        [
         "3",
         "PUGET SOUND ENERGY INC||CITY OF TACOMA - (WA)"
        ],
        [
         "4",
         "PUGET SOUND ENERGY INC"
        ]
       ],
       "shape": {
        "columns": 1,
        "rows": 5
       }
      },
      "text/plain": [
       "0     CITY OF SEATTLE - (WA)|CITY OF TACOMA - (WA)\n",
       "1                           PUGET SOUND ENERGY INC\n",
       "2     CITY OF SEATTLE - (WA)|CITY OF TACOMA - (WA)\n",
       "3    PUGET SOUND ENERGY INC||CITY OF TACOMA - (WA)\n",
       "4                           PUGET SOUND ENERGY INC\n",
       "Name: Electric Utility, dtype: object"
      ]
     },
     "execution_count": 148,
     "metadata": {},
     "output_type": "execute_result"
    }
   ],
   "source": [
    "df['Electric Utility'].head()"
   ]
  },
  {
   "cell_type": "markdown",
   "id": "6dfdef8b",
   "metadata": {},
   "source": [
    "## Handling Outliers"
   ]
  },
  {
   "cell_type": "markdown",
   "id": "6cfef3a6",
   "metadata": {},
   "source": [
    "We first identify outliers in our major columns that is 'Model Year', 'Model', 'Legislative District', '2020 Census Tract' using the Interquartile Range (IQR) and visualization using box plots. Then we proceed to handling them."
   ]
  },
  {
   "cell_type": "code",
   "execution_count": 149,
   "id": "d072c129",
   "metadata": {},
   "outputs": [
    {
     "name": "stdout",
     "output_type": "stream",
     "text": [
      "['VIN (1-10)', 'County', 'City', 'State', 'Postal Code', 'Model Year', 'Make', 'Model', 'Electric Vehicle Type', 'Clean Alternative Fuel Vehicle (CAFV) Eligibility', 'Electric Range', 'Base MSRP', 'Legislative District', 'DOL Vehicle ID', 'Vehicle Location', 'Electric Utility', '2020 Census Tract']\n"
     ]
    }
   ],
   "source": [
    "# List all column names\n",
    "print(df.columns.tolist())"
   ]
  },
  {
   "cell_type": "code",
   "execution_count": 152,
   "id": "e2c360a6",
   "metadata": {},
   "outputs": [
    {
     "name": "stdout",
     "output_type": "stream",
     "text": [
      "Number of outliers detected:\n",
      "36506\n"
     ]
    }
   ],
   "source": [
    "# Define the columns you want to check for outliers\n",
    "major_columns = ['Model Year', 'Electric Range', 'Base MSRP']\n",
    "\n",
    "# Calculate IQR for each column\n",
    "Q1 = df[major_columns].quantile(0.25)\n",
    "Q3 = df[major_columns].quantile(0.75)\n",
    "IQR = Q3 - Q1\n",
    "\n",
    "# Determine outliers using IQR\n",
    "outliers = ((df[major_columns] < (Q1 - 1.5 * IQR)) | (df[major_columns] > (Q3 + 1.5 * IQR))).any(axis=1)\n",
    "\n",
    "# Print number of outliers\n",
    "print(\"Number of outliers detected:\")\n",
    "print(outliers.sum())"
   ]
  },
  {
   "cell_type": "code",
   "execution_count": 153,
   "id": "ce3d2bcc",
   "metadata": {},
   "outputs": [
    {
     "data": {
      "image/png": "[encoded data removed]",
      "text/plain": [
       "<Figure size 1200x800 with 3 Axes>"
      ]
     },
     "metadata": {},
     "output_type": "display_data"
    }
   ],
   "source": [
    "# Set up the figure size\n",
    "plt.figure(figsize=(12, 8))\n",
    "\n",
    "# Create box plots for each column using Seaborn\n",
    "for i, col in enumerate(major_columns, 1):\n",
    "    plt.subplot(2, 2, i)\n",
    "    sns.boxplot(x=df[col])\n",
    "    plt.title(col)\n",
    "\n",
    "# Adjust layout\n",
    "plt.tight_layout()\n",
    "\n",
    "# Show plot\n",
    "plt.show();"
   ]
  },
  {
   "cell_type": "markdown",
   "id": "890e73db",
   "metadata": {},
   "source": [
    "1. Model Year\n",
    "Central Tendency: Most vehicles are from 2018 to 2023, with the median near 2021.\n",
    "\n",
    "Outliers: There are a few cars from before 2010, and even from as early as 1997–2005, which are statistical outliers.\n",
    "\n",
    "Insight: The dataset is heavily skewed toward newer models, which is typical for electric or hybrid vehicle data. You might want to filter out extremely old model years if you're doing a modern market analysis.\n",
    "\n",
    "🔌 2. Electric Range\n",
    "Distribution: The interquartile range (IQR) is concentrated roughly between 0 and 150 miles.\n",
    "\n",
    "Outliers: Many vehicles go well beyond 200 miles, with some approaching or exceeding 300 miles—likely high-end EVs like Tesla or Lucid.\n",
    "\n",
    "Insight: There is a bimodal trend here. Some vehicles have very low ranges (possibly plug-in hybrids), while others are long-range EVs. You could split this into segments: short-range vs. long-range vehicles.\n",
    "\n",
    "💲 3. Base MSRP\n",
    "Distribution: Most vehicles are priced under $100,000, with a median MSRP likely around $40,000–50,000.\n",
    "\n",
    "Outliers: A few vehicles are priced above $200,000, and one extreme outlier is around $850,000, which is likely a specialty or concept car.\n",
    "\n",
    "Insight: There’s a large skew in pricing, suggesting the presence of luxury or niche vehicles. Removing these outliers may help with average price analysis.\n",
    "\n",
    "🚗 Overall Recommendation\n",
    "If you're doing statistical modeling or price prediction:\n",
    "\n",
    "Consider filtering or transforming outliers (especially MSRP).\n",
    "\n",
    "Categorize vehicles by range class (short, medium, long).\n",
    "\n",
    "Focus on model years post-2015 for a more representative sample of current market trends."
   ]
  },
  {
   "cell_type": "code",
   "execution_count": 154,
   "id": "20d67c28",
   "metadata": {},
   "outputs": [
    {
     "data": {
      "application/vnd.microsoft.datawrangler.viewer.v0+json": {
       "columns": [
        {
         "name": "index",
         "rawType": "int64",
         "type": "integer"
        },
        {
         "name": "VIN (1-10)",
         "rawType": "object",
         "type": "string"
        },
        {
         "name": "County",
         "rawType": "object",
         "type": "string"
        },
        {
         "name": "City",
         "rawType": "object",
         "type": "string"
        },
        {
         "name": "State",
         "rawType": "object",
         "type": "string"
        },
        {
         "name": "Postal Code",
         "rawType": "object",
         "type": "string"
        },
        {
         "name": "Model Year",
         "rawType": "int64",
         "type": "integer"
        },
        {
         "name": "Make",
         "rawType": "object",
         "type": "string"
        },
        {
         "name": "Model",
         "rawType": "object",
         "type": "string"
        },
        {
         "name": "Electric Vehicle Type",
         "rawType": "object",
         "type": "string"
        },
        {
         "name": "Clean Alternative Fuel Vehicle (CAFV) Eligibility",
         "rawType": "object",
         "type": "string"
        },
        {
         "name": "Electric Range",
         "rawType": "int64",
         "type": "integer"
        },
        {
         "name": "Base MSRP",
         "rawType": "int64",
         "type": "integer"
        },
        {
         "name": "Legislative District",
         "rawType": "object",
         "type": "string"
        },
        {
         "name": "DOL Vehicle ID",
         "rawType": "object",
         "type": "string"
        },
        {
         "name": "Vehicle Location",
         "rawType": "object",
         "type": "string"
        },
        {
         "name": "Electric Utility",
         "rawType": "object",
         "type": "string"
        },
        {
         "name": "2020 Census Tract",
         "rawType": "object",
         "type": "string"
        }
       ],
       "ref": "f3996253-dd3d-4e95-9799-de11115d0f87",
       "rows": [
        [
         "24",
         "JN1AZ0CP8C",
         "Thurston",
         "Tenino",
         "WA",
         "98589",
         "2012",
         "NISSAN",
         "LEAF",
         "Battery Electric Vehicle (BEV)",
         "Clean Alternative Fuel Vehicle Eligible",
         "73",
         "0",
         "20",
         "131685669",
         "POINT (-122.85403 46.856085)",
         "PUGET SOUND ENERGY INC",
         "53067012620"
        ],
        [
         "151",
         "JN1AZ0CP6C",
         "Island",
         "Langley",
         "WA",
         "98260",
         "2012",
         "NISSAN",
         "LEAF",
         "Battery Electric Vehicle (BEV)",
         "Clean Alternative Fuel Vehicle Eligible",
         "73",
         "0",
         "10",
         "5819362",
         "POINT (-122.408015 48.03557)",
         "PUGET SOUND ENERGY INC",
         "53029971800"
        ],
        [
         "154",
         "JN1AZ0CP0C",
         "Grant",
         "Moses Lake",
         "WA",
         "98837",
         "2012",
         "NISSAN",
         "LEAF",
         "Battery Electric Vehicle (BEV)",
         "Clean Alternative Fuel Vehicle Eligible",
         "73",
         "0",
         "13",
         "255859096",
         "POINT (-119.2599876 47.1240154)",
         "PUD NO 2 OF GRANT COUNTY",
         "53025010904"
        ],
        [
         "173",
         "JN1AZ0CP6C",
         "Snohomish",
         "Mukilteo",
         "WA",
         "98275",
         "2012",
         "NISSAN",
         "LEAF",
         "Battery Electric Vehicle (BEV)",
         "Clean Alternative Fuel Vehicle Eligible",
         "73",
         "0",
         "21",
         "165818663",
         "POINT (-122.299965 47.94171)",
         "PUGET SOUND ENERGY INC",
         "53061041301"
        ],
        [
         "177",
         "1G1RD6E48C",
         "Yakima",
         "Yakima",
         "WA",
         "98908",
         "2012",
         "CHEVROLET",
         "VOLT",
         "Plug-in Hybrid Electric Vehicle (PHEV)",
         "Clean Alternative Fuel Vehicle Eligible",
         "35",
         "0",
         "14",
         "165207150",
         "POINT (-120.6027202 46.5965625)",
         "PACIFICORP",
         "53077002803"
        ],
        [
         "897",
         "1G1RD6E45B",
         "King",
         "Redmond",
         "WA",
         "98052",
         "2011",
         "CHEVROLET",
         "VOLT",
         "Plug-in Hybrid Electric Vehicle (PHEV)",
         "Clean Alternative Fuel Vehicle Eligible",
         "35",
         "0",
         "48",
         "184935600",
         "POINT (-122.12302 47.67668)",
         "PUGET SOUND ENERGY INC||CITY OF TACOMA - (WA)",
         "53033032331"
        ],
        [
         "999",
         "1G1RA6E41C",
         "Kitsap",
         "Bremerton",
         "WA",
         "98312",
         "2012",
         "CHEVROLET",
         "VOLT",
         "Plug-in Hybrid Electric Vehicle (PHEV)",
         "Clean Alternative Fuel Vehicle Eligible",
         "35",
         "0",
         "26",
         "108314405",
         "POINT (-122.65223 47.57192)",
         "PUGET SOUND ENERGY INC",
         "53035080600"
        ],
        [
         "1386",
         "JTDKN3DP0C",
         "King",
         "Seattle",
         "WA",
         "98116",
         "2012",
         "TOYOTA",
         "PRIUS PLUG-IN",
         "Plug-in Hybrid Electric Vehicle (PHEV)",
         "Not eligible due to low battery range",
         "6",
         "0",
         "34",
         "223371781",
         "POINT (-122.38679 47.56484)",
         "CITY OF SEATTLE - (WA)|CITY OF TACOMA - (WA)",
         "53033009600"
        ],
        [
         "1423",
         "1G1RB6E41C",
         "King",
         "Seattle",
         "WA",
         "98133",
         "2012",
         "CHEVROLET",
         "VOLT",
         "Plug-in Hybrid Electric Vehicle (PHEV)",
         "Clean Alternative Fuel Vehicle Eligible",
         "35",
         "0",
         "32",
         "211353859",
         "POINT (-122.34584 47.76726)",
         "CITY OF SEATTLE - (WA)|CITY OF TACOMA - (WA)",
         "53033000403"
        ],
        [
         "1516",
         "JN1AZ0CP5C",
         "King",
         "Seattle",
         "WA",
         "98178",
         "2012",
         "NISSAN",
         "LEAF",
         "Battery Electric Vehicle (BEV)",
         "Clean Alternative Fuel Vehicle Eligible",
         "73",
         "0",
         "37",
         "204253367",
         "POINT (-122.234385 47.494545)",
         "CITY OF SEATTLE - (WA)|CITY OF TACOMA - (WA)",
         "53033011901"
        ],
        [
         "1546",
         "YH4K14AA6C",
         "King",
         "Bellevue",
         "WA",
         "98004",
         "2012",
         "FISKER",
         "KARMA",
         "Plug-in Hybrid Electric Vehicle (PHEV)",
         "Clean Alternative Fuel Vehicle Eligible",
         "33",
         "102000",
         "41",
         "124222514",
         "POINT (-122.201905 47.61385)",
         "PUGET SOUND ENERGY INC||CITY OF TACOMA - (WA)",
         "53033023901"
        ],
        [
         "1585",
         "JN1AZ0CP6C",
         "Snohomish",
         "Sultan",
         "WA",
         "98294",
         "2012",
         "NISSAN",
         "LEAF",
         "Battery Electric Vehicle (BEV)",
         "Clean Alternative Fuel Vehicle Eligible",
         "73",
         "0",
         "39",
         "205176436",
         "POINT (-121.814825 47.868195)",
         "BONNEVILLE POWER ADMINISTRATION||PUD 1 OF SNOHOMISH COUNTY",
         "53061053802"
        ],
        [
         "1632",
         "JTDKN3DP4C",
         "King",
         "Federal Way",
         "WA",
         "98003",
         "2012",
         "TOYOTA",
         "PRIUS PLUG-IN",
         "Plug-in Hybrid Electric Vehicle (PHEV)",
         "Not eligible due to low battery range",
         "6",
         "0",
         "30",
         "2124111",
         "POINT (-122.31327 47.32309)",
         "PUGET SOUND ENERGY INC||CITY OF TACOMA - (WA)",
         "53033030313"
        ],
        [
         "1669",
         "JN1AZ0CP2C",
         "King",
         "Kirkland",
         "WA",
         "98034",
         "2012",
         "NISSAN",
         "LEAF",
         "Battery Electric Vehicle (BEV)",
         "Clean Alternative Fuel Vehicle Eligible",
         "73",
         "0",
         "1",
         "174360084",
         "POINT (-122.209285 47.71124)",
         "PUGET SOUND ENERGY INC||CITY OF TACOMA - (WA)",
         "53033022204"
        ],
        [
         "1739",
         "JN1AZ0CP2B",
         "Kitsap",
         "Poulsbo",
         "WA",
         "98370",
         "2011",
         "NISSAN",
         "LEAF",
         "Battery Electric Vehicle (BEV)",
         "Clean Alternative Fuel Vehicle Eligible",
         "73",
         "0",
         "23",
         "240025502",
         "POINT (-122.64177 47.737525)",
         "PUGET SOUND ENERGY INC",
         "53035091100"
        ],
        [
         "1766",
         "JN1AZ0CP8C",
         "Clark",
         "Vancouver",
         "WA",
         "98686",
         "2012",
         "NISSAN",
         "LEAF",
         "Battery Electric Vehicle (BEV)",
         "Clean Alternative Fuel Vehicle Eligible",
         "73",
         "0",
         "49",
         "251992268",
         "POINT (-122.6483953 45.7010427)",
         "BONNEVILLE POWER ADMINISTRATION||PUD NO 1 OF CLARK COUNTY - (WA)",
         "53011040803"
        ],
        [
         "1775",
         "5YJSA1DP5C",
         "Clark",
         "Brush Prairie",
         "WA",
         "98606",
         "2012",
         "TESLA",
         "MODEL S",
         "Battery Electric Vehicle (BEV)",
         "Clean Alternative Fuel Vehicle Eligible",
         "265",
         "59900",
         "18",
         "131758497",
         "POINT (-122.5485715 45.7336587)",
         "BONNEVILLE POWER ADMINISTRATION||PUD NO 1 OF CLARK COUNTY - (WA)",
         "53011040505"
        ],
        [
         "1903",
         "JN1AZ0CP8B",
         "King",
         "Seattle",
         "WA",
         "98107",
         "2011",
         "NISSAN",
         "LEAF",
         "Battery Electric Vehicle (BEV)",
         "Clean Alternative Fuel Vehicle Eligible",
         "73",
         "0",
         "43",
         "152618441",
         "POINT (-122.37815 47.66866)",
         "CITY OF SEATTLE - (WA)|CITY OF TACOMA - (WA)",
         "53033004800"
        ],
        [
         "1971",
         "JN1AZ0CP4B",
         "King",
         "Redmond",
         "WA",
         "98052",
         "2011",
         "NISSAN",
         "LEAF",
         "Battery Electric Vehicle (BEV)",
         "Clean Alternative Fuel Vehicle Eligible",
         "73",
         "0",
         "45",
         "331904534",
         "POINT (-122.12302 47.67668)",
         "PUGET SOUND ENERGY INC||CITY OF TACOMA - (WA)",
         "53033032323"
        ],
        [
         "2053",
         "JN1AZ0CP1C",
         "King",
         "Bellevue",
         "WA",
         "98006",
         "2012",
         "NISSAN",
         "LEAF",
         "Battery Electric Vehicle (BEV)",
         "Clean Alternative Fuel Vehicle Eligible",
         "73",
         "0",
         "41",
         "193467074",
         "POINT (-122.16937 47.571015)",
         "PUGET SOUND ENERGY INC||CITY OF TACOMA - (WA)",
         "53033024901"
        ],
        [
         "2463",
         "1G1RD6E49C",
         "Clark",
         "Vancouver",
         "WA",
         "98685",
         "2012",
         "CHEVROLET",
         "VOLT",
         "Plug-in Hybrid Electric Vehicle (PHEV)",
         "Clean Alternative Fuel Vehicle Eligible",
         "35",
         "0",
         "18",
         "2118637",
         "POINT (-122.70302 45.703706)",
         "BONNEVILLE POWER ADMINISTRATION||PUD NO 1 OF CLARK COUNTY - (WA)",
         "53011040908"
        ],
        [
         "2507",
         "5YJSA1CN5C",
         "King",
         "Newcastle",
         "WA",
         "98056",
         "2012",
         "TESLA",
         "MODEL S",
         "Battery Electric Vehicle (BEV)",
         "Clean Alternative Fuel Vehicle Eligible",
         "265",
         "59900",
         "41",
         "186109808",
         "POINT (-122.180505 47.500055)",
         "PUGET SOUND ENERGY INC||CITY OF TACOMA - (WA)",
         "53033024703"
        ],
        [
         "2592",
         "JN1AZ0CP9B",
         "King",
         "Sammamish",
         "WA",
         "98075",
         "2011",
         "NISSAN",
         "LEAF",
         "Battery Electric Vehicle (BEV)",
         "Clean Alternative Fuel Vehicle Eligible",
         "73",
         "0",
         "41",
         "136344519",
         "POINT (-122.03309 47.58153)",
         "PUGET SOUND ENERGY INC||CITY OF TACOMA - (WA)",
         "53033032207"
        ],
        [
         "2616",
         "JN1AZ0CP2C",
         "Cowlitz",
         "Longview",
         "WA",
         "98632",
         "2012",
         "NISSAN",
         "LEAF",
         "Battery Electric Vehicle (BEV)",
         "Clean Alternative Fuel Vehicle Eligible",
         "73",
         "0",
         "19",
         "173771419",
         "POINT (-122.9379953 46.1372997)",
         "BONNEVILLE POWER ADMINISTRATION||PUD NO 1 OF COWLITZ COUNTY",
         "53015001900"
        ],
        [
         "2632",
         "5YJSA1DN1C",
         "King",
         "Sammamish",
         "WA",
         "98075",
         "2012",
         "TESLA",
         "MODEL S",
         "Battery Electric Vehicle (BEV)",
         "Clean Alternative Fuel Vehicle Eligible",
         "265",
         "59900",
         "41",
         "116875328",
         "POINT (-122.03309 47.58153)",
         "PUGET SOUND ENERGY INC||CITY OF TACOMA - (WA)",
         "53033032213"
        ],
        [
         "2744",
         "1G1RD6E44C",
         "King",
         "Seattle",
         "WA",
         "98125",
         "2012",
         "CHEVROLET",
         "VOLT",
         "Plug-in Hybrid Electric Vehicle (PHEV)",
         "Clean Alternative Fuel Vehicle Eligible",
         "35",
         "0",
         "46",
         "123311093",
         "POINT (-122.296385 47.71558)",
         "PUGET SOUND ENERGY INC||CITY OF TACOMA - (WA)",
         "53033000900"
        ],
        [
         "2745",
         "JTDKN3DP0C",
         "King",
         "Seattle",
         "WA",
         "98102",
         "2012",
         "TOYOTA",
         "PRIUS PLUG-IN",
         "Plug-in Hybrid Electric Vehicle (PHEV)",
         "Not eligible due to low battery range",
         "6",
         "0",
         "43",
         "236610832",
         "POINT (-122.32226 47.64058)",
         "CITY OF SEATTLE - (WA)|CITY OF TACOMA - (WA)",
         "53033007502"
        ],
        [
         "2753",
         "JN1AZ0CP6B",
         "King",
         "Kirkland",
         "WA",
         "98034",
         "2011",
         "NISSAN",
         "LEAF",
         "Battery Electric Vehicle (BEV)",
         "Clean Alternative Fuel Vehicle Eligible",
         "73",
         "0",
         "1",
         "174693508",
         "POINT (-122.209285 47.71124)",
         "PUGET SOUND ENERGY INC||CITY OF TACOMA - (WA)",
         "53033022204"
        ],
        [
         "2805",
         "1G1RA6E46C",
         "Thurston",
         "Olympia",
         "WA",
         "98501",
         "2012",
         "CHEVROLET",
         "VOLT",
         "Plug-in Hybrid Electric Vehicle (PHEV)",
         "Clean Alternative Fuel Vehicle Eligible",
         "35",
         "0",
         "22",
         "233151404",
         "POINT (-122.89692 47.043535)",
         "PUGET SOUND ENERGY INC",
         "53067010700"
        ],
        [
         "2882",
         "JN1AZ0CP6C",
         "King",
         "Kent",
         "WA",
         "98042",
         "2012",
         "NISSAN",
         "LEAF",
         "Battery Electric Vehicle (BEV)",
         "Clean Alternative Fuel Vehicle Eligible",
         "73",
         "0",
         "47",
         "347060157",
         "POINT (-122.111625 47.36078)",
         "PUGET SOUND ENERGY INC||CITY OF TACOMA - (WA)",
         "53033031707"
        ],
        [
         "2996",
         "1G1RD6E47B",
         "Cowlitz",
         "Castle Rock",
         "WA",
         "98611",
         "2011",
         "CHEVROLET",
         "VOLT",
         "Plug-in Hybrid Electric Vehicle (PHEV)",
         "Clean Alternative Fuel Vehicle Eligible",
         "35",
         "0",
         "19",
         "140033211",
         "POINT (-122.90778 46.2744)",
         "BONNEVILLE POWER ADMINISTRATION||PUD NO 1 OF COWLITZ COUNTY",
         "53015002001"
        ],
        [
         "3086",
         "JN1AZ0CP6B",
         "King",
         "Bothell",
         "WA",
         "98011",
         "2011",
         "NISSAN",
         "LEAF",
         "Battery Electric Vehicle (BEV)",
         "Clean Alternative Fuel Vehicle Eligible",
         "73",
         "0",
         "1",
         "135253583",
         "POINT (-122.20578 47.762405)",
         "PUGET SOUND ENERGY INC||CITY OF TACOMA - (WA)",
         "53033021804"
        ],
        [
         "3087",
         "1G1RA6E49C",
         "Thurston",
         "Rochester",
         "WA",
         "98579",
         "2012",
         "CHEVROLET",
         "VOLT",
         "Plug-in Hybrid Electric Vehicle (PHEV)",
         "Clean Alternative Fuel Vehicle Eligible",
         "35",
         "0",
         "35",
         "207524404",
         "POINT (-123.09575 46.82114)",
         "PUGET SOUND ENERGY INC",
         "53067012720"
        ],
        [
         "3113",
         "53TBH2MC0B",
         "Clark",
         "Battle Ground",
         "WA",
         "98604",
         "2011",
         "TH!NK",
         "CITY",
         "Battery Electric Vehicle (BEV)",
         "Clean Alternative Fuel Vehicle Eligible",
         "100",
         "0",
         "18",
         "350464278",
         "POINT (-122.53218 45.77945)",
         "BONNEVILLE POWER ADMINISTRATION||PUD NO 1 OF CLARK COUNTY - (WA)",
         "53011040203"
        ],
        [
         "3182",
         "JN1AZ0CP6B",
         "King",
         "Shoreline",
         "WA",
         "98133",
         "2011",
         "NISSAN",
         "LEAF",
         "Battery Electric Vehicle (BEV)",
         "Clean Alternative Fuel Vehicle Eligible",
         "73",
         "0",
         "32",
         "255818860",
         "POINT (-122.34584 47.76726)",
         "CITY OF SEATTLE - (WA)|CITY OF TACOMA - (WA)",
         "53033020600"
        ],
        [
         "3271",
         "JN1AZ0CP4C",
         "King",
         "Shoreline",
         "WA",
         "98155",
         "2012",
         "NISSAN",
         "LEAF",
         "Battery Electric Vehicle (BEV)",
         "Clean Alternative Fuel Vehicle Eligible",
         "73",
         "0",
         "32",
         "134679240",
         "POINT (-122.3175 47.7578146)",
         "CITY OF SEATTLE - (WA)|CITY OF TACOMA - (WA)",
         "53033021300"
        ],
        [
         "3392",
         "JN1AZ0CP4C",
         "Clark",
         "Vancouver",
         "WA",
         "98684",
         "2012",
         "NISSAN",
         "LEAF",
         "Battery Electric Vehicle (BEV)",
         "Clean Alternative Fuel Vehicle Eligible",
         "73",
         "0",
         "17",
         "213662515",
         "POINT (-122.51692 45.6228)",
         "BONNEVILLE POWER ADMINISTRATION||PUD NO 1 OF CLARK COUNTY - (WA)",
         "53011041321"
        ],
        [
         "3493",
         "JN1AZ0CP3B",
         "King",
         "Seattle",
         "WA",
         "98133",
         "2011",
         "NISSAN",
         "LEAF",
         "Battery Electric Vehicle (BEV)",
         "Clean Alternative Fuel Vehicle Eligible",
         "73",
         "0",
         "46",
         "204348455",
         "POINT (-122.34584 47.76726)",
         "CITY OF SEATTLE - (WA)|CITY OF TACOMA - (WA)",
         "53033000300"
        ],
        [
         "3567",
         "1G1RD6E45B",
         "King",
         "Kent",
         "WA",
         "98031",
         "2011",
         "CHEVROLET",
         "VOLT",
         "Plug-in Hybrid Electric Vehicle (PHEV)",
         "Clean Alternative Fuel Vehicle Eligible",
         "35",
         "0",
         "11",
         "349346665",
         "POINT (-122.2012521 47.3931814)",
         "PUGET SOUND ENERGY INC||CITY OF TACOMA - (WA)",
         "53033029306"
        ],
        [
         "3596",
         "JTDKN3DP7C",
         "Clark",
         "Vancouver",
         "WA",
         "98663",
         "2012",
         "TOYOTA",
         "PRIUS PLUG-IN",
         "Plug-in Hybrid Electric Vehicle (PHEV)",
         "Not eligible due to low battery range",
         "6",
         "0",
         "49",
         "128036758",
         "POINT (-122.666325 45.641205)",
         "BONNEVILLE POWER ADMINISTRATION||PUD NO 1 OF CLARK COUNTY - (WA)",
         "53011041003"
        ],
        [
         "3636",
         "JTDKN3DP0C",
         "King",
         "Federal Way",
         "WA",
         "98023",
         "2012",
         "TOYOTA",
         "PRIUS PLUG-IN",
         "Plug-in Hybrid Electric Vehicle (PHEV)",
         "Not eligible due to low battery range",
         "6",
         "0",
         "30",
         "105109784",
         "POINT (-122.36363 47.30675)",
         "PUGET SOUND ENERGY INC||CITY OF TACOMA - (WA)",
         "53033030308"
        ],
        [
         "3693",
         "JN1AZ0CP3C",
         "King",
         "Seattle",
         "WA",
         "98125",
         "2012",
         "NISSAN",
         "LEAF",
         "Battery Electric Vehicle (BEV)",
         "Clean Alternative Fuel Vehicle Eligible",
         "73",
         "0",
         "46",
         "257646315",
         "POINT (-122.296385 47.71558)",
         "CITY OF SEATTLE - (WA)|CITY OF TACOMA - (WA)",
         "53033001202"
        ],
        [
         "3704",
         "JN1AZ0CPXB",
         "Kitsap",
         "Kingston",
         "WA",
         "98346",
         "2011",
         "NISSAN",
         "LEAF",
         "Battery Electric Vehicle (BEV)",
         "Clean Alternative Fuel Vehicle Eligible",
         "73",
         "0",
         "23",
         "194667490",
         "POINT (-122.50156 47.8019)",
         "PUGET SOUND ENERGY INC",
         "53035090102"
        ],
        [
         "3729",
         "1G1RA6E42C",
         "Clark",
         "Vancouver",
         "WA",
         "98682",
         "2012",
         "CHEVROLET",
         "VOLT",
         "Plug-in Hybrid Electric Vehicle (PHEV)",
         "Clean Alternative Fuel Vehicle Eligible",
         "35",
         "0",
         "17",
         "233063323",
         "POINT (-122.5146473 45.67862)",
         "BONNEVILLE POWER ADMINISTRATION||PUD NO 1 OF CLARK COUNTY - (WA)",
         "53011040707"
        ],
        [
         "3777",
         "JTDKN3DP0C",
         "King",
         "Seattle",
         "WA",
         "98102",
         "2012",
         "TOYOTA",
         "PRIUS PLUG-IN",
         "Plug-in Hybrid Electric Vehicle (PHEV)",
         "Not eligible due to low battery range",
         "6",
         "0",
         "43",
         "221550010",
         "POINT (-122.32226 47.64058)",
         "CITY OF SEATTLE - (WA)|CITY OF TACOMA - (WA)",
         "53033006500"
        ],
        [
         "3960",
         "JN1AZ0CPXB",
         "King",
         "Kirkland",
         "WA",
         "98034",
         "2011",
         "NISSAN",
         "LEAF",
         "Battery Electric Vehicle (BEV)",
         "Clean Alternative Fuel Vehicle Eligible",
         "73",
         "0",
         "45",
         "289043786",
         "POINT (-122.209285 47.71124)",
         "PUGET SOUND ENERGY INC||CITY OF TACOMA - (WA)",
         "53033021903"
        ],
        [
         "4122",
         "JN1AZ0CP9C",
         "Kitsap",
         "Bremerton",
         "WA",
         "98312",
         "2012",
         "NISSAN",
         "LEAF",
         "Battery Electric Vehicle (BEV)",
         "Clean Alternative Fuel Vehicle Eligible",
         "73",
         "0",
         "26",
         "149307168",
         "POINT (-122.65223 47.57192)",
         "PUGET SOUND ENERGY INC",
         "53035080600"
        ],
        [
         "4273",
         "JTDKN3DP8C",
         "King",
         "Seattle",
         "WA",
         "98109",
         "2012",
         "TOYOTA",
         "PRIUS PLUG-IN",
         "Plug-in Hybrid Electric Vehicle (PHEV)",
         "Not eligible due to low battery range",
         "6",
         "0",
         "43",
         "1567352",
         "POINT (-122.34848 47.632405)",
         "CITY OF SEATTLE - (WA)|CITY OF TACOMA - (WA)",
         "53033007303"
        ],
        [
         "4324",
         "JN1AZ0CP3B",
         "King",
         "Seattle",
         "WA",
         "98117",
         "2011",
         "NISSAN",
         "LEAF",
         "Battery Electric Vehicle (BEV)",
         "Clean Alternative Fuel Vehicle Eligible",
         "73",
         "0",
         "36",
         "190770800",
         "POINT (-122.37275 47.68968)",
         "CITY OF SEATTLE - (WA)|CITY OF TACOMA - (WA)",
         "53033002900"
        ],
        [
         "4533",
         "JN1AZ0CP6C",
         "King",
         "Seattle",
         "WA",
         "98122",
         "2012",
         "NISSAN",
         "LEAF",
         "Battery Electric Vehicle (BEV)",
         "Clean Alternative Fuel Vehicle Eligible",
         "73",
         "0",
         "37",
         "202524724",
         "POINT (-122.30839 47.610365)",
         "CITY OF SEATTLE - (WA)|CITY OF TACOMA - (WA)",
         "53033007800"
        ]
       ],
       "shape": {
        "columns": 17,
        "rows": 2448
       }
      },
      "text/html": [
       "<div>\n",
       "<style scoped>\n",
       "    .dataframe tbody tr th:only-of-type {\n",
       "        vertical-align: middle;\n",
       "    }\n",
       "\n",
       "    .dataframe tbody tr th {\n",
       "        vertical-align: top;\n",
       "    }\n",
       "\n",
       "    .dataframe thead th {\n",
       "        text-align: right;\n",
       "    }\n",
       "</style>\n",
       "<table border=\"1\" class=\"dataframe\">\n",
       "  <thead>\n",
       "    <tr style=\"text-align: right;\">\n",
       "      <th></th>\n",
       "      <th>VIN (1-10)</th>\n",
       "      <th>County</th>\n",
       "      <th>City</th>\n",
       "      <th>State</th>\n",
       "      <th>Postal Code</th>\n",
       "      <th>Model Year</th>\n",
       "      <th>Make</th>\n",
       "      <th>Model</th>\n",
       "      <th>Electric Vehicle Type</th>\n",
       "      <th>Clean Alternative Fuel Vehicle (CAFV) Eligibility</th>\n",
       "      <th>Electric Range</th>\n",
       "      <th>Base MSRP</th>\n",
       "      <th>Legislative District</th>\n",
       "      <th>DOL Vehicle ID</th>\n",
       "      <th>Vehicle Location</th>\n",
       "      <th>Electric Utility</th>\n",
       "      <th>2020 Census Tract</th>\n",
       "    </tr>\n",
       "  </thead>\n",
       "  <tbody>\n",
       "    <tr>\n",
       "      <th>24</th>\n",
       "      <td>JN1AZ0CP8C</td>\n",
       "      <td>Thurston</td>\n",
       "      <td>Tenino</td>\n",
       "      <td>WA</td>\n",
       "      <td>98589</td>\n",
       "      <td>2012</td>\n",
       "      <td>NISSAN</td>\n",
       "      <td>LEAF</td>\n",
       "      <td>Battery Electric Vehicle (BEV)</td>\n",
       "      <td>Clean Alternative Fuel Vehicle Eligible</td>\n",
       "      <td>73</td>\n",
       "      <td>0</td>\n",
       "      <td>20</td>\n",
       "      <td>131685669</td>\n",
       "      <td>POINT (-122.85403 46.856085)</td>\n",
       "      <td>PUGET SOUND ENERGY INC</td>\n",
       "      <td>53067012620</td>\n",
       "    </tr>\n",
       "    <tr>\n",
       "      <th>151</th>\n",
       "      <td>JN1AZ0CP6C</td>\n",
       "      <td>Island</td>\n",
       "      <td>Langley</td>\n",
       "      <td>WA</td>\n",
       "      <td>98260</td>\n",
       "      <td>2012</td>\n",
       "      <td>NISSAN</td>\n",
       "      <td>LEAF</td>\n",
       "      <td>Battery Electric Vehicle (BEV)</td>\n",
       "      <td>Clean Alternative Fuel Vehicle Eligible</td>\n",
       "      <td>73</td>\n",
       "      <td>0</td>\n",
       "      <td>10</td>\n",
       "      <td>5819362</td>\n",
       "      <td>POINT (-122.408015 48.03557)</td>\n",
       "      <td>PUGET SOUND ENERGY INC</td>\n",
       "      <td>53029971800</td>\n",
       "    </tr>\n",
       "    <tr>\n",
       "      <th>154</th>\n",
       "      <td>JN1AZ0CP0C</td>\n",
       "      <td>Grant</td>\n",
       "      <td>Moses Lake</td>\n",
       "      <td>WA</td>\n",
       "      <td>98837</td>\n",
       "      <td>2012</td>\n",
       "      <td>NISSAN</td>\n",
       "      <td>LEAF</td>\n",
       "      <td>Battery Electric Vehicle (BEV)</td>\n",
       "      <td>Clean Alternative Fuel Vehicle Eligible</td>\n",
       "      <td>73</td>\n",
       "      <td>0</td>\n",
       "      <td>13</td>\n",
       "      <td>255859096</td>\n",
       "      <td>POINT (-119.2599876 47.1240154)</td>\n",
       "      <td>PUD NO 2 OF GRANT COUNTY</td>\n",
       "      <td>53025010904</td>\n",
       "    </tr>\n",
       "    <tr>\n",
       "      <th>173</th>\n",
       "      <td>JN1AZ0CP6C</td>\n",
       "      <td>Snohomish</td>\n",
       "      <td>Mukilteo</td>\n",
       "      <td>WA</td>\n",
       "      <td>98275</td>\n",
       "      <td>2012</td>\n",
       "      <td>NISSAN</td>\n",
       "      <td>LEAF</td>\n",
       "      <td>Battery Electric Vehicle (BEV)</td>\n",
       "      <td>Clean Alternative Fuel Vehicle Eligible</td>\n",
       "      <td>73</td>\n",
       "      <td>0</td>\n",
       "      <td>21</td>\n",
       "      <td>165818663</td>\n",
       "      <td>POINT (-122.299965 47.94171)</td>\n",
       "      <td>PUGET SOUND ENERGY INC</td>\n",
       "      <td>53061041301</td>\n",
       "    </tr>\n",
       "    <tr>\n",
       "      <th>177</th>\n",
       "      <td>1G1RD6E48C</td>\n",
       "      <td>Yakima</td>\n",
       "      <td>Yakima</td>\n",
       "      <td>WA</td>\n",
       "      <td>98908</td>\n",
       "      <td>2012</td>\n",
       "      <td>CHEVROLET</td>\n",
       "      <td>VOLT</td>\n",
       "      <td>Plug-in Hybrid Electric Vehicle (PHEV)</td>\n",
       "      <td>Clean Alternative Fuel Vehicle Eligible</td>\n",
       "      <td>35</td>\n",
       "      <td>0</td>\n",
       "      <td>14</td>\n",
       "      <td>165207150</td>\n",
       "      <td>POINT (-120.6027202 46.5965625)</td>\n",
       "      <td>PACIFICORP</td>\n",
       "      <td>53077002803</td>\n",
       "    </tr>\n",
       "    <tr>\n",
       "      <th>...</th>\n",
       "      <td>...</td>\n",
       "      <td>...</td>\n",
       "      <td>...</td>\n",
       "      <td>...</td>\n",
       "      <td>...</td>\n",
       "      <td>...</td>\n",
       "      <td>...</td>\n",
       "      <td>...</td>\n",
       "      <td>...</td>\n",
       "      <td>...</td>\n",
       "      <td>...</td>\n",
       "      <td>...</td>\n",
       "      <td>...</td>\n",
       "      <td>...</td>\n",
       "      <td>...</td>\n",
       "      <td>...</td>\n",
       "      <td>...</td>\n",
       "    </tr>\n",
       "    <tr>\n",
       "      <th>177326</th>\n",
       "      <td>JA3215H18C</td>\n",
       "      <td>Snohomish</td>\n",
       "      <td>Mukilteo</td>\n",
       "      <td>WA</td>\n",
       "      <td>98275</td>\n",
       "      <td>2012</td>\n",
       "      <td>MITSUBISHI</td>\n",
       "      <td>I-MIEV</td>\n",
       "      <td>Battery Electric Vehicle (BEV)</td>\n",
       "      <td>Clean Alternative Fuel Vehicle Eligible</td>\n",
       "      <td>62</td>\n",
       "      <td>0</td>\n",
       "      <td>21</td>\n",
       "      <td>252837399</td>\n",
       "      <td>POINT (-122.299965 47.94171)</td>\n",
       "      <td>PUGET SOUND ENERGY INC</td>\n",
       "      <td>53061042001</td>\n",
       "    </tr>\n",
       "    <tr>\n",
       "      <th>177361</th>\n",
       "      <td>1FAHP3R46C</td>\n",
       "      <td>Clark</td>\n",
       "      <td>Ridgefield</td>\n",
       "      <td>WA</td>\n",
       "      <td>98642</td>\n",
       "      <td>2012</td>\n",
       "      <td>FORD</td>\n",
       "      <td>FOCUS</td>\n",
       "      <td>Battery Electric Vehicle (BEV)</td>\n",
       "      <td>Clean Alternative Fuel Vehicle Eligible</td>\n",
       "      <td>76</td>\n",
       "      <td>0</td>\n",
       "      <td>18</td>\n",
       "      <td>1798688</td>\n",
       "      <td>POINT (-122.74291 45.818445)</td>\n",
       "      <td>BONNEVILLE POWER ADMINISTRATION||PUD NO 1 OF C...</td>\n",
       "      <td>53011040303</td>\n",
       "    </tr>\n",
       "    <tr>\n",
       "      <th>177602</th>\n",
       "      <td>JN1AZ0CP3C</td>\n",
       "      <td>Spokane</td>\n",
       "      <td>Spokane</td>\n",
       "      <td>WA</td>\n",
       "      <td>99201</td>\n",
       "      <td>2012</td>\n",
       "      <td>NISSAN</td>\n",
       "      <td>LEAF</td>\n",
       "      <td>Battery Electric Vehicle (BEV)</td>\n",
       "      <td>Clean Alternative Fuel Vehicle Eligible</td>\n",
       "      <td>73</td>\n",
       "      <td>0</td>\n",
       "      <td>3</td>\n",
       "      <td>105144532</td>\n",
       "      <td>POINT (-117.431895 47.667155)</td>\n",
       "      <td>MODERN ELECTRIC WATER COMPANY</td>\n",
       "      <td>53063002300</td>\n",
       "    </tr>\n",
       "    <tr>\n",
       "      <th>177763</th>\n",
       "      <td>JN1AZ0CP6B</td>\n",
       "      <td>Snohomish</td>\n",
       "      <td>Snohomish</td>\n",
       "      <td>WA</td>\n",
       "      <td>98290</td>\n",
       "      <td>2011</td>\n",
       "      <td>NISSAN</td>\n",
       "      <td>LEAF</td>\n",
       "      <td>Battery Electric Vehicle (BEV)</td>\n",
       "      <td>Clean Alternative Fuel Vehicle Eligible</td>\n",
       "      <td>73</td>\n",
       "      <td>0</td>\n",
       "      <td>44</td>\n",
       "      <td>309088244</td>\n",
       "      <td>POINT (-122.091505 47.915555)</td>\n",
       "      <td>PUGET SOUND ENERGY INC</td>\n",
       "      <td>53061052301</td>\n",
       "    </tr>\n",
       "    <tr>\n",
       "      <th>177831</th>\n",
       "      <td>JTDKN3DP1C</td>\n",
       "      <td>Pacific</td>\n",
       "      <td>North Cove</td>\n",
       "      <td>WA</td>\n",
       "      <td>98590</td>\n",
       "      <td>2012</td>\n",
       "      <td>TOYOTA</td>\n",
       "      <td>PRIUS PLUG-IN</td>\n",
       "      <td>Plug-in Hybrid Electric Vehicle (PHEV)</td>\n",
       "      <td>Not eligible due to low battery range</td>\n",
       "      <td>6</td>\n",
       "      <td>0</td>\n",
       "      <td>19</td>\n",
       "      <td>123492729</td>\n",
       "      <td>POINT (-123.99449 46.71071)</td>\n",
       "      <td>BONNEVILLE POWER ADMINISTRATION||PUD NO 2 OF P...</td>\n",
       "      <td>53049950301</td>\n",
       "    </tr>\n",
       "  </tbody>\n",
       "</table>\n",
       "<p>2448 rows × 17 columns</p>\n",
       "</div>"
      ],
      "text/plain": [
       "        VIN (1-10)     County        City State Postal Code  Model Year  \\\n",
       "24      JN1AZ0CP8C   Thurston      Tenino    WA       98589        2012   \n",
       "151     JN1AZ0CP6C     Island     Langley    WA       98260        2012   \n",
       "154     JN1AZ0CP0C      Grant  Moses Lake    WA       98837        2012   \n",
       "173     JN1AZ0CP6C  Snohomish    Mukilteo    WA       98275        2012   \n",
       "177     1G1RD6E48C     Yakima      Yakima    WA       98908        2012   \n",
       "...            ...        ...         ...   ...         ...         ...   \n",
       "177326  JA3215H18C  Snohomish    Mukilteo    WA       98275        2012   \n",
       "177361  1FAHP3R46C      Clark  Ridgefield    WA       98642        2012   \n",
       "177602  JN1AZ0CP3C    Spokane     Spokane    WA       99201        2012   \n",
       "177763  JN1AZ0CP6B  Snohomish   Snohomish    WA       98290        2011   \n",
       "177831  JTDKN3DP1C    Pacific  North Cove    WA       98590        2012   \n",
       "\n",
       "              Make          Model                   Electric Vehicle Type  \\\n",
       "24          NISSAN           LEAF          Battery Electric Vehicle (BEV)   \n",
       "151         NISSAN           LEAF          Battery Electric Vehicle (BEV)   \n",
       "154         NISSAN           LEAF          Battery Electric Vehicle (BEV)   \n",
       "173         NISSAN           LEAF          Battery Electric Vehicle (BEV)   \n",
       "177      CHEVROLET           VOLT  Plug-in Hybrid Electric Vehicle (PHEV)   \n",
       "...            ...            ...                                     ...   \n",
       "177326  MITSUBISHI         I-MIEV          Battery Electric Vehicle (BEV)   \n",
       "177361        FORD          FOCUS          Battery Electric Vehicle (BEV)   \n",
       "177602      NISSAN           LEAF          Battery Electric Vehicle (BEV)   \n",
       "177763      NISSAN           LEAF          Battery Electric Vehicle (BEV)   \n",
       "177831      TOYOTA  PRIUS PLUG-IN  Plug-in Hybrid Electric Vehicle (PHEV)   \n",
       "\n",
       "       Clean Alternative Fuel Vehicle (CAFV) Eligibility  Electric Range  \\\n",
       "24               Clean Alternative Fuel Vehicle Eligible              73   \n",
       "151              Clean Alternative Fuel Vehicle Eligible              73   \n",
       "154              Clean Alternative Fuel Vehicle Eligible              73   \n",
       "173              Clean Alternative Fuel Vehicle Eligible              73   \n",
       "177              Clean Alternative Fuel Vehicle Eligible              35   \n",
       "...                                                  ...             ...   \n",
       "177326           Clean Alternative Fuel Vehicle Eligible              62   \n",
       "177361           Clean Alternative Fuel Vehicle Eligible              76   \n",
       "177602           Clean Alternative Fuel Vehicle Eligible              73   \n",
       "177763           Clean Alternative Fuel Vehicle Eligible              73   \n",
       "177831             Not eligible due to low battery range               6   \n",
       "\n",
       "        Base MSRP Legislative District DOL Vehicle ID  \\\n",
       "24              0                   20      131685669   \n",
       "151             0                   10        5819362   \n",
       "154             0                   13      255859096   \n",
       "173             0                   21      165818663   \n",
       "177             0                   14      165207150   \n",
       "...           ...                  ...            ...   \n",
       "177326          0                   21      252837399   \n",
       "177361          0                   18        1798688   \n",
       "177602          0                    3      105144532   \n",
       "177763          0                   44      309088244   \n",
       "177831          0                   19      123492729   \n",
       "\n",
       "                       Vehicle Location  \\\n",
       "24         POINT (-122.85403 46.856085)   \n",
       "151        POINT (-122.408015 48.03557)   \n",
       "154     POINT (-119.2599876 47.1240154)   \n",
       "173        POINT (-122.299965 47.94171)   \n",
       "177     POINT (-120.6027202 46.5965625)   \n",
       "...                                 ...   \n",
       "177326     POINT (-122.299965 47.94171)   \n",
       "177361     POINT (-122.74291 45.818445)   \n",
       "177602    POINT (-117.431895 47.667155)   \n",
       "177763    POINT (-122.091505 47.915555)   \n",
       "177831      POINT (-123.99449 46.71071)   \n",
       "\n",
       "                                         Electric Utility 2020 Census Tract  \n",
       "24                                 PUGET SOUND ENERGY INC       53067012620  \n",
       "151                                PUGET SOUND ENERGY INC       53029971800  \n",
       "154                              PUD NO 2 OF GRANT COUNTY       53025010904  \n",
       "173                                PUGET SOUND ENERGY INC       53061041301  \n",
       "177                                            PACIFICORP       53077002803  \n",
       "...                                                   ...               ...  \n",
       "177326                             PUGET SOUND ENERGY INC       53061042001  \n",
       "177361  BONNEVILLE POWER ADMINISTRATION||PUD NO 1 OF C...       53011040303  \n",
       "177602                      MODERN ELECTRIC WATER COMPANY       53063002300  \n",
       "177763                             PUGET SOUND ENERGY INC       53061052301  \n",
       "177831  BONNEVILLE POWER ADMINISTRATION||PUD NO 2 OF P...       53049950301  \n",
       "\n",
       "[2448 rows x 17 columns]"
      ]
     },
     "metadata": {},
     "output_type": "display_data"
    }
   ],
   "source": [
    "# Model Year Outliers\n",
    "Q1 = df['Model Year'].quantile(0.25)\n",
    "Q3 = df['Model Year'].quantile(0.75)\n",
    "IQR = Q3 - Q1\n",
    "lower = Q1 - 1.5 * IQR\n",
    "upper = Q3 + 1.5 * IQR\n",
    "\n",
    "model_year_outliers = df[(df['Model Year'] < lower) | (df['Model Year'] > upper)]\n",
    "display(model_year_outliers)"
   ]
  },
  {
   "cell_type": "code",
   "execution_count": 155,
   "id": "44561d5e",
   "metadata": {},
   "outputs": [
    {
     "data": {
      "application/vnd.microsoft.datawrangler.viewer.v0+json": {
       "columns": [
        {
         "name": "index",
         "rawType": "int64",
         "type": "integer"
        },
        {
         "name": "VIN (1-10)",
         "rawType": "object",
         "type": "string"
        },
        {
         "name": "County",
         "rawType": "object",
         "type": "string"
        },
        {
         "name": "City",
         "rawType": "object",
         "type": "string"
        },
        {
         "name": "State",
         "rawType": "object",
         "type": "string"
        },
        {
         "name": "Postal Code",
         "rawType": "object",
         "type": "string"
        },
        {
         "name": "Model Year",
         "rawType": "int64",
         "type": "integer"
        },
        {
         "name": "Make",
         "rawType": "object",
         "type": "string"
        },
        {
         "name": "Model",
         "rawType": "object",
         "type": "string"
        },
        {
         "name": "Electric Vehicle Type",
         "rawType": "object",
         "type": "string"
        },
        {
         "name": "Clean Alternative Fuel Vehicle (CAFV) Eligibility",
         "rawType": "object",
         "type": "string"
        },
        {
         "name": "Electric Range",
         "rawType": "int64",
         "type": "integer"
        },
        {
         "name": "Base MSRP",
         "rawType": "int64",
         "type": "integer"
        },
        {
         "name": "Legislative District",
         "rawType": "object",
         "type": "string"
        },
        {
         "name": "DOL Vehicle ID",
         "rawType": "object",
         "type": "string"
        },
        {
         "name": "Vehicle Location",
         "rawType": "object",
         "type": "string"
        },
        {
         "name": "Electric Utility",
         "rawType": "object",
         "type": "string"
        },
        {
         "name": "2020 Census Tract",
         "rawType": "object",
         "type": "string"
        }
       ],
       "ref": "653509d0-f857-4630-92b6-f7187bba7183",
       "rows": [
        [
         "30",
         "KNDJX3AE9H",
         "Thurston",
         "Olympia",
         "WA",
         "98502",
         "2017",
         "KIA",
         "SOUL EV",
         "Battery Electric Vehicle (BEV)",
         "Clean Alternative Fuel Vehicle Eligible",
         "93",
         "32250",
         "22",
         "140569600",
         "POINT (-122.92145 47.045935)",
         "PUGET SOUND ENERGY INC",
         "53067012002"
        ],
        [
         "71",
         "KNDJX3AE5G",
         "Snohomish",
         "Edmonds",
         "WA",
         "98020",
         "2016",
         "KIA",
         "SOUL",
         "Battery Electric Vehicle (BEV)",
         "Clean Alternative Fuel Vehicle Eligible",
         "93",
         "31950",
         "32",
         "158961099",
         "POINT (-122.37507 47.80807)",
         "PUGET SOUND ENERGY INC",
         "53061050700"
        ],
        [
         "187",
         "5YJSA1DN6D",
         "Yakima",
         "Yakima",
         "WA",
         "98903",
         "2013",
         "TESLA",
         "MODEL S",
         "Battery Electric Vehicle (BEV)",
         "Clean Alternative Fuel Vehicle Eligible",
         "208",
         "69900",
         "14",
         "156737612",
         "POINT (-120.477805 46.553505)",
         "PACIFICORP",
         "53077003003"
        ],
        [
         "218",
         "5YJSA1CG6D",
         "Kitsap",
         "Port Orchard",
         "WA",
         "98367",
         "2013",
         "TESLA",
         "MODEL S",
         "Battery Electric Vehicle (BEV)",
         "Clean Alternative Fuel Vehicle Eligible",
         "208",
         "69900",
         "26",
         "124244284",
         "POINT (-122.6847073 47.50524)",
         "PUGET SOUND ENERGY INC",
         "53035092902"
        ],
        [
         "293",
         "WBA8E1C52H",
         "King",
         "Tukwila",
         "WA",
         "98168",
         "2017",
         "BMW",
         "330E",
         "Plug-in Hybrid Electric Vehicle (PHEV)",
         "Not eligible due to low battery range",
         "14",
         "44100",
         "11",
         "139331412",
         "POINT (-122.286465 47.476)",
         "CITY OF SEATTLE - (WA)|CITY OF TACOMA - (WA)",
         "53033027300"
        ],
        [
         "297",
         "KNDJP3AE9G",
         "King",
         "Seattle",
         "WA",
         "98115",
         "2016",
         "KIA",
         "SOUL",
         "Battery Electric Vehicle (BEV)",
         "Clean Alternative Fuel Vehicle Eligible",
         "93",
         "31950",
         "46",
         "132238795",
         "POINT (-122.3185 47.67949)",
         "CITY OF SEATTLE - (WA)|CITY OF TACOMA - (WA)",
         "53033002700"
        ],
        [
         "315",
         "WBA8E1C55J",
         "King",
         "Kirkland",
         "WA",
         "98034",
         "2018",
         "BMW",
         "330E",
         "Plug-in Hybrid Electric Vehicle (PHEV)",
         "Not eligible due to low battery range",
         "14",
         "45600",
         "45",
         "292913484",
         "POINT (-122.209285 47.71124)",
         "PUGET SOUND ENERGY INC||CITY OF TACOMA - (WA)",
         "53033021904"
        ],
        [
         "366",
         "5YJSA1H13E",
         "King",
         "Newcastle",
         "WA",
         "98059",
         "2014",
         "TESLA",
         "MODEL S",
         "Battery Electric Vehicle (BEV)",
         "Clean Alternative Fuel Vehicle Eligible",
         "208",
         "69900",
         "41",
         "220971803",
         "POINT (-122.15734 47.487175)",
         "PUGET SOUND ENERGY INC||CITY OF TACOMA - (WA)",
         "53033025005"
        ],
        [
         "461",
         "5YJSA1H11E",
         "King",
         "Kirkland",
         "WA",
         "98034",
         "2014",
         "TESLA",
         "MODEL S",
         "Battery Electric Vehicle (BEV)",
         "Clean Alternative Fuel Vehicle Eligible",
         "208",
         "69900",
         "45",
         "222335347",
         "POINT (-122.209285 47.71124)",
         "PUGET SOUND ENERGY INC||CITY OF TACOMA - (WA)",
         "53033021904"
        ],
        [
         "527",
         "KNDJX3AE4G",
         "King",
         "Bothell",
         "WA",
         "98011",
         "2016",
         "KIA",
         "SOUL",
         "Battery Electric Vehicle (BEV)",
         "Clean Alternative Fuel Vehicle Eligible",
         "93",
         "31950",
         "1",
         "348116121",
         "POINT (-122.20578 47.762405)",
         "PUGET SOUND ENERGY INC||CITY OF TACOMA - (WA)",
         "53033021804"
        ],
        [
         "542",
         "2C4RC1L78K",
         "Clark",
         "Vancouver",
         "WA",
         "98683",
         "2019",
         "CHRYSLER",
         "PACIFICA",
         "Plug-in Hybrid Electric Vehicle (PHEV)",
         "Clean Alternative Fuel Vehicle Eligible",
         "32",
         "39995",
         "17",
         "253038397",
         "POINT (-122.4853873 45.6083347)",
         "BONNEVILLE POWER ADMINISTRATION||PUD NO 1 OF CLARK COUNTY - (WA)",
         "53011041322"
        ],
        [
         "643",
         "5YJSA1H11E",
         "Kitsap",
         "Bainbridge Island",
         "WA",
         "98110",
         "2014",
         "TESLA",
         "MODEL S",
         "Battery Electric Vehicle (BEV)",
         "Clean Alternative Fuel Vehicle Eligible",
         "208",
         "69900",
         "23",
         "107377315",
         "POINT (-122.5235781 47.6293323)",
         "PUGET SOUND ENERGY INC",
         "53035090700"
        ],
        [
         "710",
         "5YJSA1H1XE",
         "King",
         "Seattle",
         "WA",
         "98109",
         "2014",
         "TESLA",
         "MODEL S",
         "Battery Electric Vehicle (BEV)",
         "Clean Alternative Fuel Vehicle Eligible",
         "208",
         "69900",
         "36",
         "252358424",
         "POINT (-122.34848 47.632405)",
         "CITY OF SEATTLE - (WA)|CITY OF TACOMA - (WA)",
         "53033006701"
        ],
        [
         "760",
         "KNDJX3AE8G",
         "King",
         "Seattle",
         "WA",
         "98125",
         "2016",
         "KIA",
         "SOUL",
         "Battery Electric Vehicle (BEV)",
         "Clean Alternative Fuel Vehicle Eligible",
         "93",
         "31950",
         "46",
         "195825388",
         "POINT (-122.296385 47.71558)",
         "CITY OF SEATTLE - (WA)|CITY OF TACOMA - (WA)",
         "53033001202"
        ],
        [
         "768",
         "WBAJB1C52J",
         "King",
         "Bellevue",
         "WA",
         "98004",
         "2018",
         "BMW",
         "530E",
         "Plug-in Hybrid Electric Vehicle (PHEV)",
         "Not eligible due to low battery range",
         "14",
         "54950",
         "48",
         "120863102",
         "POINT (-122.201905 47.61385)",
         "PUGET SOUND ENERGY INC||CITY OF TACOMA - (WA)",
         "53033024001"
        ],
        [
         "802",
         "WBAJA9C57K",
         "Clark",
         "Vancouver",
         "WA",
         "98683",
         "2019",
         "BMW",
         "530E",
         "Plug-in Hybrid Electric Vehicle (PHEV)",
         "Not eligible due to low battery range",
         "16",
         "53400",
         "17",
         "261750212",
         "POINT (-122.4853873 45.6083347)",
         "BONNEVILLE POWER ADMINISTRATION||PUD NO 1 OF CLARK COUNTY - (WA)",
         "53011041323"
        ],
        [
         "814",
         "JF2GTDNC2K",
         "Kitsap",
         "Seabeck",
         "WA",
         "98380",
         "2019",
         "SUBARU",
         "CROSSTREK",
         "Plug-in Hybrid Electric Vehicle (PHEV)",
         "Not eligible due to low battery range",
         "17",
         "34995",
         "35",
         "1851286",
         "POINT (-122.847462 47.63836)",
         "PUGET SOUND ENERGY INC",
         "53035091301"
        ],
        [
         "856",
         "5YJSA1H22E",
         "Clark",
         "Brush Prairie",
         "WA",
         "98606",
         "2014",
         "TESLA",
         "MODEL S",
         "Battery Electric Vehicle (BEV)",
         "Clean Alternative Fuel Vehicle Eligible",
         "208",
         "69900",
         "17",
         "106128977",
         "POINT (-122.5485715 45.7336587)",
         "BONNEVILLE POWER ADMINISTRATION||PUD NO 1 OF CLARK COUNTY - (WA)",
         "53011040715"
        ],
        [
         "912",
         "WBAJB1C50K",
         "King",
         "Bellevue",
         "WA",
         "98004",
         "2019",
         "BMW",
         "530E",
         "Plug-in Hybrid Electric Vehicle (PHEV)",
         "Not eligible due to low battery range",
         "15",
         "55700",
         "41",
         "133683868",
         "POINT (-122.201905 47.61385)",
         "PUGET SOUND ENERGY INC||CITY OF TACOMA - (WA)",
         "53033023901"
        ],
        [
         "974",
         "5YJSA1S13E",
         "Clark",
         "Vancouver",
         "WA",
         "98682",
         "2014",
         "TESLA",
         "MODEL S",
         "Battery Electric Vehicle (BEV)",
         "Clean Alternative Fuel Vehicle Eligible",
         "208",
         "69900",
         "17",
         "215553096",
         "POINT (-122.5146473 45.67862)",
         "BONNEVILLE POWER ADMINISTRATION||PUD NO 1 OF CLARK COUNTY - (WA)",
         "53011041331"
        ],
        [
         "1006",
         "LYVBR0DM3K",
         "King",
         "Seattle",
         "WA",
         "98112",
         "2019",
         "VOLVO",
         "XC60",
         "Plug-in Hybrid Electric Vehicle (PHEV)",
         "Not eligible due to low battery range",
         "17",
         "52900",
         "43",
         "338369720",
         "POINT (-122.30764 47.62523)",
         "CITY OF SEATTLE - (WA)|CITY OF TACOMA - (WA)",
         "53033006400"
        ],
        [
         "1037",
         "5YJSA1H13E",
         "King",
         "Seattle",
         "WA",
         "98103",
         "2014",
         "TESLA",
         "MODEL S",
         "Battery Electric Vehicle (BEV)",
         "Clean Alternative Fuel Vehicle Eligible",
         "208",
         "69900",
         "43",
         "163876149",
         "POINT (-122.34301 47.659185)",
         "CITY OF SEATTLE - (WA)|CITY OF TACOMA - (WA)",
         "53033005000"
        ],
        [
         "1129",
         "KNDJX3AE8G",
         "King",
         "Bothell",
         "WA",
         "98011",
         "2016",
         "KIA",
         "SOUL",
         "Battery Electric Vehicle (BEV)",
         "Clean Alternative Fuel Vehicle Eligible",
         "93",
         "31950",
         "1",
         "182376351",
         "POINT (-122.20578 47.762405)",
         "PUGET SOUND ENERGY INC||CITY OF TACOMA - (WA)",
         "53033022001"
        ],
        [
         "1276",
         "YV4BR0PL7J",
         "King",
         "Bellevue",
         "WA",
         "98008",
         "2018",
         "VOLVO",
         "XC90",
         "Plug-in Hybrid Electric Vehicle (PHEV)",
         "Not eligible due to low battery range",
         "19",
         "64950",
         "48",
         "196615730",
         "POINT (-122.11832 47.6245)",
         "PUGET SOUND ENERGY INC||CITY OF TACOMA - (WA)",
         "53033023000"
        ],
        [
         "1342",
         "LYVBR0DLXJ",
         "Stevens",
         "Nine Mile Falls",
         "WA",
         "99026",
         "2018",
         "VOLVO",
         "XC60",
         "Plug-in Hybrid Electric Vehicle (PHEV)",
         "Not eligible due to low battery range",
         "17",
         "52900",
         "7",
         "204745355",
         "POINT (-117.5967686 47.8204962)",
         "NO KNOWN ELECTRIC UTILITY SERVICE",
         "53065951402"
        ],
        [
         "1368",
         "KNDJX3AE1G",
         "Clark",
         "Vancouver",
         "WA",
         "98685",
         "2016",
         "KIA",
         "SOUL",
         "Battery Electric Vehicle (BEV)",
         "Clean Alternative Fuel Vehicle Eligible",
         "93",
         "31950",
         "49",
         "203914896",
         "POINT (-122.70302 45.703706)",
         "BONNEVILLE POWER ADMINISTRATION||PUD NO 1 OF CLARK COUNTY - (WA)",
         "53011040904"
        ],
        [
         "1441",
         "WBAJB1C5XJ",
         "Clark",
         "Vancouver",
         "WA",
         "98684",
         "2018",
         "BMW",
         "530E",
         "Plug-in Hybrid Electric Vehicle (PHEV)",
         "Not eligible due to low battery range",
         "14",
         "54950",
         "17",
         "141762148",
         "POINT (-122.51692 45.6228)",
         "BONNEVILLE POWER ADMINISTRATION||PUD NO 1 OF CLARK COUNTY - (WA)",
         "53011041319"
        ],
        [
         "1539",
         "5YJSA1H13E",
         "King",
         "Kirkland",
         "WA",
         "98034",
         "2014",
         "TESLA",
         "MODEL S",
         "Battery Electric Vehicle (BEV)",
         "Clean Alternative Fuel Vehicle Eligible",
         "208",
         "69900",
         "45",
         "184591088",
         "POINT (-122.209285 47.71124)",
         "PUGET SOUND ENERGY INC||CITY OF TACOMA - (WA)",
         "53033021905"
        ],
        [
         "1545",
         "LYVBR0DL2J",
         "Kitsap",
         "Bremerton",
         "WA",
         "98310",
         "2018",
         "VOLVO",
         "XC60",
         "Plug-in Hybrid Electric Vehicle (PHEV)",
         "Not eligible due to low battery range",
         "17",
         "52900",
         "23",
         "240710669",
         "POINT (-122.611365 47.575195)",
         "PUGET SOUND ENERGY INC",
         "53035080400"
        ],
        [
         "1546",
         "YH4K14AA6C",
         "King",
         "Bellevue",
         "WA",
         "98004",
         "2012",
         "FISKER",
         "KARMA",
         "Plug-in Hybrid Electric Vehicle (PHEV)",
         "Clean Alternative Fuel Vehicle Eligible",
         "33",
         "102000",
         "41",
         "124222514",
         "POINT (-122.201905 47.61385)",
         "PUGET SOUND ENERGY INC||CITY OF TACOMA - (WA)",
         "53033023901"
        ],
        [
         "1772",
         "KNDJX3AE0J",
         "King",
         "Kirkland",
         "WA",
         "98034",
         "2018",
         "KIA",
         "SOUL EV",
         "Battery Electric Vehicle (BEV)",
         "Clean Alternative Fuel Vehicle Eligible",
         "111",
         "33950",
         "45",
         "233709332",
         "POINT (-122.209285 47.71124)",
         "PUGET SOUND ENERGY INC||CITY OF TACOMA - (WA)",
         "53033022006"
        ],
        [
         "1775",
         "5YJSA1DP5C",
         "Clark",
         "Brush Prairie",
         "WA",
         "98606",
         "2012",
         "TESLA",
         "MODEL S",
         "Battery Electric Vehicle (BEV)",
         "Clean Alternative Fuel Vehicle Eligible",
         "265",
         "59900",
         "18",
         "131758497",
         "POINT (-122.5485715 45.7336587)",
         "BONNEVILLE POWER ADMINISTRATION||PUD NO 1 OF CLARK COUNTY - (WA)",
         "53011040505"
        ],
        [
         "1800",
         "5YJSA1DP8D",
         "King",
         "Redmond",
         "WA",
         "98052",
         "2013",
         "TESLA",
         "MODEL S",
         "Battery Electric Vehicle (BEV)",
         "Clean Alternative Fuel Vehicle Eligible",
         "208",
         "69900",
         "45",
         "104916234",
         "POINT (-122.12302 47.67668)",
         "PUGET SOUND ENERGY INC||CITY OF TACOMA - (WA)",
         "53033032324"
        ],
        [
         "1947",
         "KNDJP3AE8G",
         "King",
         "Redmond",
         "WA",
         "98052",
         "2016",
         "KIA",
         "SOUL",
         "Battery Electric Vehicle (BEV)",
         "Clean Alternative Fuel Vehicle Eligible",
         "93",
         "31950",
         "45",
         "144275582",
         "POINT (-122.12302 47.67668)",
         "PUGET SOUND ENERGY INC||CITY OF TACOMA - (WA)",
         "53033032323"
        ],
        [
         "1982",
         "WBAJA9C56K",
         "King",
         "Seattle",
         "WA",
         "98101",
         "2019",
         "BMW",
         "530E",
         "Plug-in Hybrid Electric Vehicle (PHEV)",
         "Not eligible due to low battery range",
         "16",
         "53400",
         "43",
         "8365962",
         "POINT (-122.335345 47.61079)",
         "CITY OF SEATTLE - (WA)|CITY OF TACOMA - (WA)",
         "53033008300"
        ],
        [
         "2098",
         "5YJSA1H16E",
         "King",
         "Bellevue",
         "WA",
         "98006",
         "2014",
         "TESLA",
         "MODEL S",
         "Battery Electric Vehicle (BEV)",
         "Clean Alternative Fuel Vehicle Eligible",
         "208",
         "69900",
         "41",
         "157846930",
         "POINT (-122.16937 47.571015)",
         "PUGET SOUND ENERGY INC||CITY OF TACOMA - (WA)",
         "53033024701"
        ],
        [
         "2129",
         "5YJSA1H13E",
         "King",
         "Redmond",
         "WA",
         "98052",
         "2014",
         "TESLA",
         "MODEL S",
         "Battery Electric Vehicle (BEV)",
         "Clean Alternative Fuel Vehicle Eligible",
         "208",
         "69900",
         "45",
         "234871829",
         "POINT (-122.12302 47.67668)",
         "PUGET SOUND ENERGY INC||CITY OF TACOMA - (WA)",
         "53033032324"
        ],
        [
         "2136",
         "5YJSA1H18E",
         "King",
         "Seattle",
         "WA",
         "98125",
         "2014",
         "TESLA",
         "MODEL S",
         "Battery Electric Vehicle (BEV)",
         "Clean Alternative Fuel Vehicle Eligible",
         "208",
         "69900",
         "46",
         "188638208",
         "POINT (-122.296385 47.71558)",
         "CITY OF SEATTLE - (WA)|CITY OF TACOMA - (WA)",
         "53033000102"
        ],
        [
         "2242",
         "5YJSA1H22E",
         "King",
         "Seattle",
         "WA",
         "98117",
         "2014",
         "TESLA",
         "MODEL S",
         "Battery Electric Vehicle (BEV)",
         "Clean Alternative Fuel Vehicle Eligible",
         "208",
         "69900",
         "36",
         "103437904",
         "POINT (-122.37275 47.68968)",
         "CITY OF SEATTLE - (WA)|CITY OF TACOMA - (WA)",
         "53033003000"
        ],
        [
         "2302",
         "WBA8E1C35H",
         "Clark",
         "Vancouver",
         "WA",
         "98683",
         "2017",
         "BMW",
         "330E",
         "Plug-in Hybrid Electric Vehicle (PHEV)",
         "Not eligible due to low battery range",
         "14",
         "44100",
         "18",
         "250417023",
         "POINT (-122.4853873 45.6083347)",
         "BONNEVILLE POWER ADMINISTRATION||PUD NO 1 OF CLARK COUNTY - (WA)",
         "53011041329"
        ],
        [
         "2507",
         "5YJSA1CN5C",
         "King",
         "Newcastle",
         "WA",
         "98056",
         "2012",
         "TESLA",
         "MODEL S",
         "Battery Electric Vehicle (BEV)",
         "Clean Alternative Fuel Vehicle Eligible",
         "265",
         "59900",
         "41",
         "186109808",
         "POINT (-122.180505 47.500055)",
         "PUGET SOUND ENERGY INC||CITY OF TACOMA - (WA)",
         "53033024703"
        ],
        [
         "2531",
         "5YJSA1AG1D",
         "Clark",
         "Vancouver",
         "WA",
         "98662",
         "2013",
         "TESLA",
         "MODEL S",
         "Battery Electric Vehicle (BEV)",
         "Clean Alternative Fuel Vehicle Eligible",
         "208",
         "69900",
         "17",
         "253744711",
         "POINT (-122.5918493 45.6617058)",
         "BONNEVILLE POWER ADMINISTRATION||PUD NO 1 OF CLARK COUNTY - (WA)",
         "53011040714"
        ],
        [
         "2632",
         "5YJSA1DN1C",
         "King",
         "Sammamish",
         "WA",
         "98075",
         "2012",
         "TESLA",
         "MODEL S",
         "Battery Electric Vehicle (BEV)",
         "Clean Alternative Fuel Vehicle Eligible",
         "265",
         "59900",
         "41",
         "116875328",
         "POINT (-122.03309 47.58153)",
         "PUGET SOUND ENERGY INC||CITY OF TACOMA - (WA)",
         "53033032213"
        ],
        [
         "2695",
         "KNDJX3AEXG",
         "King",
         "Kent",
         "WA",
         "98031",
         "2016",
         "KIA",
         "SOUL",
         "Battery Electric Vehicle (BEV)",
         "Clean Alternative Fuel Vehicle Eligible",
         "93",
         "31950",
         "47",
         "248114646",
         "POINT (-122.2012521 47.3931814)",
         "PUGET SOUND ENERGY INC||CITY OF TACOMA - (WA)",
         "53033029408"
        ],
        [
         "2700",
         "WMZYU7C58K",
         "King",
         "Kirkland",
         "WA",
         "98033",
         "2019",
         "MINI",
         "COUNTRYMAN",
         "Plug-in Hybrid Electric Vehicle (PHEV)",
         "Not eligible due to low battery range",
         "12",
         "36900",
         "48",
         "338987211",
         "POINT (-122.20264 47.6785)",
         "PUGET SOUND ENERGY INC||CITY OF TACOMA - (WA)",
         "53033022604"
        ],
        [
         "2729",
         "KNDJX3AE6J",
         "King",
         "Seattle",
         "WA",
         "98125",
         "2018",
         "KIA",
         "SOUL EV",
         "Battery Electric Vehicle (BEV)",
         "Clean Alternative Fuel Vehicle Eligible",
         "111",
         "33950",
         "46",
         "350154178",
         "POINT (-122.296385 47.71558)",
         "CITY OF SEATTLE - (WA)|CITY OF TACOMA - (WA)",
         "53033001000"
        ],
        [
         "2748",
         "5YJSA1AGXD",
         "King",
         "Kirkland",
         "WA",
         "98034",
         "2013",
         "TESLA",
         "MODEL S",
         "Battery Electric Vehicle (BEV)",
         "Clean Alternative Fuel Vehicle Eligible",
         "208",
         "69900",
         "45",
         "144762656",
         "POINT (-122.209285 47.71124)",
         "PUGET SOUND ENERGY INC||CITY OF TACOMA - (WA)",
         "53033022005"
        ],
        [
         "2757",
         "KNDJX3AE9G",
         "King",
         "Bellevue",
         "WA",
         "98008",
         "2016",
         "KIA",
         "SOUL",
         "Battery Electric Vehicle (BEV)",
         "Clean Alternative Fuel Vehicle Eligible",
         "93",
         "31950",
         "48",
         "202388840",
         "POINT (-122.11832 47.6245)",
         "PUGET SOUND ENERGY INC||CITY OF TACOMA - (WA)",
         "53033022901"
        ],
        [
         "2763",
         "LYVBR0DM5J",
         "King",
         "Kirkland",
         "WA",
         "98033",
         "2018",
         "VOLVO",
         "XC60",
         "Plug-in Hybrid Electric Vehicle (PHEV)",
         "Not eligible due to low battery range",
         "17",
         "52900",
         "45",
         "476000556",
         "POINT (-122.20264 47.6785)",
         "PUGET SOUND ENERGY INC||CITY OF TACOMA - (WA)",
         "53033022006"
        ],
        [
         "2851",
         "WBA8E1C36H",
         "King",
         "Kirkland",
         "WA",
         "98033",
         "2017",
         "BMW",
         "330E",
         "Plug-in Hybrid Electric Vehicle (PHEV)",
         "Not eligible due to low battery range",
         "14",
         "44100",
         "48",
         "350006135",
         "POINT (-122.20264 47.6785)",
         "PUGET SOUND ENERGY INC||CITY OF TACOMA - (WA)",
         "53033022701"
        ]
       ],
       "shape": {
        "columns": 17,
        "rows": 3331
       }
      },
      "text/html": [
       "<div>\n",
       "<style scoped>\n",
       "    .dataframe tbody tr th:only-of-type {\n",
       "        vertical-align: middle;\n",
       "    }\n",
       "\n",
       "    .dataframe tbody tr th {\n",
       "        vertical-align: top;\n",
       "    }\n",
       "\n",
       "    .dataframe thead th {\n",
       "        text-align: right;\n",
       "    }\n",
       "</style>\n",
       "<table border=\"1\" class=\"dataframe\">\n",
       "  <thead>\n",
       "    <tr style=\"text-align: right;\">\n",
       "      <th></th>\n",
       "      <th>VIN (1-10)</th>\n",
       "      <th>County</th>\n",
       "      <th>City</th>\n",
       "      <th>State</th>\n",
       "      <th>Postal Code</th>\n",
       "      <th>Model Year</th>\n",
       "      <th>Make</th>\n",
       "      <th>Model</th>\n",
       "      <th>Electric Vehicle Type</th>\n",
       "      <th>Clean Alternative Fuel Vehicle (CAFV) Eligibility</th>\n",
       "      <th>Electric Range</th>\n",
       "      <th>Base MSRP</th>\n",
       "      <th>Legislative District</th>\n",
       "      <th>DOL Vehicle ID</th>\n",
       "      <th>Vehicle Location</th>\n",
       "      <th>Electric Utility</th>\n",
       "      <th>2020 Census Tract</th>\n",
       "    </tr>\n",
       "  </thead>\n",
       "  <tbody>\n",
       "    <tr>\n",
       "      <th>30</th>\n",
       "      <td>KNDJX3AE9H</td>\n",
       "      <td>Thurston</td>\n",
       "      <td>Olympia</td>\n",
       "      <td>WA</td>\n",
       "      <td>98502</td>\n",
       "      <td>2017</td>\n",
       "      <td>KIA</td>\n",
       "      <td>SOUL EV</td>\n",
       "      <td>Battery Electric Vehicle (BEV)</td>\n",
       "      <td>Clean Alternative Fuel Vehicle Eligible</td>\n",
       "      <td>93</td>\n",
       "      <td>32250</td>\n",
       "      <td>22</td>\n",
       "      <td>140569600</td>\n",
       "      <td>POINT (-122.92145 47.045935)</td>\n",
       "      <td>PUGET SOUND ENERGY INC</td>\n",
       "      <td>53067012002</td>\n",
       "    </tr>\n",
       "    <tr>\n",
       "      <th>71</th>\n",
       "      <td>KNDJX3AE5G</td>\n",
       "      <td>Snohomish</td>\n",
       "      <td>Edmonds</td>\n",
       "      <td>WA</td>\n",
       "      <td>98020</td>\n",
       "      <td>2016</td>\n",
       "      <td>KIA</td>\n",
       "      <td>SOUL</td>\n",
       "      <td>Battery Electric Vehicle (BEV)</td>\n",
       "      <td>Clean Alternative Fuel Vehicle Eligible</td>\n",
       "      <td>93</td>\n",
       "      <td>31950</td>\n",
       "      <td>32</td>\n",
       "      <td>158961099</td>\n",
       "      <td>POINT (-122.37507 47.80807)</td>\n",
       "      <td>PUGET SOUND ENERGY INC</td>\n",
       "      <td>53061050700</td>\n",
       "    </tr>\n",
       "    <tr>\n",
       "      <th>187</th>\n",
       "      <td>5YJSA1DN6D</td>\n",
       "      <td>Yakima</td>\n",
       "      <td>Yakima</td>\n",
       "      <td>WA</td>\n",
       "      <td>98903</td>\n",
       "      <td>2013</td>\n",
       "      <td>TESLA</td>\n",
       "      <td>MODEL S</td>\n",
       "      <td>Battery Electric Vehicle (BEV)</td>\n",
       "      <td>Clean Alternative Fuel Vehicle Eligible</td>\n",
       "      <td>208</td>\n",
       "      <td>69900</td>\n",
       "      <td>14</td>\n",
       "      <td>156737612</td>\n",
       "      <td>POINT (-120.477805 46.553505)</td>\n",
       "      <td>PACIFICORP</td>\n",
       "      <td>53077003003</td>\n",
       "    </tr>\n",
       "    <tr>\n",
       "      <th>218</th>\n",
       "      <td>5YJSA1CG6D</td>\n",
       "      <td>Kitsap</td>\n",
       "      <td>Port Orchard</td>\n",
       "      <td>WA</td>\n",
       "      <td>98367</td>\n",
       "      <td>2013</td>\n",
       "      <td>TESLA</td>\n",
       "      <td>MODEL S</td>\n",
       "      <td>Battery Electric Vehicle (BEV)</td>\n",
       "      <td>Clean Alternative Fuel Vehicle Eligible</td>\n",
       "      <td>208</td>\n",
       "      <td>69900</td>\n",
       "      <td>26</td>\n",
       "      <td>124244284</td>\n",
       "      <td>POINT (-122.6847073 47.50524)</td>\n",
       "      <td>PUGET SOUND ENERGY INC</td>\n",
       "      <td>53035092902</td>\n",
       "    </tr>\n",
       "    <tr>\n",
       "      <th>293</th>\n",
       "      <td>WBA8E1C52H</td>\n",
       "      <td>King</td>\n",
       "      <td>Tukwila</td>\n",
       "      <td>WA</td>\n",
       "      <td>98168</td>\n",
       "      <td>2017</td>\n",
       "      <td>BMW</td>\n",
       "      <td>330E</td>\n",
       "      <td>Plug-in Hybrid Electric Vehicle (PHEV)</td>\n",
       "      <td>Not eligible due to low battery range</td>\n",
       "      <td>14</td>\n",
       "      <td>44100</td>\n",
       "      <td>11</td>\n",
       "      <td>139331412</td>\n",
       "      <td>POINT (-122.286465 47.476)</td>\n",
       "      <td>CITY OF SEATTLE - (WA)|CITY OF TACOMA - (WA)</td>\n",
       "      <td>53033027300</td>\n",
       "    </tr>\n",
       "    <tr>\n",
       "      <th>...</th>\n",
       "      <td>...</td>\n",
       "      <td>...</td>\n",
       "      <td>...</td>\n",
       "      <td>...</td>\n",
       "      <td>...</td>\n",
       "      <td>...</td>\n",
       "      <td>...</td>\n",
       "      <td>...</td>\n",
       "      <td>...</td>\n",
       "      <td>...</td>\n",
       "      <td>...</td>\n",
       "      <td>...</td>\n",
       "      <td>...</td>\n",
       "      <td>...</td>\n",
       "      <td>...</td>\n",
       "      <td>...</td>\n",
       "      <td>...</td>\n",
       "    </tr>\n",
       "    <tr>\n",
       "      <th>177581</th>\n",
       "      <td>KNDJP3AE2G</td>\n",
       "      <td>King</td>\n",
       "      <td>Vashon</td>\n",
       "      <td>WA</td>\n",
       "      <td>98070</td>\n",
       "      <td>2016</td>\n",
       "      <td>KIA</td>\n",
       "      <td>SOUL</td>\n",
       "      <td>Battery Electric Vehicle (BEV)</td>\n",
       "      <td>Clean Alternative Fuel Vehicle Eligible</td>\n",
       "      <td>93</td>\n",
       "      <td>31950</td>\n",
       "      <td>34</td>\n",
       "      <td>146484964</td>\n",
       "      <td>POINT (-122.46049 47.44873)</td>\n",
       "      <td>PUGET SOUND ENERGY INC||CITY OF TACOMA - (WA)</td>\n",
       "      <td>53033027701</td>\n",
       "    </tr>\n",
       "    <tr>\n",
       "      <th>177591</th>\n",
       "      <td>KNDJX3AE3H</td>\n",
       "      <td>Whatcom</td>\n",
       "      <td>Bellingham</td>\n",
       "      <td>WA</td>\n",
       "      <td>98225</td>\n",
       "      <td>2017</td>\n",
       "      <td>KIA</td>\n",
       "      <td>SOUL EV</td>\n",
       "      <td>Battery Electric Vehicle (BEV)</td>\n",
       "      <td>Clean Alternative Fuel Vehicle Eligible</td>\n",
       "      <td>93</td>\n",
       "      <td>32250</td>\n",
       "      <td>40</td>\n",
       "      <td>251839507</td>\n",
       "      <td>POINT (-122.486115 48.761615)</td>\n",
       "      <td>PUGET SOUND ENERGY INC||PUD NO 1 OF WHATCOM CO...</td>\n",
       "      <td>53073001101</td>\n",
       "    </tr>\n",
       "    <tr>\n",
       "      <th>177605</th>\n",
       "      <td>5YJSA1DP4D</td>\n",
       "      <td>Pierce</td>\n",
       "      <td>Gig Harbor</td>\n",
       "      <td>WA</td>\n",
       "      <td>98335</td>\n",
       "      <td>2013</td>\n",
       "      <td>TESLA</td>\n",
       "      <td>MODEL S</td>\n",
       "      <td>Battery Electric Vehicle (BEV)</td>\n",
       "      <td>Clean Alternative Fuel Vehicle Eligible</td>\n",
       "      <td>208</td>\n",
       "      <td>69900</td>\n",
       "      <td>26</td>\n",
       "      <td>231046714</td>\n",
       "      <td>POINT (-122.5835454 47.3234488)</td>\n",
       "      <td>BONNEVILLE POWER ADMINISTRATION||CITY OF TACOM...</td>\n",
       "      <td>53053072406</td>\n",
       "    </tr>\n",
       "    <tr>\n",
       "      <th>177723</th>\n",
       "      <td>LYVBR0DK8K</td>\n",
       "      <td>King</td>\n",
       "      <td>Renton</td>\n",
       "      <td>WA</td>\n",
       "      <td>98055</td>\n",
       "      <td>2019</td>\n",
       "      <td>VOLVO</td>\n",
       "      <td>XC60</td>\n",
       "      <td>Plug-in Hybrid Electric Vehicle (PHEV)</td>\n",
       "      <td>Not eligible due to low battery range</td>\n",
       "      <td>17</td>\n",
       "      <td>52900</td>\n",
       "      <td>33</td>\n",
       "      <td>289237567</td>\n",
       "      <td>POINT (-122.197 47.43876)</td>\n",
       "      <td>PUGET SOUND ENERGY INC||CITY OF TACOMA - (WA)</td>\n",
       "      <td>53033029309</td>\n",
       "    </tr>\n",
       "    <tr>\n",
       "      <th>177739</th>\n",
       "      <td>WBA8E1C54H</td>\n",
       "      <td>King</td>\n",
       "      <td>Bothell</td>\n",
       "      <td>WA</td>\n",
       "      <td>98011</td>\n",
       "      <td>2017</td>\n",
       "      <td>BMW</td>\n",
       "      <td>330E</td>\n",
       "      <td>Plug-in Hybrid Electric Vehicle (PHEV)</td>\n",
       "      <td>Not eligible due to low battery range</td>\n",
       "      <td>14</td>\n",
       "      <td>44100</td>\n",
       "      <td>1</td>\n",
       "      <td>256615488</td>\n",
       "      <td>POINT (-122.20578 47.762405)</td>\n",
       "      <td>PUGET SOUND ENERGY INC||CITY OF TACOMA - (WA)</td>\n",
       "      <td>53033021804</td>\n",
       "    </tr>\n",
       "  </tbody>\n",
       "</table>\n",
       "<p>3331 rows × 17 columns</p>\n",
       "</div>"
      ],
      "text/plain": [
       "        VIN (1-10)     County          City State Postal Code  Model Year  \\\n",
       "30      KNDJX3AE9H   Thurston       Olympia    WA       98502        2017   \n",
       "71      KNDJX3AE5G  Snohomish       Edmonds    WA       98020        2016   \n",
       "187     5YJSA1DN6D     Yakima        Yakima    WA       98903        2013   \n",
       "218     5YJSA1CG6D     Kitsap  Port Orchard    WA       98367        2013   \n",
       "293     WBA8E1C52H       King       Tukwila    WA       98168        2017   \n",
       "...            ...        ...           ...   ...         ...         ...   \n",
       "177581  KNDJP3AE2G       King        Vashon    WA       98070        2016   \n",
       "177591  KNDJX3AE3H    Whatcom    Bellingham    WA       98225        2017   \n",
       "177605  5YJSA1DP4D     Pierce    Gig Harbor    WA       98335        2013   \n",
       "177723  LYVBR0DK8K       King        Renton    WA       98055        2019   \n",
       "177739  WBA8E1C54H       King       Bothell    WA       98011        2017   \n",
       "\n",
       "         Make    Model                   Electric Vehicle Type  \\\n",
       "30        KIA  SOUL EV          Battery Electric Vehicle (BEV)   \n",
       "71        KIA     SOUL          Battery Electric Vehicle (BEV)   \n",
       "187     TESLA  MODEL S          Battery Electric Vehicle (BEV)   \n",
       "218     TESLA  MODEL S          Battery Electric Vehicle (BEV)   \n",
       "293       BMW     330E  Plug-in Hybrid Electric Vehicle (PHEV)   \n",
       "...       ...      ...                                     ...   \n",
       "177581    KIA     SOUL          Battery Electric Vehicle (BEV)   \n",
       "177591    KIA  SOUL EV          Battery Electric Vehicle (BEV)   \n",
       "177605  TESLA  MODEL S          Battery Electric Vehicle (BEV)   \n",
       "177723  VOLVO     XC60  Plug-in Hybrid Electric Vehicle (PHEV)   \n",
       "177739    BMW     330E  Plug-in Hybrid Electric Vehicle (PHEV)   \n",
       "\n",
       "       Clean Alternative Fuel Vehicle (CAFV) Eligibility  Electric Range  \\\n",
       "30               Clean Alternative Fuel Vehicle Eligible              93   \n",
       "71               Clean Alternative Fuel Vehicle Eligible              93   \n",
       "187              Clean Alternative Fuel Vehicle Eligible             208   \n",
       "218              Clean Alternative Fuel Vehicle Eligible             208   \n",
       "293                Not eligible due to low battery range              14   \n",
       "...                                                  ...             ...   \n",
       "177581           Clean Alternative Fuel Vehicle Eligible              93   \n",
       "177591           Clean Alternative Fuel Vehicle Eligible              93   \n",
       "177605           Clean Alternative Fuel Vehicle Eligible             208   \n",
       "177723             Not eligible due to low battery range              17   \n",
       "177739             Not eligible due to low battery range              14   \n",
       "\n",
       "        Base MSRP Legislative District DOL Vehicle ID  \\\n",
       "30          32250                   22      140569600   \n",
       "71          31950                   32      158961099   \n",
       "187         69900                   14      156737612   \n",
       "218         69900                   26      124244284   \n",
       "293         44100                   11      139331412   \n",
       "...           ...                  ...            ...   \n",
       "177581      31950                   34      146484964   \n",
       "177591      32250                   40      251839507   \n",
       "177605      69900                   26      231046714   \n",
       "177723      52900                   33      289237567   \n",
       "177739      44100                    1      256615488   \n",
       "\n",
       "                       Vehicle Location  \\\n",
       "30         POINT (-122.92145 47.045935)   \n",
       "71          POINT (-122.37507 47.80807)   \n",
       "187       POINT (-120.477805 46.553505)   \n",
       "218       POINT (-122.6847073 47.50524)   \n",
       "293          POINT (-122.286465 47.476)   \n",
       "...                                 ...   \n",
       "177581      POINT (-122.46049 47.44873)   \n",
       "177591    POINT (-122.486115 48.761615)   \n",
       "177605  POINT (-122.5835454 47.3234488)   \n",
       "177723        POINT (-122.197 47.43876)   \n",
       "177739     POINT (-122.20578 47.762405)   \n",
       "\n",
       "                                         Electric Utility 2020 Census Tract  \n",
       "30                                 PUGET SOUND ENERGY INC       53067012002  \n",
       "71                                 PUGET SOUND ENERGY INC       53061050700  \n",
       "187                                            PACIFICORP       53077003003  \n",
       "218                                PUGET SOUND ENERGY INC       53035092902  \n",
       "293          CITY OF SEATTLE - (WA)|CITY OF TACOMA - (WA)       53033027300  \n",
       "...                                                   ...               ...  \n",
       "177581      PUGET SOUND ENERGY INC||CITY OF TACOMA - (WA)       53033027701  \n",
       "177591  PUGET SOUND ENERGY INC||PUD NO 1 OF WHATCOM CO...       53073001101  \n",
       "177605  BONNEVILLE POWER ADMINISTRATION||CITY OF TACOM...       53053072406  \n",
       "177723      PUGET SOUND ENERGY INC||CITY OF TACOMA - (WA)       53033029309  \n",
       "177739      PUGET SOUND ENERGY INC||CITY OF TACOMA - (WA)       53033021804  \n",
       "\n",
       "[3331 rows x 17 columns]"
      ]
     },
     "metadata": {},
     "output_type": "display_data"
    }
   ],
   "source": [
    "# Base MSRP Outliers\n",
    "Q1 = df['Base MSRP'].quantile(0.25)\n",
    "Q3 = df['Base MSRP'].quantile(0.75)\n",
    "IQR = Q3 - Q1\n",
    "lower = Q1 - 1.5 * IQR\n",
    "upper = Q3 + 1.5 * IQR\n",
    "\n",
    "base_msrp_outliers = df[(df['Base MSRP'] < lower) | (df['Base MSRP'] > upper)]\n",
    "display(base_msrp_outliers)"
   ]
  },
  {
   "cell_type": "code",
   "execution_count": 157,
   "id": "1bcbf73e",
   "metadata": {},
   "outputs": [
    {
     "data": {
      "image/png": "[encoded data removed]",
      "text/plain": [
       "<Figure size 1500x800 with 3 Axes>"
      ]
     },
     "metadata": {},
     "output_type": "display_data"
    }
   ],
   "source": [
    "def plot_distributions(df, columns, n_cols=2, figsize=(15, 4)):\n",
    "    n_rows = (len(columns) - 1) // n_cols + 1\n",
    "    fig, axes = plt.subplots(n_rows, n_cols, figsize=(figsize[0], figsize[1] * n_rows))\n",
    "    axes = axes.flatten()  # Flatten the 2D array of axes for easier indexing\n",
    "\n",
    "    for i, column in enumerate(columns):\n",
    "        ax = axes[i]\n",
    "        sns.histplot(df[column], kde=True, ax=ax)\n",
    "        ax.set_title(f'Distribution of {column}')\n",
    "        ax.set_xlabel(column)\n",
    "        ax.set_ylabel('Count')\n",
    "\n",
    "        # Add skewness value to the plot\n",
    "        skewness = df[column].skew()\n",
    "        ax.text(0.95, 0.95, f'Skewness: {skewness:.2f}', \n",
    "                horizontalalignment='right', verticalalignment='top', \n",
    "                transform=ax.transAxes, bbox=dict(facecolor='white', alpha=0.5))\n",
    "\n",
    "    # Remove any unused subplots\n",
    "    for j in range(i + 1, len(axes)):\n",
    "        fig.delaxes(axes[j])\n",
    "\n",
    "    plt.tight_layout()\n",
    "    plt.show()\n",
    "# Usage\n",
    "columns_to_plot = ['Model Year', 'Electric Range', 'Base MSRP']\n",
    "plot_distributions(df, columns_to_plot);"
   ]
  },
  {
   "cell_type": "markdown",
   "id": "9b65a33c",
   "metadata": {},
   "source": [
    "### 🔍 Outlier and Distribution Analysis Summary\n",
    "\n",
    "We examined the distribution and skewness of three key numerical features: `Model Year`, `Electric Range`, and `Base MSRP`. Below are the insights and recommended handling steps:\n",
    "\n",
    "---\n",
    "\n",
    "#### 📅 Model Year\n",
    "- **Skewness**: -1.14 (moderately left-skewed)\n",
    "- **Insight**: Most vehicles are from recent years (2015–2023). A few extremely old entries (before 2000) may be outliers or errors.\n",
    "- **Action**: Filter out vehicles with `Model Year` < 2000 to maintain relevance for modern EVs. Cap `Model Year` values before 2000 to 2000 to reduce skew while retaining all rows.\n",
    "\n",
    "---\n",
    "\n",
    "#### 🔋 Electric Range\n",
    "- **Skewness**: 1.45 (moderately right-skewed)\n",
    "- **Insight**: The distribution is concentrated at lower ranges, with a long tail toward higher ranges (200–300+ miles).\n",
    "- **Action**: Retain all values, as they reflect realistic EV ranges. Consider log transformation if modeling is involved.\n",
    "\n",
    "---\n",
    "\n",
    "#### 💰 Base MSRP\n",
    "- **Skewness**: 13.40 (highly right-skewed)\n",
    "- **Insight**: Majority of vehicles are priced below $100,000, but there are some extreme outliers (up to $800,000+), likely representing luxury/supercars or data issues.\n",
    "- **Action**: Cap extreme values at a reasonable threshold (e.g., $200,000) or flag/remove them for cleaner analysis.\n",
    "\n",
    "---\n",
    "\n",
    "> These preprocessing decisions help reduce the impact of extreme values and skewed distributions, leading to more robust visualizations and modeling results."
   ]
  },
  {
   "cell_type": "markdown",
   "id": "0f4c85f0",
   "metadata": {},
   "source": [
    "## Removing Outliers"
   ]
  },
  {
   "cell_type": "code",
   "execution_count": 158,
   "id": "d37f5cea",
   "metadata": {},
   "outputs": [],
   "source": [
    "# Cap at 200K\n",
    "df['Base MSRP'] = df['Base MSRP'].apply(lambda x: min(x, 200000))"
   ]
  },
  {
   "cell_type": "code",
   "execution_count": 159,
   "id": "9c715ff6",
   "metadata": {},
   "outputs": [],
   "source": [
    "df['Model Year'] = df['Model Year'].apply(lambda x: max(x, 2000))"
   ]
  },
  {
   "cell_type": "markdown",
   "id": "581cbcb3",
   "metadata": {},
   "source": [
    "# EXPLORATORY DATA ANALYSIS (EDA)"
   ]
  },
  {
   "cell_type": "markdown",
   "id": "f28b5219",
   "metadata": {},
   "source": [
    "## Distribution of type of Electric Vehicles"
   ]
  },
  {
   "cell_type": "code",
   "execution_count": null,
   "metadata": {},
   "outputs": [],
   "source": []
  },
  {
   "cell_type": "markdown",
   "id": "7b4a9310",
   "metadata": {},
   "source": [
    "## Top ten(10) counties "
   ]
  },
  {
   "cell_type": "code",
   "execution_count": 160,
   "id": "813aff40",
   "metadata": {},
   "outputs": [
    {
     "data": {
      "text/plain": [
       "array(['King', 'Snohomish', 'Kitsap', 'Thurston', 'Yakima', 'Island',\n",
       "       'Chelan', 'Skagit', 'Spokane', 'Walla Walla', 'Grant', 'Stevens',\n",
       "       'Whitman', 'Kittitas', 'Pend Oreille', 'Clark', 'Cowlitz',\n",
       "       'Jefferson', 'Clallam', 'Klickitat', 'Pierce', 'Grays Harbor',\n",
       "       'Whatcom', 'Skamania', 'Wahkiakum', 'Benton', 'Franklin', 'Lewis',\n",
       "       'San Juan', 'Mason', 'Okanogan', 'Douglas', 'Adams', 'Pacific',\n",
       "       'Asotin', 'Columbia', 'Lincoln', 'Ferry', 'Garfield'], dtype=object)"
      ]
     },
     "execution_count": 160,
     "metadata": {},
     "output_type": "execute_result"
    }
   ],
   "source": [
    "df['County'].unique()"
   ]
  },
  {
   "cell_type": "markdown",
   "id": "527088df",
   "metadata": {},
   "source": [
    "## Analysis of EV growth Tread 2020 to 2024"
   ]
  },
  {
   "cell_type": "markdown",
   "id": "64d5b47e",
   "metadata": {},
   "source": [
    "## Top ten(10) Car Brands"
   ]
  },
  {
   "cell_type": "markdown",
   "id": "4d20dc16",
   "metadata": {},
   "source": [
    "## Analysis of distribution of EV Model"
   ]
  },
  {
   "cell_type": "markdown",
   "id": "3627850a",
   "metadata": {},
   "source": [
    "## Electric car trend by brand over years"
   ]
  },
  {
   "cell_type": "markdown",
   "id": "47d27249",
   "metadata": {},
   "source": [
    "## Analysis of distribution of EV Make over counties, years"
   ]
  },
  {
   "cell_type": "markdown",
   "id": "9df929d6",
   "metadata": {},
   "source": [
    "## Correlation between the Overall No. of BEVs and PHEVs"
   ]
  }
 ],
 "metadata": {
  "kernelspec": {
   "display_name": "Python 3",
   "language": "python",
   "name": "python3"
  },
  "language_info": {
   "codemirror_mode": {
    "name": "ipython",
    "version": 3
   },
   "file_extension": ".py",
   "mimetype": "text/x-python",
   "name": "python",
   "nbconvert_exporter": "python",
   "pygments_lexer": "ipython3",
   "version": "3.12.10"
  }
 },
 "nbformat": 4,
 "nbformat_minor": 5
}
